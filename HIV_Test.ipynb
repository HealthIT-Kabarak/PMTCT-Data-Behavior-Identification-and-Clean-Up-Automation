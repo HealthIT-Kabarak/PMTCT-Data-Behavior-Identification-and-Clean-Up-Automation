{
  "cells": [
    {
      "cell_type": "code",
      "execution_count": 3,
      "metadata": {
        "id": "lLlkU0meMIkK"
      },
      "outputs": [],
      "source": [
        "import pandas as pd\n",
        "import numpy as np\n",
        "import matplotlib.pyplot as plt\n",
        "import seaborn as sns\n",
        "import warnings\n",
        "warnings.filterwarnings(\"ignore\")\n",
        "from sklearn.model_selection import train_test_split, GridSearchCV, cross_validate\n",
        "from sklearn.linear_model import LogisticRegression\n",
        "from sklearn.impute import SimpleImputer\n",
        "from sklearn.preprocessing import StandardScaler, MinMaxScaler, OneHotEncoder, LabelEncoder\n",
        "from sklearn.pipeline import make_pipeline\n",
        "from sklearn.ensemble import RandomForestClassifier"
      ]
    },
    {
      "cell_type": "code",
      "execution_count": 4,
      "metadata": {
        "id": "R8r_NCyQOQF1"
      },
      "outputs": [],
      "source": [
        "HTS_TST_KSM_Migori = pd.read_csv(\"/home/ashioyajotham/HIV Testing/HTS_TST-KSM - Migori County.csv\")\n",
        "HTS_TST_KSM_Bungoma = pd.read_csv(\"/home/ashioyajotham/HIV Testing/HTS_TST-KSM - Bungoma County.csv\")\n",
        "HTS_TST_KSM_Kakamega = pd.read_csv(\"/home/ashioyajotham/HIV Testing/HTS_TST-KSM - Kakamega County.csv\")\n",
        "HTS_comparison21 = pd.read_csv(\"/home/ashioyajotham/HIV Testing/HTS_comparison21.csv\")\n",
        "PMTCT_KSM_Migori = pd.read_csv(\"/home/ashioyajotham/HIV Testing/PMTCT-KSM - Migori County.csv\")\n",
        "#PMTCT_KSM_Bungoma = pd.read_csv(\"/home/ashioyajotham/HIV Testing/PMTCT-KSM - Bungoma County.csv\")\n",
        "PMTCT_KSM_Kakamega = pd.read_csv(\"/home/ashioyajotham/HIV Testing/PMTCT-KSM - Kakamega County.csv\")\n",
        "PMTCT_comparison21 = pd.read_csv(\"/home/ashioyajotham/HIV Testing/PMTCT_comparison21.csv\")"
      ]
    },
    {
      "cell_type": "code",
      "execution_count": 4,
      "metadata": {
        "colab": {
          "base_uri": "https://localhost:8080/",
          "height": 337
        },
        "id": "WI7fv1IROP4l",
        "outputId": "f8c630d7-8c4f-450b-fc48-4f9f23969be3"
      },
      "outputs": [
        {
          "data": {
            "text/html": [
              "\n",
              "  <div id=\"df-88087d39-d13b-4564-a56a-3d2f9e605544\">\n",
              "    <div class=\"colab-df-container\">\n",
              "      <div>\n",
              "<style scoped>\n",
              "    .dataframe tbody tr th:only-of-type {\n",
              "        vertical-align: middle;\n",
              "    }\n",
              "\n",
              "    .dataframe tbody tr th {\n",
              "        vertical-align: top;\n",
              "    }\n",
              "\n",
              "    .dataframe thead th {\n",
              "        text-align: right;\n",
              "    }\n",
              "</style>\n",
              "<table border=\"1\" class=\"dataframe\">\n",
              "  <thead>\n",
              "    <tr style=\"text-align: right;\">\n",
              "      <th></th>\n",
              "      <th>facilityuid</th>\n",
              "      <th>facility</th>\n",
              "      <th>code</th>\n",
              "      <th>ward</th>\n",
              "      <th>sub_county</th>\n",
              "      <th>county</th>\n",
              "      <th>indicator</th>\n",
              "      <th>Indicator Name</th>\n",
              "      <th>period</th>\n",
              "      <th>dhis2_value</th>\n",
              "      <th>datim_value</th>\n",
              "    </tr>\n",
              "  </thead>\n",
              "  <tbody>\n",
              "    <tr>\n",
              "      <th>0</th>\n",
              "      <td>aCOEeeYEcsO</td>\n",
              "      <td>Rabondo Dispensary</td>\n",
              "      <td>14019</td>\n",
              "      <td>West sakwa Ward</td>\n",
              "      <td>Awendo Sub County</td>\n",
              "      <td>Migori County</td>\n",
              "      <td>JiuqbydCIcy</td>\n",
              "      <td>MOH 731 Tested_20-24(F) HV01-07</td>\n",
              "      <td>2019Q4</td>\n",
              "      <td>33</td>\n",
              "      <td>87.0</td>\n",
              "    </tr>\n",
              "    <tr>\n",
              "      <th>1</th>\n",
              "      <td>aCOEeeYEcsO</td>\n",
              "      <td>Rabondo Dispensary</td>\n",
              "      <td>14019</td>\n",
              "      <td>West sakwa Ward</td>\n",
              "      <td>Awendo Sub County</td>\n",
              "      <td>Migori County</td>\n",
              "      <td>OePJt8CcZ0d</td>\n",
              "      <td>MOH 731 Tested_1-9 HV01-01</td>\n",
              "      <td>2020Q1</td>\n",
              "      <td>14</td>\n",
              "      <td>13.0</td>\n",
              "    </tr>\n",
              "    <tr>\n",
              "      <th>2</th>\n",
              "      <td>aWpElDmioIw</td>\n",
              "      <td>Kuja Dispensary</td>\n",
              "      <td>13724</td>\n",
              "      <td>North sakwa Ward</td>\n",
              "      <td>Awendo Sub County</td>\n",
              "      <td>Migori County</td>\n",
              "      <td>JiuqbydCIcy</td>\n",
              "      <td>MOH 731 Tested_20-24(F) HV01-07</td>\n",
              "      <td>2019Q4</td>\n",
              "      <td>15</td>\n",
              "      <td>53.0</td>\n",
              "    </tr>\n",
              "    <tr>\n",
              "      <th>3</th>\n",
              "      <td>aWpElDmioIw</td>\n",
              "      <td>Kuja Dispensary</td>\n",
              "      <td>13724</td>\n",
              "      <td>North sakwa Ward</td>\n",
              "      <td>Awendo Sub County</td>\n",
              "      <td>Migori County</td>\n",
              "      <td>pkShOkgNQt2</td>\n",
              "      <td>MOH 731 Tested_20-24(M) HV01-06</td>\n",
              "      <td>2020Q2</td>\n",
              "      <td>9</td>\n",
              "      <td>10.0</td>\n",
              "    </tr>\n",
              "    <tr>\n",
              "      <th>4</th>\n",
              "      <td>aWpElDmioIw</td>\n",
              "      <td>Kuja Dispensary</td>\n",
              "      <td>13724</td>\n",
              "      <td>North sakwa Ward</td>\n",
              "      <td>Awendo Sub County</td>\n",
              "      <td>Migori County</td>\n",
              "      <td>YXJf27jfkvS</td>\n",
              "      <td>MOH 731 Tested_15-19(F) HV01-05</td>\n",
              "      <td>2019Q4</td>\n",
              "      <td>7</td>\n",
              "      <td>39.0</td>\n",
              "    </tr>\n",
              "  </tbody>\n",
              "</table>\n",
              "</div>\n",
              "      <button class=\"colab-df-convert\" onclick=\"convertToInteractive('df-88087d39-d13b-4564-a56a-3d2f9e605544')\"\n",
              "              title=\"Convert this dataframe to an interactive table.\"\n",
              "              style=\"display:none;\">\n",
              "        \n",
              "  <svg xmlns=\"http://www.w3.org/2000/svg\" height=\"24px\"viewBox=\"0 0 24 24\"\n",
              "       width=\"24px\">\n",
              "    <path d=\"M0 0h24v24H0V0z\" fill=\"none\"/>\n",
              "    <path d=\"M18.56 5.44l.94 2.06.94-2.06 2.06-.94-2.06-.94-.94-2.06-.94 2.06-2.06.94zm-11 1L8.5 8.5l.94-2.06 2.06-.94-2.06-.94L8.5 2.5l-.94 2.06-2.06.94zm10 10l.94 2.06.94-2.06 2.06-.94-2.06-.94-.94-2.06-.94 2.06-2.06.94z\"/><path d=\"M17.41 7.96l-1.37-1.37c-.4-.4-.92-.59-1.43-.59-.52 0-1.04.2-1.43.59L10.3 9.45l-7.72 7.72c-.78.78-.78 2.05 0 2.83L4 21.41c.39.39.9.59 1.41.59.51 0 1.02-.2 1.41-.59l7.78-7.78 2.81-2.81c.8-.78.8-2.07 0-2.86zM5.41 20L4 18.59l7.72-7.72 1.47 1.35L5.41 20z\"/>\n",
              "  </svg>\n",
              "      </button>\n",
              "      \n",
              "  <style>\n",
              "    .colab-df-container {\n",
              "      display:flex;\n",
              "      flex-wrap:wrap;\n",
              "      gap: 12px;\n",
              "    }\n",
              "\n",
              "    .colab-df-convert {\n",
              "      background-color: #E8F0FE;\n",
              "      border: none;\n",
              "      border-radius: 50%;\n",
              "      cursor: pointer;\n",
              "      display: none;\n",
              "      fill: #1967D2;\n",
              "      height: 32px;\n",
              "      padding: 0 0 0 0;\n",
              "      width: 32px;\n",
              "    }\n",
              "\n",
              "    .colab-df-convert:hover {\n",
              "      background-color: #E2EBFA;\n",
              "      box-shadow: 0px 1px 2px rgba(60, 64, 67, 0.3), 0px 1px 3px 1px rgba(60, 64, 67, 0.15);\n",
              "      fill: #174EA6;\n",
              "    }\n",
              "\n",
              "    [theme=dark] .colab-df-convert {\n",
              "      background-color: #3B4455;\n",
              "      fill: #D2E3FC;\n",
              "    }\n",
              "\n",
              "    [theme=dark] .colab-df-convert:hover {\n",
              "      background-color: #434B5C;\n",
              "      box-shadow: 0px 1px 3px 1px rgba(0, 0, 0, 0.15);\n",
              "      filter: drop-shadow(0px 1px 2px rgba(0, 0, 0, 0.3));\n",
              "      fill: #FFFFFF;\n",
              "    }\n",
              "  </style>\n",
              "\n",
              "      <script>\n",
              "        const buttonEl =\n",
              "          document.querySelector('#df-88087d39-d13b-4564-a56a-3d2f9e605544 button.colab-df-convert');\n",
              "        buttonEl.style.display =\n",
              "          google.colab.kernel.accessAllowed ? 'block' : 'none';\n",
              "\n",
              "        async function convertToInteractive(key) {\n",
              "          const element = document.querySelector('#df-88087d39-d13b-4564-a56a-3d2f9e605544');\n",
              "          const dataTable =\n",
              "            await google.colab.kernel.invokeFunction('convertToInteractive',\n",
              "                                                     [key], {});\n",
              "          if (!dataTable) return;\n",
              "\n",
              "          const docLinkHtml = 'Like what you see? Visit the ' +\n",
              "            '<a target=\"_blank\" href=https://colab.research.google.com/notebooks/data_table.ipynb>data table notebook</a>'\n",
              "            + ' to learn more about interactive tables.';\n",
              "          element.innerHTML = '';\n",
              "          dataTable['output_type'] = 'display_data';\n",
              "          await google.colab.output.renderOutput(dataTable, element);\n",
              "          const docLink = document.createElement('div');\n",
              "          docLink.innerHTML = docLinkHtml;\n",
              "          element.appendChild(docLink);\n",
              "        }\n",
              "      </script>\n",
              "    </div>\n",
              "  </div>\n",
              "  "
            ],
            "text/plain": [
              "   facilityuid            facility   code              ward  \\\n",
              "0  aCOEeeYEcsO  Rabondo Dispensary  14019   West sakwa Ward   \n",
              "1  aCOEeeYEcsO  Rabondo Dispensary  14019   West sakwa Ward   \n",
              "2  aWpElDmioIw     Kuja Dispensary  13724  North sakwa Ward   \n",
              "3  aWpElDmioIw     Kuja Dispensary  13724  North sakwa Ward   \n",
              "4  aWpElDmioIw     Kuja Dispensary  13724  North sakwa Ward   \n",
              "\n",
              "          sub_county         county    indicator  \\\n",
              "0  Awendo Sub County  Migori County  JiuqbydCIcy   \n",
              "1  Awendo Sub County  Migori County  OePJt8CcZ0d   \n",
              "2  Awendo Sub County  Migori County  JiuqbydCIcy   \n",
              "3  Awendo Sub County  Migori County  pkShOkgNQt2   \n",
              "4  Awendo Sub County  Migori County  YXJf27jfkvS   \n",
              "\n",
              "                    Indicator Name  period  dhis2_value  datim_value  \n",
              "0  MOH 731 Tested_20-24(F) HV01-07  2019Q4           33         87.0  \n",
              "1       MOH 731 Tested_1-9 HV01-01  2020Q1           14         13.0  \n",
              "2  MOH 731 Tested_20-24(F) HV01-07  2019Q4           15         53.0  \n",
              "3  MOH 731 Tested_20-24(M) HV01-06  2020Q2            9         10.0  \n",
              "4  MOH 731 Tested_15-19(F) HV01-05  2019Q4            7         39.0  "
            ]
          },
          "execution_count": 4,
          "metadata": {},
          "output_type": "execute_result"
        }
      ],
      "source": [
        "HTS_TST_KSM_Migori.head()"
      ]
    },
    {
      "cell_type": "code",
      "execution_count": 5,
      "metadata": {
        "colab": {
          "base_uri": "https://localhost:8080/",
          "height": 407
        },
        "id": "jAWnCvXQA7Te",
        "outputId": "a6807c05-5585-4460-f2d3-feebff4fa27e"
      },
      "outputs": [
        {
          "data": {
            "text/html": [
              "\n",
              "  <div id=\"df-a133a80a-17ac-4f92-909e-1ae1713b16a6\">\n",
              "    <div class=\"colab-df-container\">\n",
              "      <div>\n",
              "<style scoped>\n",
              "    .dataframe tbody tr th:only-of-type {\n",
              "        vertical-align: middle;\n",
              "    }\n",
              "\n",
              "    .dataframe tbody tr th {\n",
              "        vertical-align: top;\n",
              "    }\n",
              "\n",
              "    .dataframe thead th {\n",
              "        text-align: right;\n",
              "    }\n",
              "</style>\n",
              "<table border=\"1\" class=\"dataframe\">\n",
              "  <thead>\n",
              "    <tr style=\"text-align: right;\">\n",
              "      <th></th>\n",
              "      <th>facilityuid</th>\n",
              "      <th>facility</th>\n",
              "      <th>code</th>\n",
              "      <th>ward</th>\n",
              "      <th>sub_county</th>\n",
              "      <th>county</th>\n",
              "      <th>indicator</th>\n",
              "      <th>Indicator Name</th>\n",
              "      <th>period</th>\n",
              "      <th>dhis2_value</th>\n",
              "      <th>datim_value</th>\n",
              "    </tr>\n",
              "  </thead>\n",
              "  <tbody>\n",
              "    <tr>\n",
              "      <th>0</th>\n",
              "      <td>AqeQqDLlXDT</td>\n",
              "      <td>Kaptama (Friends) Health Centre</td>\n",
              "      <td>15925</td>\n",
              "      <td>Kaptama Ward</td>\n",
              "      <td>Mt Elgon Sub County</td>\n",
              "      <td>Bungoma County</td>\n",
              "      <td>gTkVw97FnQK</td>\n",
              "      <td>MOH 731 Tested_25+ (M) HV01-08</td>\n",
              "      <td>2020Q1</td>\n",
              "      <td>29</td>\n",
              "      <td>NaN</td>\n",
              "    </tr>\n",
              "    <tr>\n",
              "      <th>1</th>\n",
              "      <td>AqeQqDLlXDT</td>\n",
              "      <td>Kaptama (Friends) Health Centre</td>\n",
              "      <td>15925</td>\n",
              "      <td>Kaptama Ward</td>\n",
              "      <td>Mt Elgon Sub County</td>\n",
              "      <td>Bungoma County</td>\n",
              "      <td>JiuqbydCIcy</td>\n",
              "      <td>MOH 731 Tested_20-24(F) HV01-07</td>\n",
              "      <td>2019Q4</td>\n",
              "      <td>12</td>\n",
              "      <td>NaN</td>\n",
              "    </tr>\n",
              "    <tr>\n",
              "      <th>2</th>\n",
              "      <td>AqeQqDLlXDT</td>\n",
              "      <td>Kaptama (Friends) Health Centre</td>\n",
              "      <td>15925</td>\n",
              "      <td>Kaptama Ward</td>\n",
              "      <td>Mt Elgon Sub County</td>\n",
              "      <td>Bungoma County</td>\n",
              "      <td>JiuqbydCIcy</td>\n",
              "      <td>MOH 731 Tested_20-24(F) HV01-07</td>\n",
              "      <td>2020Q2</td>\n",
              "      <td>5</td>\n",
              "      <td>NaN</td>\n",
              "    </tr>\n",
              "    <tr>\n",
              "      <th>3</th>\n",
              "      <td>AqeQqDLlXDT</td>\n",
              "      <td>Kaptama (Friends) Health Centre</td>\n",
              "      <td>15925</td>\n",
              "      <td>Kaptama Ward</td>\n",
              "      <td>Mt Elgon Sub County</td>\n",
              "      <td>Bungoma County</td>\n",
              "      <td>YXJf27jfkvS</td>\n",
              "      <td>MOH 731 Tested_15-19(F) HV01-05</td>\n",
              "      <td>2020Q2</td>\n",
              "      <td>2</td>\n",
              "      <td>NaN</td>\n",
              "    </tr>\n",
              "    <tr>\n",
              "      <th>4</th>\n",
              "      <td>awNVSk5ZtGX</td>\n",
              "      <td>Khalumuli Dispensary</td>\n",
              "      <td>15932</td>\n",
              "      <td>sitikho Ward</td>\n",
              "      <td>Webuye West Sub County</td>\n",
              "      <td>Bungoma County</td>\n",
              "      <td>JiuqbydCIcy</td>\n",
              "      <td>MOH 731 Tested_20-24(F) HV01-07</td>\n",
              "      <td>2019Q4</td>\n",
              "      <td>13</td>\n",
              "      <td>28.0</td>\n",
              "    </tr>\n",
              "  </tbody>\n",
              "</table>\n",
              "</div>\n",
              "      <button class=\"colab-df-convert\" onclick=\"convertToInteractive('df-a133a80a-17ac-4f92-909e-1ae1713b16a6')\"\n",
              "              title=\"Convert this dataframe to an interactive table.\"\n",
              "              style=\"display:none;\">\n",
              "        \n",
              "  <svg xmlns=\"http://www.w3.org/2000/svg\" height=\"24px\"viewBox=\"0 0 24 24\"\n",
              "       width=\"24px\">\n",
              "    <path d=\"M0 0h24v24H0V0z\" fill=\"none\"/>\n",
              "    <path d=\"M18.56 5.44l.94 2.06.94-2.06 2.06-.94-2.06-.94-.94-2.06-.94 2.06-2.06.94zm-11 1L8.5 8.5l.94-2.06 2.06-.94-2.06-.94L8.5 2.5l-.94 2.06-2.06.94zm10 10l.94 2.06.94-2.06 2.06-.94-2.06-.94-.94-2.06-.94 2.06-2.06.94z\"/><path d=\"M17.41 7.96l-1.37-1.37c-.4-.4-.92-.59-1.43-.59-.52 0-1.04.2-1.43.59L10.3 9.45l-7.72 7.72c-.78.78-.78 2.05 0 2.83L4 21.41c.39.39.9.59 1.41.59.51 0 1.02-.2 1.41-.59l7.78-7.78 2.81-2.81c.8-.78.8-2.07 0-2.86zM5.41 20L4 18.59l7.72-7.72 1.47 1.35L5.41 20z\"/>\n",
              "  </svg>\n",
              "      </button>\n",
              "      \n",
              "  <style>\n",
              "    .colab-df-container {\n",
              "      display:flex;\n",
              "      flex-wrap:wrap;\n",
              "      gap: 12px;\n",
              "    }\n",
              "\n",
              "    .colab-df-convert {\n",
              "      background-color: #E8F0FE;\n",
              "      border: none;\n",
              "      border-radius: 50%;\n",
              "      cursor: pointer;\n",
              "      display: none;\n",
              "      fill: #1967D2;\n",
              "      height: 32px;\n",
              "      padding: 0 0 0 0;\n",
              "      width: 32px;\n",
              "    }\n",
              "\n",
              "    .colab-df-convert:hover {\n",
              "      background-color: #E2EBFA;\n",
              "      box-shadow: 0px 1px 2px rgba(60, 64, 67, 0.3), 0px 1px 3px 1px rgba(60, 64, 67, 0.15);\n",
              "      fill: #174EA6;\n",
              "    }\n",
              "\n",
              "    [theme=dark] .colab-df-convert {\n",
              "      background-color: #3B4455;\n",
              "      fill: #D2E3FC;\n",
              "    }\n",
              "\n",
              "    [theme=dark] .colab-df-convert:hover {\n",
              "      background-color: #434B5C;\n",
              "      box-shadow: 0px 1px 3px 1px rgba(0, 0, 0, 0.15);\n",
              "      filter: drop-shadow(0px 1px 2px rgba(0, 0, 0, 0.3));\n",
              "      fill: #FFFFFF;\n",
              "    }\n",
              "  </style>\n",
              "\n",
              "      <script>\n",
              "        const buttonEl =\n",
              "          document.querySelector('#df-a133a80a-17ac-4f92-909e-1ae1713b16a6 button.colab-df-convert');\n",
              "        buttonEl.style.display =\n",
              "          google.colab.kernel.accessAllowed ? 'block' : 'none';\n",
              "\n",
              "        async function convertToInteractive(key) {\n",
              "          const element = document.querySelector('#df-a133a80a-17ac-4f92-909e-1ae1713b16a6');\n",
              "          const dataTable =\n",
              "            await google.colab.kernel.invokeFunction('convertToInteractive',\n",
              "                                                     [key], {});\n",
              "          if (!dataTable) return;\n",
              "\n",
              "          const docLinkHtml = 'Like what you see? Visit the ' +\n",
              "            '<a target=\"_blank\" href=https://colab.research.google.com/notebooks/data_table.ipynb>data table notebook</a>'\n",
              "            + ' to learn more about interactive tables.';\n",
              "          element.innerHTML = '';\n",
              "          dataTable['output_type'] = 'display_data';\n",
              "          await google.colab.output.renderOutput(dataTable, element);\n",
              "          const docLink = document.createElement('div');\n",
              "          docLink.innerHTML = docLinkHtml;\n",
              "          element.appendChild(docLink);\n",
              "        }\n",
              "      </script>\n",
              "    </div>\n",
              "  </div>\n",
              "  "
            ],
            "text/plain": [
              "   facilityuid                         facility   code          ward  \\\n",
              "0  AqeQqDLlXDT  Kaptama (Friends) Health Centre  15925  Kaptama Ward   \n",
              "1  AqeQqDLlXDT  Kaptama (Friends) Health Centre  15925  Kaptama Ward   \n",
              "2  AqeQqDLlXDT  Kaptama (Friends) Health Centre  15925  Kaptama Ward   \n",
              "3  AqeQqDLlXDT  Kaptama (Friends) Health Centre  15925  Kaptama Ward   \n",
              "4  awNVSk5ZtGX             Khalumuli Dispensary  15932  sitikho Ward   \n",
              "\n",
              "               sub_county          county    indicator  \\\n",
              "0     Mt Elgon Sub County  Bungoma County  gTkVw97FnQK   \n",
              "1     Mt Elgon Sub County  Bungoma County  JiuqbydCIcy   \n",
              "2     Mt Elgon Sub County  Bungoma County  JiuqbydCIcy   \n",
              "3     Mt Elgon Sub County  Bungoma County  YXJf27jfkvS   \n",
              "4  Webuye West Sub County  Bungoma County  JiuqbydCIcy   \n",
              "\n",
              "                    Indicator Name  period  dhis2_value  datim_value  \n",
              "0   MOH 731 Tested_25+ (M) HV01-08  2020Q1           29          NaN  \n",
              "1  MOH 731 Tested_20-24(F) HV01-07  2019Q4           12          NaN  \n",
              "2  MOH 731 Tested_20-24(F) HV01-07  2020Q2            5          NaN  \n",
              "3  MOH 731 Tested_15-19(F) HV01-05  2020Q2            2          NaN  \n",
              "4  MOH 731 Tested_20-24(F) HV01-07  2019Q4           13         28.0  "
            ]
          },
          "execution_count": 5,
          "metadata": {},
          "output_type": "execute_result"
        }
      ],
      "source": [
        "HTS_TST_KSM_Bungoma.head()"
      ]
    },
    {
      "cell_type": "code",
      "execution_count": 6,
      "metadata": {
        "colab": {
          "base_uri": "https://localhost:8080/",
          "height": 337
        },
        "id": "Bon2Ke7dBC8N",
        "outputId": "36f9daf9-55a6-4867-bd0a-2fc8f82ce406"
      },
      "outputs": [
        {
          "data": {
            "text/html": [
              "\n",
              "  <div id=\"df-25efcd65-5263-4e25-9d5a-d908b06e9f98\">\n",
              "    <div class=\"colab-df-container\">\n",
              "      <div>\n",
              "<style scoped>\n",
              "    .dataframe tbody tr th:only-of-type {\n",
              "        vertical-align: middle;\n",
              "    }\n",
              "\n",
              "    .dataframe tbody tr th {\n",
              "        vertical-align: top;\n",
              "    }\n",
              "\n",
              "    .dataframe thead th {\n",
              "        text-align: right;\n",
              "    }\n",
              "</style>\n",
              "<table border=\"1\" class=\"dataframe\">\n",
              "  <thead>\n",
              "    <tr style=\"text-align: right;\">\n",
              "      <th></th>\n",
              "      <th>facilityuid</th>\n",
              "      <th>facility</th>\n",
              "      <th>code</th>\n",
              "      <th>ward</th>\n",
              "      <th>sub_county</th>\n",
              "      <th>county</th>\n",
              "      <th>indicator</th>\n",
              "      <th>Indicator Name</th>\n",
              "      <th>period</th>\n",
              "      <th>dhis2_value</th>\n",
              "      <th>datim_value</th>\n",
              "    </tr>\n",
              "  </thead>\n",
              "  <tbody>\n",
              "    <tr>\n",
              "      <th>0</th>\n",
              "      <td>AbSJUr5oge2</td>\n",
              "      <td>Likuyani Sub-District Hospital</td>\n",
              "      <td>15961</td>\n",
              "      <td>Likuyani Ward</td>\n",
              "      <td>Likuyani Sub County</td>\n",
              "      <td>Kakamega County</td>\n",
              "      <td>gTkVw97FnQK</td>\n",
              "      <td>MOH 731 Tested_25+ (M) HV01-08</td>\n",
              "      <td>2020Q2</td>\n",
              "      <td>93</td>\n",
              "      <td>96.0</td>\n",
              "    </tr>\n",
              "    <tr>\n",
              "      <th>1</th>\n",
              "      <td>AbSJUr5oge2</td>\n",
              "      <td>Likuyani Sub-District Hospital</td>\n",
              "      <td>15961</td>\n",
              "      <td>Likuyani Ward</td>\n",
              "      <td>Likuyani Sub County</td>\n",
              "      <td>Kakamega County</td>\n",
              "      <td>JiuqbydCIcy</td>\n",
              "      <td>MOH 731 Tested_20-24(F) HV01-07</td>\n",
              "      <td>2020Q1</td>\n",
              "      <td>43</td>\n",
              "      <td>110.0</td>\n",
              "    </tr>\n",
              "    <tr>\n",
              "      <th>2</th>\n",
              "      <td>AbSJUr5oge2</td>\n",
              "      <td>Likuyani Sub-District Hospital</td>\n",
              "      <td>15961</td>\n",
              "      <td>Likuyani Ward</td>\n",
              "      <td>Likuyani Sub County</td>\n",
              "      <td>Kakamega County</td>\n",
              "      <td>JiuqbydCIcy</td>\n",
              "      <td>MOH 731 Tested_20-24(F) HV01-07</td>\n",
              "      <td>2020Q2</td>\n",
              "      <td>24</td>\n",
              "      <td>92.0</td>\n",
              "    </tr>\n",
              "    <tr>\n",
              "      <th>3</th>\n",
              "      <td>AbSJUr5oge2</td>\n",
              "      <td>Likuyani Sub-District Hospital</td>\n",
              "      <td>15961</td>\n",
              "      <td>Likuyani Ward</td>\n",
              "      <td>Likuyani Sub County</td>\n",
              "      <td>Kakamega County</td>\n",
              "      <td>lj9QYJqS7bN</td>\n",
              "      <td>MOH 731 Tested_10-14 (M) HV01-02</td>\n",
              "      <td>2019Q4</td>\n",
              "      <td>1</td>\n",
              "      <td>1.0</td>\n",
              "    </tr>\n",
              "    <tr>\n",
              "      <th>4</th>\n",
              "      <td>AbSJUr5oge2</td>\n",
              "      <td>Likuyani Sub-District Hospital</td>\n",
              "      <td>15961</td>\n",
              "      <td>Likuyani Ward</td>\n",
              "      <td>Likuyani Sub County</td>\n",
              "      <td>Kakamega County</td>\n",
              "      <td>OePJt8CcZ0d</td>\n",
              "      <td>MOH 731 Tested_1-9 HV01-01</td>\n",
              "      <td>2020Q1</td>\n",
              "      <td>7</td>\n",
              "      <td>8.0</td>\n",
              "    </tr>\n",
              "  </tbody>\n",
              "</table>\n",
              "</div>\n",
              "      <button class=\"colab-df-convert\" onclick=\"convertToInteractive('df-25efcd65-5263-4e25-9d5a-d908b06e9f98')\"\n",
              "              title=\"Convert this dataframe to an interactive table.\"\n",
              "              style=\"display:none;\">\n",
              "        \n",
              "  <svg xmlns=\"http://www.w3.org/2000/svg\" height=\"24px\"viewBox=\"0 0 24 24\"\n",
              "       width=\"24px\">\n",
              "    <path d=\"M0 0h24v24H0V0z\" fill=\"none\"/>\n",
              "    <path d=\"M18.56 5.44l.94 2.06.94-2.06 2.06-.94-2.06-.94-.94-2.06-.94 2.06-2.06.94zm-11 1L8.5 8.5l.94-2.06 2.06-.94-2.06-.94L8.5 2.5l-.94 2.06-2.06.94zm10 10l.94 2.06.94-2.06 2.06-.94-2.06-.94-.94-2.06-.94 2.06-2.06.94z\"/><path d=\"M17.41 7.96l-1.37-1.37c-.4-.4-.92-.59-1.43-.59-.52 0-1.04.2-1.43.59L10.3 9.45l-7.72 7.72c-.78.78-.78 2.05 0 2.83L4 21.41c.39.39.9.59 1.41.59.51 0 1.02-.2 1.41-.59l7.78-7.78 2.81-2.81c.8-.78.8-2.07 0-2.86zM5.41 20L4 18.59l7.72-7.72 1.47 1.35L5.41 20z\"/>\n",
              "  </svg>\n",
              "      </button>\n",
              "      \n",
              "  <style>\n",
              "    .colab-df-container {\n",
              "      display:flex;\n",
              "      flex-wrap:wrap;\n",
              "      gap: 12px;\n",
              "    }\n",
              "\n",
              "    .colab-df-convert {\n",
              "      background-color: #E8F0FE;\n",
              "      border: none;\n",
              "      border-radius: 50%;\n",
              "      cursor: pointer;\n",
              "      display: none;\n",
              "      fill: #1967D2;\n",
              "      height: 32px;\n",
              "      padding: 0 0 0 0;\n",
              "      width: 32px;\n",
              "    }\n",
              "\n",
              "    .colab-df-convert:hover {\n",
              "      background-color: #E2EBFA;\n",
              "      box-shadow: 0px 1px 2px rgba(60, 64, 67, 0.3), 0px 1px 3px 1px rgba(60, 64, 67, 0.15);\n",
              "      fill: #174EA6;\n",
              "    }\n",
              "\n",
              "    [theme=dark] .colab-df-convert {\n",
              "      background-color: #3B4455;\n",
              "      fill: #D2E3FC;\n",
              "    }\n",
              "\n",
              "    [theme=dark] .colab-df-convert:hover {\n",
              "      background-color: #434B5C;\n",
              "      box-shadow: 0px 1px 3px 1px rgba(0, 0, 0, 0.15);\n",
              "      filter: drop-shadow(0px 1px 2px rgba(0, 0, 0, 0.3));\n",
              "      fill: #FFFFFF;\n",
              "    }\n",
              "  </style>\n",
              "\n",
              "      <script>\n",
              "        const buttonEl =\n",
              "          document.querySelector('#df-25efcd65-5263-4e25-9d5a-d908b06e9f98 button.colab-df-convert');\n",
              "        buttonEl.style.display =\n",
              "          google.colab.kernel.accessAllowed ? 'block' : 'none';\n",
              "\n",
              "        async function convertToInteractive(key) {\n",
              "          const element = document.querySelector('#df-25efcd65-5263-4e25-9d5a-d908b06e9f98');\n",
              "          const dataTable =\n",
              "            await google.colab.kernel.invokeFunction('convertToInteractive',\n",
              "                                                     [key], {});\n",
              "          if (!dataTable) return;\n",
              "\n",
              "          const docLinkHtml = 'Like what you see? Visit the ' +\n",
              "            '<a target=\"_blank\" href=https://colab.research.google.com/notebooks/data_table.ipynb>data table notebook</a>'\n",
              "            + ' to learn more about interactive tables.';\n",
              "          element.innerHTML = '';\n",
              "          dataTable['output_type'] = 'display_data';\n",
              "          await google.colab.output.renderOutput(dataTable, element);\n",
              "          const docLink = document.createElement('div');\n",
              "          docLink.innerHTML = docLinkHtml;\n",
              "          element.appendChild(docLink);\n",
              "        }\n",
              "      </script>\n",
              "    </div>\n",
              "  </div>\n",
              "  "
            ],
            "text/plain": [
              "   facilityuid                        facility   code           ward  \\\n",
              "0  AbSJUr5oge2  Likuyani Sub-District Hospital  15961  Likuyani Ward   \n",
              "1  AbSJUr5oge2  Likuyani Sub-District Hospital  15961  Likuyani Ward   \n",
              "2  AbSJUr5oge2  Likuyani Sub-District Hospital  15961  Likuyani Ward   \n",
              "3  AbSJUr5oge2  Likuyani Sub-District Hospital  15961  Likuyani Ward   \n",
              "4  AbSJUr5oge2  Likuyani Sub-District Hospital  15961  Likuyani Ward   \n",
              "\n",
              "            sub_county           county    indicator  \\\n",
              "0  Likuyani Sub County  Kakamega County  gTkVw97FnQK   \n",
              "1  Likuyani Sub County  Kakamega County  JiuqbydCIcy   \n",
              "2  Likuyani Sub County  Kakamega County  JiuqbydCIcy   \n",
              "3  Likuyani Sub County  Kakamega County  lj9QYJqS7bN   \n",
              "4  Likuyani Sub County  Kakamega County  OePJt8CcZ0d   \n",
              "\n",
              "                     Indicator Name  period  dhis2_value  datim_value  \n",
              "0    MOH 731 Tested_25+ (M) HV01-08  2020Q2           93         96.0  \n",
              "1   MOH 731 Tested_20-24(F) HV01-07  2020Q1           43        110.0  \n",
              "2   MOH 731 Tested_20-24(F) HV01-07  2020Q2           24         92.0  \n",
              "3  MOH 731 Tested_10-14 (M) HV01-02  2019Q4            1          1.0  \n",
              "4        MOH 731 Tested_1-9 HV01-01  2020Q1            7          8.0  "
            ]
          },
          "execution_count": 6,
          "metadata": {},
          "output_type": "execute_result"
        }
      ],
      "source": [
        "HTS_TST_KSM_Kakamega.head()"
      ]
    },
    {
      "cell_type": "code",
      "execution_count": 5,
      "metadata": {
        "colab": {
          "base_uri": "https://localhost:8080/",
          "height": 461
        },
        "id": "B8VrSioqBHzB",
        "outputId": "c85893d6-7b01-4609-f8d5-ca7cc15641dd"
      },
      "outputs": [
        {
          "data": {
            "text/html": [
              "<div>\n",
              "<style scoped>\n",
              "    .dataframe tbody tr th:only-of-type {\n",
              "        vertical-align: middle;\n",
              "    }\n",
              "\n",
              "    .dataframe tbody tr th {\n",
              "        vertical-align: top;\n",
              "    }\n",
              "\n",
              "    .dataframe thead th {\n",
              "        text-align: right;\n",
              "    }\n",
              "</style>\n",
              "<table border=\"1\" class=\"dataframe\">\n",
              "  <thead>\n",
              "    <tr style=\"text-align: right;\">\n",
              "      <th></th>\n",
              "      <th>facilityuid</th>\n",
              "      <th>facility</th>\n",
              "      <th>code</th>\n",
              "      <th>ward</th>\n",
              "      <th>sub_county</th>\n",
              "      <th>county</th>\n",
              "      <th>indicator</th>\n",
              "      <th>Indicator Name</th>\n",
              "      <th>period</th>\n",
              "      <th>dhis2_value</th>\n",
              "      <th>datim_value</th>\n",
              "    </tr>\n",
              "  </thead>\n",
              "  <tbody>\n",
              "    <tr>\n",
              "      <th>0</th>\n",
              "      <td>aCOEeeYEcsO</td>\n",
              "      <td>Rabondo Dispensary</td>\n",
              "      <td>14019</td>\n",
              "      <td>West sakwa Ward</td>\n",
              "      <td>Awendo Sub County</td>\n",
              "      <td>Migori County</td>\n",
              "      <td>JiuqbydCIcy</td>\n",
              "      <td>MOH 731 Tested_20-24(F) HV01-07</td>\n",
              "      <td>2019Q4</td>\n",
              "      <td>33</td>\n",
              "      <td>87.0</td>\n",
              "    </tr>\n",
              "    <tr>\n",
              "      <th>1</th>\n",
              "      <td>aCOEeeYEcsO</td>\n",
              "      <td>Rabondo Dispensary</td>\n",
              "      <td>14019</td>\n",
              "      <td>West sakwa Ward</td>\n",
              "      <td>Awendo Sub County</td>\n",
              "      <td>Migori County</td>\n",
              "      <td>OePJt8CcZ0d</td>\n",
              "      <td>MOH 731 Tested_1-9 HV01-01</td>\n",
              "      <td>2020Q1</td>\n",
              "      <td>14</td>\n",
              "      <td>13.0</td>\n",
              "    </tr>\n",
              "    <tr>\n",
              "      <th>2</th>\n",
              "      <td>aWpElDmioIw</td>\n",
              "      <td>Kuja Dispensary</td>\n",
              "      <td>13724</td>\n",
              "      <td>North sakwa Ward</td>\n",
              "      <td>Awendo Sub County</td>\n",
              "      <td>Migori County</td>\n",
              "      <td>JiuqbydCIcy</td>\n",
              "      <td>MOH 731 Tested_20-24(F) HV01-07</td>\n",
              "      <td>2019Q4</td>\n",
              "      <td>15</td>\n",
              "      <td>53.0</td>\n",
              "    </tr>\n",
              "    <tr>\n",
              "      <th>3</th>\n",
              "      <td>aWpElDmioIw</td>\n",
              "      <td>Kuja Dispensary</td>\n",
              "      <td>13724</td>\n",
              "      <td>North sakwa Ward</td>\n",
              "      <td>Awendo Sub County</td>\n",
              "      <td>Migori County</td>\n",
              "      <td>pkShOkgNQt2</td>\n",
              "      <td>MOH 731 Tested_20-24(M) HV01-06</td>\n",
              "      <td>2020Q2</td>\n",
              "      <td>9</td>\n",
              "      <td>10.0</td>\n",
              "    </tr>\n",
              "    <tr>\n",
              "      <th>4</th>\n",
              "      <td>aWpElDmioIw</td>\n",
              "      <td>Kuja Dispensary</td>\n",
              "      <td>13724</td>\n",
              "      <td>North sakwa Ward</td>\n",
              "      <td>Awendo Sub County</td>\n",
              "      <td>Migori County</td>\n",
              "      <td>YXJf27jfkvS</td>\n",
              "      <td>MOH 731 Tested_15-19(F) HV01-05</td>\n",
              "      <td>2019Q4</td>\n",
              "      <td>7</td>\n",
              "      <td>39.0</td>\n",
              "    </tr>\n",
              "  </tbody>\n",
              "</table>\n",
              "</div>"
            ],
            "text/plain": [
              "   facilityuid            facility   code              ward  \\\n",
              "0  aCOEeeYEcsO  Rabondo Dispensary  14019   West sakwa Ward   \n",
              "1  aCOEeeYEcsO  Rabondo Dispensary  14019   West sakwa Ward   \n",
              "2  aWpElDmioIw     Kuja Dispensary  13724  North sakwa Ward   \n",
              "3  aWpElDmioIw     Kuja Dispensary  13724  North sakwa Ward   \n",
              "4  aWpElDmioIw     Kuja Dispensary  13724  North sakwa Ward   \n",
              "\n",
              "          sub_county         county    indicator  \\\n",
              "0  Awendo Sub County  Migori County  JiuqbydCIcy   \n",
              "1  Awendo Sub County  Migori County  OePJt8CcZ0d   \n",
              "2  Awendo Sub County  Migori County  JiuqbydCIcy   \n",
              "3  Awendo Sub County  Migori County  pkShOkgNQt2   \n",
              "4  Awendo Sub County  Migori County  YXJf27jfkvS   \n",
              "\n",
              "                    Indicator Name  period  dhis2_value  datim_value  \n",
              "0  MOH 731 Tested_20-24(F) HV01-07  2019Q4           33         87.0  \n",
              "1       MOH 731 Tested_1-9 HV01-01  2020Q1           14         13.0  \n",
              "2  MOH 731 Tested_20-24(F) HV01-07  2019Q4           15         53.0  \n",
              "3  MOH 731 Tested_20-24(M) HV01-06  2020Q2            9         10.0  \n",
              "4  MOH 731 Tested_15-19(F) HV01-05  2019Q4            7         39.0  "
            ]
          },
          "execution_count": 5,
          "metadata": {},
          "output_type": "execute_result"
        }
      ],
      "source": [
        "HTS_TST_KSM = pd.concat([HTS_TST_KSM_Migori, HTS_TST_KSM_Bungoma, HTS_TST_KSM_Kakamega])\n",
        "HTS_TST_KSM.head()"
      ]
    },
    {
      "cell_type": "code",
      "execution_count": 6,
      "metadata": {
        "colab": {
          "base_uri": "https://localhost:8080/"
        },
        "id": "0aXwVXFtBxWp",
        "outputId": "4fafb66d-52e0-47e0-cab4-f0183893389b"
      },
      "outputs": [
        {
          "data": {
            "text/plain": [
              "(9322, 11)"
            ]
          },
          "execution_count": 6,
          "metadata": {},
          "output_type": "execute_result"
        }
      ],
      "source": [
        "HTS_TST_KSM.shape"
      ]
    },
    {
      "cell_type": "code",
      "execution_count": 9,
      "metadata": {
        "colab": {
          "base_uri": "https://localhost:8080/"
        },
        "id": "jXhyFZDOTzIB",
        "outputId": "ea409a6b-9e63-4686-d0e5-0a3aaa1cb353"
      },
      "outputs": [
        {
          "data": {
            "text/plain": [
              "Kakamega County    3688\n",
              "Migori County      3304\n",
              "Bungoma County     2330\n",
              "Name: county, dtype: int64"
            ]
          },
          "execution_count": 9,
          "metadata": {},
          "output_type": "execute_result"
        }
      ],
      "source": [
        "HTS_TST_KSM.county.value_counts()"
      ]
    },
    {
      "cell_type": "code",
      "execution_count": 7,
      "metadata": {
        "colab": {
          "base_uri": "https://localhost:8080/",
          "height": 461
        },
        "id": "dCWxT0VdZSjD",
        "outputId": "96aa3eb8-314a-42f5-f58b-e9dfc9e83116"
      },
      "outputs": [
        {
          "data": {
            "text/html": [
              "<div>\n",
              "<style scoped>\n",
              "    .dataframe tbody tr th:only-of-type {\n",
              "        vertical-align: middle;\n",
              "    }\n",
              "\n",
              "    .dataframe tbody tr th {\n",
              "        vertical-align: top;\n",
              "    }\n",
              "\n",
              "    .dataframe thead th {\n",
              "        text-align: right;\n",
              "    }\n",
              "</style>\n",
              "<table border=\"1\" class=\"dataframe\">\n",
              "  <thead>\n",
              "    <tr style=\"text-align: right;\">\n",
              "      <th></th>\n",
              "      <th>facility</th>\n",
              "      <th>ward</th>\n",
              "      <th>subcounty</th>\n",
              "      <th>county</th>\n",
              "      <th>MOH_FacilityID</th>\n",
              "      <th>MOH_IndicatorCode</th>\n",
              "      <th>indicators</th>\n",
              "      <th>khis_data</th>\n",
              "      <th>datim_data</th>\n",
              "      <th>Unnamed: 9</th>\n",
              "    </tr>\n",
              "  </thead>\n",
              "  <tbody>\n",
              "    <tr>\n",
              "      <th>0</th>\n",
              "      <td>Malaba Dispensary</td>\n",
              "      <td>Malaba Central Ward</td>\n",
              "      <td>Teso North Sub County</td>\n",
              "      <td>Busia County</td>\n",
              "      <td>a0qvQ3FrCD8</td>\n",
              "      <td>SCMKsiNj6c5</td>\n",
              "      <td>MOH 731   Start ART_25+(M)         HV03-024</td>\n",
              "      <td>7</td>\n",
              "      <td>7.0</td>\n",
              "      <td>0</td>\n",
              "    </tr>\n",
              "    <tr>\n",
              "      <th>1</th>\n",
              "      <td>Malaba Dispensary</td>\n",
              "      <td>Malaba Central Ward</td>\n",
              "      <td>Teso North Sub County</td>\n",
              "      <td>Busia County</td>\n",
              "      <td>a0qvQ3FrCD8</td>\n",
              "      <td>YXJf27jfkvS</td>\n",
              "      <td>MOH 731  Tested_15-19(F)  HV01-05</td>\n",
              "      <td>12</td>\n",
              "      <td>43.0</td>\n",
              "      <td>-31</td>\n",
              "    </tr>\n",
              "    <tr>\n",
              "      <th>2</th>\n",
              "      <td>Westlands Health Centre</td>\n",
              "      <td>Parklands/Highridge Ward</td>\n",
              "      <td>Westlands Sub County</td>\n",
              "      <td>Nairobi County</td>\n",
              "      <td>a0XwYzX3wfw</td>\n",
              "      <td>SCMKsiNj6c5</td>\n",
              "      <td>MOH 731   Start ART_25+(M)         HV03-024</td>\n",
              "      <td>7</td>\n",
              "      <td>6.0</td>\n",
              "      <td>1</td>\n",
              "    </tr>\n",
              "    <tr>\n",
              "      <th>3</th>\n",
              "      <td>Westlands Health Centre</td>\n",
              "      <td>Parklands/Highridge Ward</td>\n",
              "      <td>Westlands Sub County</td>\n",
              "      <td>Nairobi County</td>\n",
              "      <td>a0XwYzX3wfw</td>\n",
              "      <td>YXJf27jfkvS</td>\n",
              "      <td>MOH 731  Tested_15-19(F)  HV01-05</td>\n",
              "      <td>16</td>\n",
              "      <td>48.0</td>\n",
              "      <td>-32</td>\n",
              "    </tr>\n",
              "    <tr>\n",
              "      <th>4</th>\n",
              "      <td>Murang'a District Hospital</td>\n",
              "      <td>Township Ward</td>\n",
              "      <td>Kiharu Sub County</td>\n",
              "      <td>Muranga County</td>\n",
              "      <td>A19e0CHhTj3</td>\n",
              "      <td>gMICOUtzqRb</td>\n",
              "      <td>MOH 731  Tested_10-14(F)   HV01-03</td>\n",
              "      <td>19</td>\n",
              "      <td>45.0</td>\n",
              "      <td>-26</td>\n",
              "    </tr>\n",
              "  </tbody>\n",
              "</table>\n",
              "</div>"
            ],
            "text/plain": [
              "                     facility                      ward  \\\n",
              "0           Malaba Dispensary       Malaba Central Ward   \n",
              "1           Malaba Dispensary       Malaba Central Ward   \n",
              "2     Westlands Health Centre  Parklands/Highridge Ward   \n",
              "3     Westlands Health Centre  Parklands/Highridge Ward   \n",
              "4  Murang'a District Hospital             Township Ward   \n",
              "\n",
              "               subcounty          county MOH_FacilityID MOH_IndicatorCode  \\\n",
              "0  Teso North Sub County    Busia County    a0qvQ3FrCD8       SCMKsiNj6c5   \n",
              "1  Teso North Sub County    Busia County    a0qvQ3FrCD8       YXJf27jfkvS   \n",
              "2   Westlands Sub County  Nairobi County    a0XwYzX3wfw       SCMKsiNj6c5   \n",
              "3   Westlands Sub County  Nairobi County    a0XwYzX3wfw       YXJf27jfkvS   \n",
              "4      Kiharu Sub County  Muranga County    A19e0CHhTj3       gMICOUtzqRb   \n",
              "\n",
              "                                    indicators  khis_data  datim_data  \\\n",
              "0  MOH 731   Start ART_25+(M)         HV03-024          7         7.0   \n",
              "1            MOH 731  Tested_15-19(F)  HV01-05         12        43.0   \n",
              "2  MOH 731   Start ART_25+(M)         HV03-024          7         6.0   \n",
              "3            MOH 731  Tested_15-19(F)  HV01-05         16        48.0   \n",
              "4           MOH 731  Tested_10-14(F)   HV01-03         19        45.0   \n",
              "\n",
              "   Unnamed: 9  \n",
              "0           0  \n",
              "1         -31  \n",
              "2           1  \n",
              "3         -32  \n",
              "4         -26  "
            ]
          },
          "execution_count": 7,
          "metadata": {},
          "output_type": "execute_result"
        }
      ],
      "source": [
        "HTS_comparison21.head()"
      ]
    },
    {
      "cell_type": "code",
      "execution_count": 11,
      "metadata": {
        "colab": {
          "base_uri": "https://localhost:8080/"
        },
        "id": "a3J4PK2_TZ3b",
        "outputId": "625978a5-96aa-4a70-a66a-d9e0cc6b5338"
      },
      "outputs": [
        {
          "data": {
            "text/plain": [
              "35525"
            ]
          },
          "execution_count": 11,
          "metadata": {},
          "output_type": "execute_result"
        }
      ],
      "source": [
        "HTS_comparison21.county.value_counts().sum()"
      ]
    },
    {
      "cell_type": "code",
      "execution_count": 8,
      "metadata": {
        "colab": {
          "base_uri": "https://localhost:8080/",
          "height": 479
        },
        "id": "vIv858f1Z8-J",
        "outputId": "3d1ef035-c859-478d-c11d-35cd2b60e200"
      },
      "outputs": [
        {
          "data": {
            "text/html": [
              "<div>\n",
              "<style scoped>\n",
              "    .dataframe tbody tr th:only-of-type {\n",
              "        vertical-align: middle;\n",
              "    }\n",
              "\n",
              "    .dataframe tbody tr th {\n",
              "        vertical-align: top;\n",
              "    }\n",
              "\n",
              "    .dataframe thead th {\n",
              "        text-align: right;\n",
              "    }\n",
              "</style>\n",
              "<table border=\"1\" class=\"dataframe\">\n",
              "  <thead>\n",
              "    <tr style=\"text-align: right;\">\n",
              "      <th></th>\n",
              "      <th>facilityuid</th>\n",
              "      <th>facility</th>\n",
              "      <th>code</th>\n",
              "      <th>ward</th>\n",
              "      <th>sub_county</th>\n",
              "      <th>county</th>\n",
              "      <th>indicator</th>\n",
              "      <th>indicator_name</th>\n",
              "      <th>period</th>\n",
              "      <th>dhis2_value</th>\n",
              "      <th>datim_value</th>\n",
              "    </tr>\n",
              "  </thead>\n",
              "  <tbody>\n",
              "    <tr>\n",
              "      <th>0</th>\n",
              "      <td>SZnkrFoimi2</td>\n",
              "      <td>Kugitimo Health Centre</td>\n",
              "      <td>13723.0</td>\n",
              "      <td>Nyabasi east Ward</td>\n",
              "      <td>Kuria East Sub County</td>\n",
              "      <td>Migori County</td>\n",
              "      <td>ETX9cUWF43c</td>\n",
              "      <td>MOH 731  Initial test at ANC       HV02-04</td>\n",
              "      <td>2020Q1</td>\n",
              "      <td>64.0</td>\n",
              "      <td>64.0</td>\n",
              "    </tr>\n",
              "    <tr>\n",
              "      <th>1</th>\n",
              "      <td>xt2lltkTLza</td>\n",
              "      <td>Ntimaru Sub-District Hospital</td>\n",
              "      <td>13858.0</td>\n",
              "      <td>Ntimaru west Ward</td>\n",
              "      <td>Kuria East Sub County</td>\n",
              "      <td>Migori County</td>\n",
              "      <td>ETX9cUWF43c</td>\n",
              "      <td>MOH 731  Initial test at ANC       HV02-04</td>\n",
              "      <td>2019Q4</td>\n",
              "      <td>119.0</td>\n",
              "      <td>124.0</td>\n",
              "    </tr>\n",
              "    <tr>\n",
              "      <th>2</th>\n",
              "      <td>NoZjHcIDHGW</td>\n",
              "      <td>Kegonga District Hospital</td>\n",
              "      <td>13663.0</td>\n",
              "      <td>Nyabasi east Ward</td>\n",
              "      <td>Kuria East Sub County</td>\n",
              "      <td>Migori County</td>\n",
              "      <td>qSgLzXh46n9</td>\n",
              "      <td>MOH 731  Known Positive at 1st  ANC       HV02-03</td>\n",
              "      <td>2020Q2</td>\n",
              "      <td>1.0</td>\n",
              "      <td>1.0</td>\n",
              "    </tr>\n",
              "    <tr>\n",
              "      <th>3</th>\n",
              "      <td>SZnkrFoimi2</td>\n",
              "      <td>Kugitimo Health Centre</td>\n",
              "      <td>13723.0</td>\n",
              "      <td>Nyabasi east Ward</td>\n",
              "      <td>Kuria East Sub County</td>\n",
              "      <td>Migori County</td>\n",
              "      <td>ETX9cUWF43c</td>\n",
              "      <td>MOH 731  Initial test at ANC       HV02-04</td>\n",
              "      <td>2020Q2</td>\n",
              "      <td>46.0</td>\n",
              "      <td>45.0</td>\n",
              "    </tr>\n",
              "    <tr>\n",
              "      <th>4</th>\n",
              "      <td>xt2lltkTLza</td>\n",
              "      <td>Ntimaru Sub-District Hospital</td>\n",
              "      <td>13858.0</td>\n",
              "      <td>Ntimaru west Ward</td>\n",
              "      <td>Kuria East Sub County</td>\n",
              "      <td>Migori County</td>\n",
              "      <td>ETX9cUWF43c</td>\n",
              "      <td>MOH 731  Initial test at ANC       HV02-04</td>\n",
              "      <td>2020Q1</td>\n",
              "      <td>194.0</td>\n",
              "      <td>191.0</td>\n",
              "    </tr>\n",
              "  </tbody>\n",
              "</table>\n",
              "</div>"
            ],
            "text/plain": [
              "   facilityuid                       facility     code               ward  \\\n",
              "0  SZnkrFoimi2         Kugitimo Health Centre  13723.0  Nyabasi east Ward   \n",
              "1  xt2lltkTLza  Ntimaru Sub-District Hospital  13858.0  Ntimaru west Ward   \n",
              "2  NoZjHcIDHGW      Kegonga District Hospital  13663.0  Nyabasi east Ward   \n",
              "3  SZnkrFoimi2         Kugitimo Health Centre  13723.0  Nyabasi east Ward   \n",
              "4  xt2lltkTLza  Ntimaru Sub-District Hospital  13858.0  Ntimaru west Ward   \n",
              "\n",
              "              sub_county         county    indicator  \\\n",
              "0  Kuria East Sub County  Migori County  ETX9cUWF43c   \n",
              "1  Kuria East Sub County  Migori County  ETX9cUWF43c   \n",
              "2  Kuria East Sub County  Migori County  qSgLzXh46n9   \n",
              "3  Kuria East Sub County  Migori County  ETX9cUWF43c   \n",
              "4  Kuria East Sub County  Migori County  ETX9cUWF43c   \n",
              "\n",
              "                                      indicator_name  period  dhis2_value  \\\n",
              "0         MOH 731  Initial test at ANC       HV02-04  2020Q1         64.0   \n",
              "1         MOH 731  Initial test at ANC       HV02-04  2019Q4        119.0   \n",
              "2  MOH 731  Known Positive at 1st  ANC       HV02-03  2020Q2          1.0   \n",
              "3         MOH 731  Initial test at ANC       HV02-04  2020Q2         46.0   \n",
              "4         MOH 731  Initial test at ANC       HV02-04  2020Q1        194.0   \n",
              "\n",
              "   datim_value  \n",
              "0         64.0  \n",
              "1        124.0  \n",
              "2          1.0  \n",
              "3         45.0  \n",
              "4        191.0  "
            ]
          },
          "execution_count": 8,
          "metadata": {},
          "output_type": "execute_result"
        }
      ],
      "source": [
        "PMTCT_KSM = pd.concat([PMTCT_KSM_Migori, PMTCT_KSM_Kakamega])\n",
        "PMTCT_KSM.head()"
      ]
    },
    {
      "cell_type": "code",
      "execution_count": 13,
      "metadata": {
        "colab": {
          "base_uri": "https://localhost:8080/"
        },
        "id": "6ydPhSAMK2z-",
        "outputId": "52ca36d9-6007-40c0-e1bf-4c7791bedca9"
      },
      "outputs": [
        {
          "data": {
            "text/plain": [
              "Kakamega County    776\n",
              "Migori County      669\n",
              "Name: county, dtype: int64"
            ]
          },
          "execution_count": 13,
          "metadata": {},
          "output_type": "execute_result"
        }
      ],
      "source": [
        "PMTCT_KSM.county.value_counts()"
      ]
    },
    {
      "cell_type": "code",
      "execution_count": 14,
      "metadata": {
        "colab": {
          "base_uri": "https://localhost:8080/"
        },
        "id": "jPCnGy-7Idz_",
        "outputId": "1a3e4e96-98ad-425c-8b36-b7b2222f1dea"
      },
      "outputs": [
        {
          "data": {
            "text/plain": [
              "Index(['facilityuid', 'facility', 'code', 'ward', 'sub_county', 'county',\n",
              "       'indicator', 'indicator_name', 'period', 'dhis2_value', 'datim_value'],\n",
              "      dtype='object')"
            ]
          },
          "execution_count": 14,
          "metadata": {},
          "output_type": "execute_result"
        }
      ],
      "source": [
        "PMTCT_KSM.columns"
      ]
    },
    {
      "cell_type": "code",
      "execution_count": 15,
      "metadata": {
        "colab": {
          "base_uri": "https://localhost:8080/"
        },
        "id": "_-leKvovClCP",
        "outputId": "03961d95-7ba2-4240-f80c-e1a0daf71e99"
      },
      "outputs": [
        {
          "data": {
            "text/plain": [
              "(1651, 11)"
            ]
          },
          "execution_count": 15,
          "metadata": {},
          "output_type": "execute_result"
        }
      ],
      "source": [
        "PMTCT_KSM.shape"
      ]
    },
    {
      "cell_type": "code",
      "execution_count": 9,
      "metadata": {
        "colab": {
          "base_uri": "https://localhost:8080/",
          "height": 337
        },
        "id": "TQdu6B7IaGc2",
        "outputId": "fbafb866-d2ac-496f-fd68-b4796c33a8a9"
      },
      "outputs": [
        {
          "data": {
            "text/html": [
              "<div>\n",
              "<style scoped>\n",
              "    .dataframe tbody tr th:only-of-type {\n",
              "        vertical-align: middle;\n",
              "    }\n",
              "\n",
              "    .dataframe tbody tr th {\n",
              "        vertical-align: top;\n",
              "    }\n",
              "\n",
              "    .dataframe thead th {\n",
              "        text-align: right;\n",
              "    }\n",
              "</style>\n",
              "<table border=\"1\" class=\"dataframe\">\n",
              "  <thead>\n",
              "    <tr style=\"text-align: right;\">\n",
              "      <th></th>\n",
              "      <th>facility</th>\n",
              "      <th>ward</th>\n",
              "      <th>subcounty</th>\n",
              "      <th>county</th>\n",
              "      <th>MOH_FacilityID</th>\n",
              "      <th>MOH_IndicatorCode</th>\n",
              "      <th>indicators</th>\n",
              "      <th>khis_data</th>\n",
              "      <th>datim_data</th>\n",
              "    </tr>\n",
              "  </thead>\n",
              "  <tbody>\n",
              "    <tr>\n",
              "      <th>0</th>\n",
              "      <td>Malaba Dispensary</td>\n",
              "      <td>Malaba Central Ward</td>\n",
              "      <td>Teso North Sub County</td>\n",
              "      <td>Busia County</td>\n",
              "      <td>a0qvQ3FrCD8</td>\n",
              "      <td>ETX9cUWF43c</td>\n",
              "      <td>MOH 731  Initial test at ANC       HV02-04</td>\n",
              "      <td>207</td>\n",
              "      <td>269.0</td>\n",
              "    </tr>\n",
              "    <tr>\n",
              "      <th>1</th>\n",
              "      <td>Malaba Dispensary</td>\n",
              "      <td>Malaba Central Ward</td>\n",
              "      <td>Teso North Sub County</td>\n",
              "      <td>Busia County</td>\n",
              "      <td>a0qvQ3FrCD8</td>\n",
              "      <td>lJpaBye9B0H</td>\n",
              "      <td>MOH 731  On HAART at 1st ANC       HV02-16</td>\n",
              "      <td>10</td>\n",
              "      <td>20.0</td>\n",
              "    </tr>\n",
              "    <tr>\n",
              "      <th>2</th>\n",
              "      <td>Malaba Dispensary</td>\n",
              "      <td>Malaba Central Ward</td>\n",
              "      <td>Teso North Sub County</td>\n",
              "      <td>Busia County</td>\n",
              "      <td>a0qvQ3FrCD8</td>\n",
              "      <td>qSgLzXh46n9</td>\n",
              "      <td>MOH 731  Known Positive at 1st  ANC       HV02-03</td>\n",
              "      <td>10</td>\n",
              "      <td>10.0</td>\n",
              "    </tr>\n",
              "    <tr>\n",
              "      <th>3</th>\n",
              "      <td>Malaba Dispensary</td>\n",
              "      <td>Malaba Central Ward</td>\n",
              "      <td>Teso North Sub County</td>\n",
              "      <td>Busia County</td>\n",
              "      <td>a0qvQ3FrCD8</td>\n",
              "      <td>WNFWVHMqPv9</td>\n",
              "      <td>MOH 731  Start HAART_ANC       HV02-17</td>\n",
              "      <td>2</td>\n",
              "      <td>2.0</td>\n",
              "    </tr>\n",
              "    <tr>\n",
              "      <th>4</th>\n",
              "      <td>Westlands Health Centre</td>\n",
              "      <td>Parklands/Highridge Ward</td>\n",
              "      <td>Westlands Sub County</td>\n",
              "      <td>Nairobi County</td>\n",
              "      <td>a0XwYzX3wfw</td>\n",
              "      <td>ETX9cUWF43c</td>\n",
              "      <td>MOH 731  Initial test at ANC       HV02-04</td>\n",
              "      <td>525</td>\n",
              "      <td>535.0</td>\n",
              "    </tr>\n",
              "  </tbody>\n",
              "</table>\n",
              "</div>"
            ],
            "text/plain": [
              "                  facility                      ward              subcounty  \\\n",
              "0        Malaba Dispensary       Malaba Central Ward  Teso North Sub County   \n",
              "1        Malaba Dispensary       Malaba Central Ward  Teso North Sub County   \n",
              "2        Malaba Dispensary       Malaba Central Ward  Teso North Sub County   \n",
              "3        Malaba Dispensary       Malaba Central Ward  Teso North Sub County   \n",
              "4  Westlands Health Centre  Parklands/Highridge Ward   Westlands Sub County   \n",
              "\n",
              "           county MOH_FacilityID MOH_IndicatorCode  \\\n",
              "0    Busia County    a0qvQ3FrCD8       ETX9cUWF43c   \n",
              "1    Busia County    a0qvQ3FrCD8       lJpaBye9B0H   \n",
              "2    Busia County    a0qvQ3FrCD8       qSgLzXh46n9   \n",
              "3    Busia County    a0qvQ3FrCD8       WNFWVHMqPv9   \n",
              "4  Nairobi County    a0XwYzX3wfw       ETX9cUWF43c   \n",
              "\n",
              "                                          indicators  khis_data  datim_data  \n",
              "0         MOH 731  Initial test at ANC       HV02-04        207       269.0  \n",
              "1         MOH 731  On HAART at 1st ANC       HV02-16         10        20.0  \n",
              "2  MOH 731  Known Positive at 1st  ANC       HV02-03         10        10.0  \n",
              "3             MOH 731  Start HAART_ANC       HV02-17          2         2.0  \n",
              "4         MOH 731  Initial test at ANC       HV02-04        525       535.0  "
            ]
          },
          "execution_count": 9,
          "metadata": {},
          "output_type": "execute_result"
        }
      ],
      "source": [
        "PMTCT_comparison21.head()"
      ]
    },
    {
      "cell_type": "code",
      "execution_count": 17,
      "metadata": {
        "colab": {
          "base_uri": "https://localhost:8080/"
        },
        "id": "QDq8SljlLEgH",
        "outputId": "067f6211-86cd-4677-a0c6-ee86edaf0c20"
      },
      "outputs": [
        {
          "data": {
            "text/plain": [
              "7274"
            ]
          },
          "execution_count": 17,
          "metadata": {},
          "output_type": "execute_result"
        }
      ],
      "source": [
        "PMTCT_comparison21.county.value_counts().sum()"
      ]
    },
    {
      "cell_type": "markdown",
      "metadata": {
        "id": "TjQZnupdvzYf"
      },
      "source": [
        "# Data Cleaning"
      ]
    },
    {
      "cell_type": "code",
      "execution_count": 10,
      "metadata": {
        "id": "X6UdMySfszHn"
      },
      "outputs": [],
      "source": [
        "# Rename columns\n",
        "HTS_comparison21.rename(columns={'subcounty':'sub_county'}, inplace=True)\n",
        "HTS_comparison21.rename(columns={\"datim_data\":\"datim_value\"}, inplace=True)\n",
        "PMTCT_KSM.rename(columns={'subcounty':'sub_county'}, inplace=True)\n",
        "PMTCT_comparison21.rename(columns={'subcounty':'sub_county'}, inplace=True)\n",
        "HTS_TST_KSM.rename(columns={'Indicator Name':'indicators'}, inplace=True)\n",
        "PMTCT_KSM.rename(columns={'indicator_name':'indicators'}, inplace=True)\n",
        "PMTCT_comparison21.rename(columns={\"datim_data\":\"datim_value\"}, inplace=True)\n"
      ]
    },
    {
      "cell_type": "code",
      "execution_count": 11,
      "metadata": {
        "id": "GrA5nA8_s9vE"
      },
      "outputs": [],
      "source": [
        "# Drop columns\n",
        "HTS_comparison21.drop(['Unnamed: 9'], axis=1, inplace=True)"
      ]
    },
    {
      "cell_type": "code",
      "execution_count": 20,
      "metadata": {
        "colab": {
          "base_uri": "https://localhost:8080/"
        },
        "id": "eXcGcXvW0XWK",
        "outputId": "8308c7fc-4939-432e-8dff-3b587176aa6b"
      },
      "outputs": [
        {
          "name": "stdout",
          "output_type": "stream",
          "text": [
            "<class 'pandas.core.frame.DataFrame'>\n",
            "Int64Index: 9322 entries, 0 to 3687\n",
            "Data columns (total 11 columns):\n",
            " #   Column       Non-Null Count  Dtype  \n",
            "---  ------       --------------  -----  \n",
            " 0   facilityuid  9322 non-null   object \n",
            " 1   facility     9322 non-null   object \n",
            " 2   code         9322 non-null   int64  \n",
            " 3   ward         9322 non-null   object \n",
            " 4   sub_county   9322 non-null   object \n",
            " 5   county       9322 non-null   object \n",
            " 6   indicator    9322 non-null   object \n",
            " 7   indicators   9322 non-null   object \n",
            " 8   period       9322 non-null   object \n",
            " 9   dhis2_value  9322 non-null   int64  \n",
            " 10  datim_value  9162 non-null   float64\n",
            "dtypes: float64(1), int64(2), object(8)\n",
            "memory usage: 873.9+ KB\n"
          ]
        }
      ],
      "source": [
        "HTS_TST_KSM.info()"
      ]
    },
    {
      "cell_type": "code",
      "execution_count": 21,
      "metadata": {
        "colab": {
          "base_uri": "https://localhost:8080/"
        },
        "id": "_rHy7glB0hJu",
        "outputId": "cfd0838b-405c-4cdf-a8fa-345d38148ef1"
      },
      "outputs": [
        {
          "name": "stdout",
          "output_type": "stream",
          "text": [
            "<class 'pandas.core.frame.DataFrame'>\n",
            "RangeIndex: 35525 entries, 0 to 35524\n",
            "Data columns (total 9 columns):\n",
            " #   Column             Non-Null Count  Dtype  \n",
            "---  ------             --------------  -----  \n",
            " 0   facility           35525 non-null  object \n",
            " 1   ward               35525 non-null  object \n",
            " 2   sub_county         35525 non-null  object \n",
            " 3   county             35525 non-null  object \n",
            " 4   MOH_FacilityID     35525 non-null  object \n",
            " 5   MOH_IndicatorCode  35525 non-null  object \n",
            " 6   indicators         35525 non-null  object \n",
            " 7   khis_data          35525 non-null  int64  \n",
            " 8   datim_value        34569 non-null  float64\n",
            "dtypes: float64(1), int64(1), object(7)\n",
            "memory usage: 2.4+ MB\n"
          ]
        }
      ],
      "source": [
        "HTS_comparison21.info()"
      ]
    },
    {
      "cell_type": "code",
      "execution_count": 22,
      "metadata": {
        "colab": {
          "base_uri": "https://localhost:8080/"
        },
        "id": "d0EpRDoX0lmq",
        "outputId": "d838b4ac-c5b7-4098-9f34-0253ae5fee87"
      },
      "outputs": [
        {
          "name": "stdout",
          "output_type": "stream",
          "text": [
            "<class 'pandas.core.frame.DataFrame'>\n",
            "Int64Index: 1651 entries, 0 to 775\n",
            "Data columns (total 11 columns):\n",
            " #   Column       Non-Null Count  Dtype  \n",
            "---  ------       --------------  -----  \n",
            " 0   facilityuid  1445 non-null   object \n",
            " 1   facility     1445 non-null   object \n",
            " 2   code         1445 non-null   float64\n",
            " 3   ward         1445 non-null   object \n",
            " 4   sub_county   1445 non-null   object \n",
            " 5   county       1445 non-null   object \n",
            " 6   indicator    1445 non-null   object \n",
            " 7   indicators   1445 non-null   object \n",
            " 8   period       1445 non-null   object \n",
            " 9   dhis2_value  1445 non-null   float64\n",
            " 10  datim_value  1432 non-null   float64\n",
            "dtypes: float64(3), object(8)\n",
            "memory usage: 154.8+ KB\n"
          ]
        }
      ],
      "source": [
        "PMTCT_KSM.info()"
      ]
    },
    {
      "cell_type": "code",
      "execution_count": 23,
      "metadata": {
        "colab": {
          "base_uri": "https://localhost:8080/"
        },
        "id": "vuravJsV0p30",
        "outputId": "97063645-bc2c-4e39-f4be-889a737aa52e"
      },
      "outputs": [
        {
          "name": "stdout",
          "output_type": "stream",
          "text": [
            "<class 'pandas.core.frame.DataFrame'>\n",
            "RangeIndex: 7274 entries, 0 to 7273\n",
            "Data columns (total 9 columns):\n",
            " #   Column             Non-Null Count  Dtype  \n",
            "---  ------             --------------  -----  \n",
            " 0   facility           7274 non-null   object \n",
            " 1   ward               7274 non-null   object \n",
            " 2   sub_county         7274 non-null   object \n",
            " 3   county             7274 non-null   object \n",
            " 4   MOH_FacilityID     7274 non-null   object \n",
            " 5   MOH_IndicatorCode  7274 non-null   object \n",
            " 6   indicators         7274 non-null   object \n",
            " 7   khis_data          7274 non-null   int64  \n",
            " 8   datim_value        7085 non-null   float64\n",
            "dtypes: float64(1), int64(1), object(7)\n",
            "memory usage: 511.6+ KB\n"
          ]
        }
      ],
      "source": [
        "PMTCT_comparison21.info()"
      ]
    },
    {
      "cell_type": "code",
      "execution_count": 12,
      "metadata": {
        "id": "xnwRkB6I0yCS"
      },
      "outputs": [],
      "source": [
        "# Merge the dfs\n",
        "HTS_PMTCT_KSM = pd.concat([HTS_TST_KSM, PMTCT_KSM])"
      ]
    },
    {
      "cell_type": "code",
      "execution_count": 13,
      "metadata": {
        "colab": {
          "base_uri": "https://localhost:8080/",
          "height": 444
        },
        "id": "bzP8Go9l5nqe",
        "outputId": "67f666a3-8f14-4d47-ea14-cf9b3e46e0c3"
      },
      "outputs": [
        {
          "data": {
            "text/html": [
              "<div>\n",
              "<style scoped>\n",
              "    .dataframe tbody tr th:only-of-type {\n",
              "        vertical-align: middle;\n",
              "    }\n",
              "\n",
              "    .dataframe tbody tr th {\n",
              "        vertical-align: top;\n",
              "    }\n",
              "\n",
              "    .dataframe thead th {\n",
              "        text-align: right;\n",
              "    }\n",
              "</style>\n",
              "<table border=\"1\" class=\"dataframe\">\n",
              "  <thead>\n",
              "    <tr style=\"text-align: right;\">\n",
              "      <th></th>\n",
              "      <th>facilityuid</th>\n",
              "      <th>facility</th>\n",
              "      <th>code</th>\n",
              "      <th>ward</th>\n",
              "      <th>sub_county</th>\n",
              "      <th>county</th>\n",
              "      <th>indicator</th>\n",
              "      <th>indicators</th>\n",
              "      <th>period</th>\n",
              "      <th>dhis2_value</th>\n",
              "      <th>datim_value</th>\n",
              "    </tr>\n",
              "  </thead>\n",
              "  <tbody>\n",
              "    <tr>\n",
              "      <th>0</th>\n",
              "      <td>aCOEeeYEcsO</td>\n",
              "      <td>Rabondo Dispensary</td>\n",
              "      <td>14019.0</td>\n",
              "      <td>West sakwa Ward</td>\n",
              "      <td>Awendo Sub County</td>\n",
              "      <td>Migori County</td>\n",
              "      <td>JiuqbydCIcy</td>\n",
              "      <td>MOH 731 Tested_20-24(F) HV01-07</td>\n",
              "      <td>2019Q4</td>\n",
              "      <td>33.0</td>\n",
              "      <td>87.0</td>\n",
              "    </tr>\n",
              "    <tr>\n",
              "      <th>1</th>\n",
              "      <td>aCOEeeYEcsO</td>\n",
              "      <td>Rabondo Dispensary</td>\n",
              "      <td>14019.0</td>\n",
              "      <td>West sakwa Ward</td>\n",
              "      <td>Awendo Sub County</td>\n",
              "      <td>Migori County</td>\n",
              "      <td>OePJt8CcZ0d</td>\n",
              "      <td>MOH 731 Tested_1-9 HV01-01</td>\n",
              "      <td>2020Q1</td>\n",
              "      <td>14.0</td>\n",
              "      <td>13.0</td>\n",
              "    </tr>\n",
              "    <tr>\n",
              "      <th>2</th>\n",
              "      <td>aWpElDmioIw</td>\n",
              "      <td>Kuja Dispensary</td>\n",
              "      <td>13724.0</td>\n",
              "      <td>North sakwa Ward</td>\n",
              "      <td>Awendo Sub County</td>\n",
              "      <td>Migori County</td>\n",
              "      <td>JiuqbydCIcy</td>\n",
              "      <td>MOH 731 Tested_20-24(F) HV01-07</td>\n",
              "      <td>2019Q4</td>\n",
              "      <td>15.0</td>\n",
              "      <td>53.0</td>\n",
              "    </tr>\n",
              "    <tr>\n",
              "      <th>3</th>\n",
              "      <td>aWpElDmioIw</td>\n",
              "      <td>Kuja Dispensary</td>\n",
              "      <td>13724.0</td>\n",
              "      <td>North sakwa Ward</td>\n",
              "      <td>Awendo Sub County</td>\n",
              "      <td>Migori County</td>\n",
              "      <td>pkShOkgNQt2</td>\n",
              "      <td>MOH 731 Tested_20-24(M) HV01-06</td>\n",
              "      <td>2020Q2</td>\n",
              "      <td>9.0</td>\n",
              "      <td>10.0</td>\n",
              "    </tr>\n",
              "    <tr>\n",
              "      <th>4</th>\n",
              "      <td>aWpElDmioIw</td>\n",
              "      <td>Kuja Dispensary</td>\n",
              "      <td>13724.0</td>\n",
              "      <td>North sakwa Ward</td>\n",
              "      <td>Awendo Sub County</td>\n",
              "      <td>Migori County</td>\n",
              "      <td>YXJf27jfkvS</td>\n",
              "      <td>MOH 731 Tested_15-19(F) HV01-05</td>\n",
              "      <td>2019Q4</td>\n",
              "      <td>7.0</td>\n",
              "      <td>39.0</td>\n",
              "    </tr>\n",
              "  </tbody>\n",
              "</table>\n",
              "</div>"
            ],
            "text/plain": [
              "   facilityuid            facility     code              ward  \\\n",
              "0  aCOEeeYEcsO  Rabondo Dispensary  14019.0   West sakwa Ward   \n",
              "1  aCOEeeYEcsO  Rabondo Dispensary  14019.0   West sakwa Ward   \n",
              "2  aWpElDmioIw     Kuja Dispensary  13724.0  North sakwa Ward   \n",
              "3  aWpElDmioIw     Kuja Dispensary  13724.0  North sakwa Ward   \n",
              "4  aWpElDmioIw     Kuja Dispensary  13724.0  North sakwa Ward   \n",
              "\n",
              "          sub_county         county    indicator  \\\n",
              "0  Awendo Sub County  Migori County  JiuqbydCIcy   \n",
              "1  Awendo Sub County  Migori County  OePJt8CcZ0d   \n",
              "2  Awendo Sub County  Migori County  JiuqbydCIcy   \n",
              "3  Awendo Sub County  Migori County  pkShOkgNQt2   \n",
              "4  Awendo Sub County  Migori County  YXJf27jfkvS   \n",
              "\n",
              "                        indicators  period  dhis2_value  datim_value  \n",
              "0  MOH 731 Tested_20-24(F) HV01-07  2019Q4         33.0         87.0  \n",
              "1       MOH 731 Tested_1-9 HV01-01  2020Q1         14.0         13.0  \n",
              "2  MOH 731 Tested_20-24(F) HV01-07  2019Q4         15.0         53.0  \n",
              "3  MOH 731 Tested_20-24(M) HV01-06  2020Q2          9.0         10.0  \n",
              "4  MOH 731 Tested_15-19(F) HV01-05  2019Q4          7.0         39.0  "
            ]
          },
          "execution_count": 13,
          "metadata": {},
          "output_type": "execute_result"
        }
      ],
      "source": [
        "HTS_PMTCT_KSM.head()"
      ]
    },
    {
      "cell_type": "code",
      "execution_count": 14,
      "metadata": {
        "colab": {
          "base_uri": "https://localhost:8080/",
          "height": 337
        },
        "id": "y4-A02vj56T1",
        "outputId": "5f4ee323-3e0b-4fb2-af21-70d360ce703e"
      },
      "outputs": [
        {
          "data": {
            "text/html": [
              "<div>\n",
              "<style scoped>\n",
              "    .dataframe tbody tr th:only-of-type {\n",
              "        vertical-align: middle;\n",
              "    }\n",
              "\n",
              "    .dataframe tbody tr th {\n",
              "        vertical-align: top;\n",
              "    }\n",
              "\n",
              "    .dataframe thead th {\n",
              "        text-align: right;\n",
              "    }\n",
              "</style>\n",
              "<table border=\"1\" class=\"dataframe\">\n",
              "  <thead>\n",
              "    <tr style=\"text-align: right;\">\n",
              "      <th></th>\n",
              "      <th>facility</th>\n",
              "      <th>ward</th>\n",
              "      <th>sub_county</th>\n",
              "      <th>county</th>\n",
              "      <th>MOH_FacilityID</th>\n",
              "      <th>MOH_IndicatorCode</th>\n",
              "      <th>indicators</th>\n",
              "      <th>khis_data</th>\n",
              "      <th>datim_value</th>\n",
              "    </tr>\n",
              "  </thead>\n",
              "  <tbody>\n",
              "    <tr>\n",
              "      <th>0</th>\n",
              "      <td>Malaba Dispensary</td>\n",
              "      <td>Malaba Central Ward</td>\n",
              "      <td>Teso North Sub County</td>\n",
              "      <td>Busia County</td>\n",
              "      <td>a0qvQ3FrCD8</td>\n",
              "      <td>SCMKsiNj6c5</td>\n",
              "      <td>MOH 731   Start ART_25+(M)         HV03-024</td>\n",
              "      <td>7</td>\n",
              "      <td>7.0</td>\n",
              "    </tr>\n",
              "    <tr>\n",
              "      <th>1</th>\n",
              "      <td>Malaba Dispensary</td>\n",
              "      <td>Malaba Central Ward</td>\n",
              "      <td>Teso North Sub County</td>\n",
              "      <td>Busia County</td>\n",
              "      <td>a0qvQ3FrCD8</td>\n",
              "      <td>YXJf27jfkvS</td>\n",
              "      <td>MOH 731  Tested_15-19(F)  HV01-05</td>\n",
              "      <td>12</td>\n",
              "      <td>43.0</td>\n",
              "    </tr>\n",
              "    <tr>\n",
              "      <th>2</th>\n",
              "      <td>Westlands Health Centre</td>\n",
              "      <td>Parklands/Highridge Ward</td>\n",
              "      <td>Westlands Sub County</td>\n",
              "      <td>Nairobi County</td>\n",
              "      <td>a0XwYzX3wfw</td>\n",
              "      <td>SCMKsiNj6c5</td>\n",
              "      <td>MOH 731   Start ART_25+(M)         HV03-024</td>\n",
              "      <td>7</td>\n",
              "      <td>6.0</td>\n",
              "    </tr>\n",
              "    <tr>\n",
              "      <th>3</th>\n",
              "      <td>Westlands Health Centre</td>\n",
              "      <td>Parklands/Highridge Ward</td>\n",
              "      <td>Westlands Sub County</td>\n",
              "      <td>Nairobi County</td>\n",
              "      <td>a0XwYzX3wfw</td>\n",
              "      <td>YXJf27jfkvS</td>\n",
              "      <td>MOH 731  Tested_15-19(F)  HV01-05</td>\n",
              "      <td>16</td>\n",
              "      <td>48.0</td>\n",
              "    </tr>\n",
              "    <tr>\n",
              "      <th>4</th>\n",
              "      <td>Murang'a District Hospital</td>\n",
              "      <td>Township Ward</td>\n",
              "      <td>Kiharu Sub County</td>\n",
              "      <td>Muranga County</td>\n",
              "      <td>A19e0CHhTj3</td>\n",
              "      <td>gMICOUtzqRb</td>\n",
              "      <td>MOH 731  Tested_10-14(F)   HV01-03</td>\n",
              "      <td>19</td>\n",
              "      <td>45.0</td>\n",
              "    </tr>\n",
              "  </tbody>\n",
              "</table>\n",
              "</div>"
            ],
            "text/plain": [
              "                     facility                      ward  \\\n",
              "0           Malaba Dispensary       Malaba Central Ward   \n",
              "1           Malaba Dispensary       Malaba Central Ward   \n",
              "2     Westlands Health Centre  Parklands/Highridge Ward   \n",
              "3     Westlands Health Centre  Parklands/Highridge Ward   \n",
              "4  Murang'a District Hospital             Township Ward   \n",
              "\n",
              "              sub_county          county MOH_FacilityID MOH_IndicatorCode  \\\n",
              "0  Teso North Sub County    Busia County    a0qvQ3FrCD8       SCMKsiNj6c5   \n",
              "1  Teso North Sub County    Busia County    a0qvQ3FrCD8       YXJf27jfkvS   \n",
              "2   Westlands Sub County  Nairobi County    a0XwYzX3wfw       SCMKsiNj6c5   \n",
              "3   Westlands Sub County  Nairobi County    a0XwYzX3wfw       YXJf27jfkvS   \n",
              "4      Kiharu Sub County  Muranga County    A19e0CHhTj3       gMICOUtzqRb   \n",
              "\n",
              "                                    indicators  khis_data  datim_value  \n",
              "0  MOH 731   Start ART_25+(M)         HV03-024          7          7.0  \n",
              "1            MOH 731  Tested_15-19(F)  HV01-05         12         43.0  \n",
              "2  MOH 731   Start ART_25+(M)         HV03-024          7          6.0  \n",
              "3            MOH 731  Tested_15-19(F)  HV01-05         16         48.0  \n",
              "4           MOH 731  Tested_10-14(F)   HV01-03         19         45.0  "
            ]
          },
          "execution_count": 14,
          "metadata": {},
          "output_type": "execute_result"
        }
      ],
      "source": [
        "HTS_PMTCT_comparison21 = pd.concat([HTS_comparison21,PMTCT_comparison21])\n",
        "HTS_PMTCT_comparison21.head()"
      ]
    },
    {
      "cell_type": "code",
      "execution_count": 27,
      "metadata": {
        "colab": {
          "base_uri": "https://localhost:8080/"
        },
        "id": "B1mEFdOw6q4z",
        "outputId": "d4fddec3-7e60-451b-94e8-7055e6f9ae8d"
      },
      "outputs": [
        {
          "name": "stdout",
          "output_type": "stream",
          "text": [
            "<class 'pandas.core.frame.DataFrame'>\n",
            "Int64Index: 10973 entries, 0 to 775\n",
            "Data columns (total 11 columns):\n",
            " #   Column       Non-Null Count  Dtype  \n",
            "---  ------       --------------  -----  \n",
            " 0   facilityuid  10767 non-null  object \n",
            " 1   facility     10767 non-null  object \n",
            " 2   code         10767 non-null  float64\n",
            " 3   ward         10767 non-null  object \n",
            " 4   sub_county   10767 non-null  object \n",
            " 5   county       10767 non-null  object \n",
            " 6   indicator    10767 non-null  object \n",
            " 7   indicators   10767 non-null  object \n",
            " 8   period       10767 non-null  object \n",
            " 9   dhis2_value  10767 non-null  float64\n",
            " 10  datim_value  10594 non-null  float64\n",
            "dtypes: float64(3), object(8)\n",
            "memory usage: 1.0+ MB\n"
          ]
        }
      ],
      "source": [
        "HTS_PMTCT_KSM.info()"
      ]
    },
    {
      "cell_type": "code",
      "execution_count": 28,
      "metadata": {
        "colab": {
          "base_uri": "https://localhost:8080/"
        },
        "id": "vJoCtKfr6yGv",
        "outputId": "76a348a9-5901-4c46-f0fd-8c0bc4222dcb"
      },
      "outputs": [
        {
          "name": "stdout",
          "output_type": "stream",
          "text": [
            "<class 'pandas.core.frame.DataFrame'>\n",
            "Int64Index: 42799 entries, 0 to 7273\n",
            "Data columns (total 9 columns):\n",
            " #   Column             Non-Null Count  Dtype  \n",
            "---  ------             --------------  -----  \n",
            " 0   facility           42799 non-null  object \n",
            " 1   ward               42799 non-null  object \n",
            " 2   sub_county         42799 non-null  object \n",
            " 3   county             42799 non-null  object \n",
            " 4   MOH_FacilityID     42799 non-null  object \n",
            " 5   MOH_IndicatorCode  42799 non-null  object \n",
            " 6   indicators         42799 non-null  object \n",
            " 7   khis_data          42799 non-null  int64  \n",
            " 8   datim_value        41654 non-null  float64\n",
            "dtypes: float64(1), int64(1), object(7)\n",
            "memory usage: 3.3+ MB\n"
          ]
        }
      ],
      "source": [
        "HTS_PMTCT_comparison21.info()"
      ]
    },
    {
      "cell_type": "markdown",
      "metadata": {
        "id": "bd0G3BvvSO4X"
      },
      "source": [
        "## Insights -\n",
        "* `datim_value` - Data for Accountability, Transparency and Impact Monitoring (DATIM). DATIM is the PEPFAR-specific version of Kenya Health Information System (KHIS) in Kenya\n",
        "* KHIS is customized from DHIS2, an open-source software platform for reporting, analysis and dissemination of data for all health programs, developed by the Health Information Systems Program, University of Oslo and is used to collect data at all levels required for; site level reporting at the facility and community level as well as aggregations at the subnational and national levels in Kenya.\n",
        "* HTS-TST (Number of individuals who received HIV Testing Services (HTS) and received their test results) for instance, `HIV01-01` - number of individuals who received testing counselling services for HIV and received their test results\n",
        "* `ART` - Antiretroviral Therapy\n",
        "* PMTCT - Prevention of Mother To Child Transmission\n",
        "* `KSM` here means Kenya Standard Mean. It is the average number of people who test for HIV in a year. It is calculated by dividing the total number of people who test for HIV in a year by the number of years. The KSM is used to compare the number of people who test for HIV in a year with the number of people who test for HIV in other years.\n",
        "\n",
        "\n"
      ]
    },
    {
      "cell_type": "markdown",
      "metadata": {
        "id": "H4SLySoUjHrk"
      },
      "source": [
        "## Data Cleaning"
      ]
    },
    {
      "cell_type": "code",
      "execution_count": 29,
      "metadata": {
        "colab": {
          "base_uri": "https://localhost:8080/"
        },
        "id": "lSp_Y2XJjJCb",
        "outputId": "41894354-801f-4cee-e98e-9d3488c175a0"
      },
      "outputs": [
        {
          "name": "stdout",
          "output_type": "stream",
          "text": [
            "<class 'pandas.core.frame.DataFrame'>\n",
            "Int64Index: 10973 entries, 0 to 775\n",
            "Data columns (total 11 columns):\n",
            " #   Column       Non-Null Count  Dtype  \n",
            "---  ------       --------------  -----  \n",
            " 0   facilityuid  10767 non-null  object \n",
            " 1   facility     10767 non-null  object \n",
            " 2   code         10767 non-null  float64\n",
            " 3   ward         10767 non-null  object \n",
            " 4   sub_county   10767 non-null  object \n",
            " 5   county       10767 non-null  object \n",
            " 6   indicator    10767 non-null  object \n",
            " 7   indicators   10767 non-null  object \n",
            " 8   period       10767 non-null  object \n",
            " 9   dhis2_value  10767 non-null  float64\n",
            " 10  datim_value  10594 non-null  float64\n",
            "dtypes: float64(3), object(8)\n",
            "memory usage: 1.0+ MB\n"
          ]
        }
      ],
      "source": [
        "HTS_PMTCT_KSM.info()"
      ]
    },
    {
      "cell_type": "code",
      "execution_count": 15,
      "metadata": {
        "id": "DxDj6JMlmgHj"
      },
      "outputs": [],
      "source": [
        "HTS_PMTCT_KSM.dropna(inplace=True)"
      ]
    },
    {
      "cell_type": "code",
      "execution_count": 16,
      "metadata": {
        "id": "wHDXUKvFmnP0"
      },
      "outputs": [],
      "source": [
        "HTS_PMTCT_comparison21[\"datim_value\"].fillna(HTS_PMTCT_comparison21[\"datim_value\"].mean(), inplace=True)"
      ]
    },
    {
      "cell_type": "code",
      "execution_count": 32,
      "metadata": {
        "colab": {
          "base_uri": "https://localhost:8080/"
        },
        "id": "vWNYk9o6nDkc",
        "outputId": "722954db-dae6-4d95-88b3-6a3f0905d1f8"
      },
      "outputs": [
        {
          "data": {
            "text/plain": [
              "(facility             0\n",
              " ward                 0\n",
              " sub_county           0\n",
              " county               0\n",
              " MOH_FacilityID       0\n",
              " MOH_IndicatorCode    0\n",
              " indicators           0\n",
              " khis_data            0\n",
              " datim_value          0\n",
              " dtype: int64, facilityuid    0\n",
              " facility       0\n",
              " code           0\n",
              " ward           0\n",
              " sub_county     0\n",
              " county         0\n",
              " indicator      0\n",
              " indicators     0\n",
              " period         0\n",
              " dhis2_value    0\n",
              " datim_value    0\n",
              " dtype: int64)"
            ]
          },
          "execution_count": 32,
          "metadata": {},
          "output_type": "execute_result"
        }
      ],
      "source": [
        "HTS_PMTCT_comparison21.isna().sum(),  HTS_PMTCT_KSM.isna().sum()"
      ]
    },
    {
      "cell_type": "code",
      "execution_count": 33,
      "metadata": {
        "colab": {
          "base_uri": "https://localhost:8080/"
        },
        "id": "aHjzYDIIoTp6",
        "outputId": "48da3611-9f59-4ae9-ba53-55fa733fafb2"
      },
      "outputs": [
        {
          "data": {
            "text/plain": [
              "Index(['facility', 'ward', 'sub_county', 'county', 'MOH_FacilityID',\n",
              "       'MOH_IndicatorCode', 'indicators', 'khis_data', 'datim_value'],\n",
              "      dtype='object')"
            ]
          },
          "execution_count": 33,
          "metadata": {},
          "output_type": "execute_result"
        }
      ],
      "source": [
        "HTS_PMTCT_comparison21.columns"
      ]
    },
    {
      "cell_type": "code",
      "execution_count": 34,
      "metadata": {
        "colab": {
          "base_uri": "https://localhost:8080/"
        },
        "id": "EWeQPkFGoaaj",
        "outputId": "d91f8634-2aac-4dc0-caf7-bc0482c95940"
      },
      "outputs": [
        {
          "data": {
            "text/plain": [
              "Index(['facilityuid', 'facility', 'code', 'ward', 'sub_county', 'county',\n",
              "       'indicator', 'indicators', 'period', 'dhis2_value', 'datim_value'],\n",
              "      dtype='object')"
            ]
          },
          "execution_count": 34,
          "metadata": {},
          "output_type": "execute_result"
        }
      ],
      "source": [
        "HTS_PMTCT_KSM.columns"
      ]
    },
    {
      "cell_type": "code",
      "execution_count": 17,
      "metadata": {
        "colab": {
          "base_uri": "https://localhost:8080/",
          "height": 583
        },
        "id": "8IIvGW1VnQZV",
        "outputId": "ffb4cc3e-71b8-4151-fe0b-d6b6772de3b6"
      },
      "outputs": [
        {
          "data": {
            "text/html": [
              "<div>\n",
              "<style scoped>\n",
              "    .dataframe tbody tr th:only-of-type {\n",
              "        vertical-align: middle;\n",
              "    }\n",
              "\n",
              "    .dataframe tbody tr th {\n",
              "        vertical-align: top;\n",
              "    }\n",
              "\n",
              "    .dataframe thead th {\n",
              "        text-align: right;\n",
              "    }\n",
              "</style>\n",
              "<table border=\"1\" class=\"dataframe\">\n",
              "  <thead>\n",
              "    <tr style=\"text-align: right;\">\n",
              "      <th></th>\n",
              "      <th>facilityuid</th>\n",
              "      <th>facility</th>\n",
              "      <th>code</th>\n",
              "      <th>ward</th>\n",
              "      <th>sub_county</th>\n",
              "      <th>county</th>\n",
              "      <th>indicator</th>\n",
              "      <th>indicators</th>\n",
              "      <th>period</th>\n",
              "      <th>dhis2_value</th>\n",
              "      <th>datim_value</th>\n",
              "      <th>MOH_FacilityID</th>\n",
              "      <th>MOH_IndicatorCode</th>\n",
              "      <th>khis_data</th>\n",
              "    </tr>\n",
              "  </thead>\n",
              "  <tbody>\n",
              "    <tr>\n",
              "      <th>0</th>\n",
              "      <td>FIDsgV3ezn0</td>\n",
              "      <td>Olasi Dispensary</td>\n",
              "      <td>13975.0</td>\n",
              "      <td>Kaler Ward</td>\n",
              "      <td>Nyatike Sub County</td>\n",
              "      <td>Migori County</td>\n",
              "      <td>ETX9cUWF43c</td>\n",
              "      <td>MOH 731  Initial test at ANC       HV02-04</td>\n",
              "      <td>2020Q1</td>\n",
              "      <td>37.0</td>\n",
              "      <td>36.0</td>\n",
              "      <td>FIDsgV3ezn0</td>\n",
              "      <td>ETX9cUWF43c</td>\n",
              "      <td>32</td>\n",
              "    </tr>\n",
              "    <tr>\n",
              "      <th>1</th>\n",
              "      <td>KpXqE32Rm1d</td>\n",
              "      <td>Kombe Dispensary</td>\n",
              "      <td>13713.0</td>\n",
              "      <td>Masaba Ward</td>\n",
              "      <td>Kuria West Sub County</td>\n",
              "      <td>Migori County</td>\n",
              "      <td>ETX9cUWF43c</td>\n",
              "      <td>MOH 731  Initial test at ANC       HV02-04</td>\n",
              "      <td>2020Q1</td>\n",
              "      <td>28.0</td>\n",
              "      <td>27.0</td>\n",
              "      <td>KpXqE32Rm1d</td>\n",
              "      <td>ETX9cUWF43c</td>\n",
              "      <td>27</td>\n",
              "    </tr>\n",
              "    <tr>\n",
              "      <th>2</th>\n",
              "      <td>V6P9Brv9LmO</td>\n",
              "      <td>Otati Dispensary</td>\n",
              "      <td>13999.0</td>\n",
              "      <td>Kanyasa Ward</td>\n",
              "      <td>Nyatike Sub County</td>\n",
              "      <td>Migori County</td>\n",
              "      <td>qSgLzXh46n9</td>\n",
              "      <td>MOH 731  Known Positive at 1st  ANC       HV02-03</td>\n",
              "      <td>2020Q2</td>\n",
              "      <td>8.0</td>\n",
              "      <td>8.0</td>\n",
              "      <td>V6P9Brv9LmO</td>\n",
              "      <td>qSgLzXh46n9</td>\n",
              "      <td>8</td>\n",
              "    </tr>\n",
              "    <tr>\n",
              "      <th>3</th>\n",
              "      <td>QiXeOXMmlX0</td>\n",
              "      <td>Arombe Dispensary</td>\n",
              "      <td>13486.0</td>\n",
              "      <td>Wiga Ward</td>\n",
              "      <td>Suna West Sub County</td>\n",
              "      <td>Migori County</td>\n",
              "      <td>qSgLzXh46n9</td>\n",
              "      <td>MOH 731  Known Positive at 1st  ANC       HV02-03</td>\n",
              "      <td>2020Q1</td>\n",
              "      <td>18.0</td>\n",
              "      <td>18.0</td>\n",
              "      <td>QiXeOXMmlX0</td>\n",
              "      <td>qSgLzXh46n9</td>\n",
              "      <td>18</td>\n",
              "    </tr>\n",
              "    <tr>\n",
              "      <th>4</th>\n",
              "      <td>hLMDMOsAv6Y</td>\n",
              "      <td>Bande Dispensary</td>\n",
              "      <td>13494.0</td>\n",
              "      <td>Kaler Ward</td>\n",
              "      <td>Nyatike Sub County</td>\n",
              "      <td>Migori County</td>\n",
              "      <td>qSgLzXh46n9</td>\n",
              "      <td>MOH 731  Known Positive at 1st  ANC       HV02-03</td>\n",
              "      <td>2020Q1</td>\n",
              "      <td>4.0</td>\n",
              "      <td>4.0</td>\n",
              "      <td>hLMDMOsAv6Y</td>\n",
              "      <td>qSgLzXh46n9</td>\n",
              "      <td>4</td>\n",
              "    </tr>\n",
              "  </tbody>\n",
              "</table>\n",
              "</div>"
            ],
            "text/plain": [
              "   facilityuid           facility     code          ward  \\\n",
              "0  FIDsgV3ezn0   Olasi Dispensary  13975.0    Kaler Ward   \n",
              "1  KpXqE32Rm1d   Kombe Dispensary  13713.0   Masaba Ward   \n",
              "2  V6P9Brv9LmO   Otati Dispensary  13999.0  Kanyasa Ward   \n",
              "3  QiXeOXMmlX0  Arombe Dispensary  13486.0     Wiga Ward   \n",
              "4  hLMDMOsAv6Y   Bande Dispensary  13494.0    Kaler Ward   \n",
              "\n",
              "              sub_county         county    indicator  \\\n",
              "0     Nyatike Sub County  Migori County  ETX9cUWF43c   \n",
              "1  Kuria West Sub County  Migori County  ETX9cUWF43c   \n",
              "2     Nyatike Sub County  Migori County  qSgLzXh46n9   \n",
              "3   Suna West Sub County  Migori County  qSgLzXh46n9   \n",
              "4     Nyatike Sub County  Migori County  qSgLzXh46n9   \n",
              "\n",
              "                                          indicators  period  dhis2_value  \\\n",
              "0         MOH 731  Initial test at ANC       HV02-04  2020Q1         37.0   \n",
              "1         MOH 731  Initial test at ANC       HV02-04  2020Q1         28.0   \n",
              "2  MOH 731  Known Positive at 1st  ANC       HV02-03  2020Q2          8.0   \n",
              "3  MOH 731  Known Positive at 1st  ANC       HV02-03  2020Q1         18.0   \n",
              "4  MOH 731  Known Positive at 1st  ANC       HV02-03  2020Q1          4.0   \n",
              "\n",
              "   datim_value MOH_FacilityID MOH_IndicatorCode  khis_data  \n",
              "0         36.0    FIDsgV3ezn0       ETX9cUWF43c         32  \n",
              "1         27.0    KpXqE32Rm1d       ETX9cUWF43c         27  \n",
              "2          8.0    V6P9Brv9LmO       qSgLzXh46n9          8  \n",
              "3         18.0    QiXeOXMmlX0       qSgLzXh46n9         18  \n",
              "4          4.0    hLMDMOsAv6Y       qSgLzXh46n9          4  "
            ]
          },
          "execution_count": 17,
          "metadata": {},
          "output_type": "execute_result"
        }
      ],
      "source": [
        "HTS_PMTCT = pd.merge(HTS_PMTCT_KSM, HTS_PMTCT_comparison21, on=['facility', 'ward', 'sub_county', 'county','indicators', 'datim_value'], how=\"inner\")\n",
        "HTS_PMTCT.head()"
      ]
    },
    {
      "cell_type": "code",
      "execution_count": 36,
      "metadata": {
        "colab": {
          "base_uri": "https://localhost:8080/"
        },
        "id": "Jo1SfCXvpJyh",
        "outputId": "01c04fcc-9148-4ea5-b6c3-a8711a935152"
      },
      "outputs": [
        {
          "name": "stdout",
          "output_type": "stream",
          "text": [
            "<class 'pandas.core.frame.DataFrame'>\n",
            "Int64Index: 69 entries, 0 to 68\n",
            "Data columns (total 14 columns):\n",
            " #   Column             Non-Null Count  Dtype  \n",
            "---  ------             --------------  -----  \n",
            " 0   facilityuid        69 non-null     object \n",
            " 1   facility           69 non-null     object \n",
            " 2   code               69 non-null     float64\n",
            " 3   ward               69 non-null     object \n",
            " 4   sub_county         69 non-null     object \n",
            " 5   county             69 non-null     object \n",
            " 6   indicator          69 non-null     object \n",
            " 7   indicators         69 non-null     object \n",
            " 8   period             69 non-null     object \n",
            " 9   dhis2_value        69 non-null     float64\n",
            " 10  datim_value        69 non-null     float64\n",
            " 11  MOH_FacilityID     69 non-null     object \n",
            " 12  MOH_IndicatorCode  69 non-null     object \n",
            " 13  khis_data          69 non-null     int64  \n",
            "dtypes: float64(3), int64(1), object(10)\n",
            "memory usage: 8.1+ KB\n"
          ]
        }
      ],
      "source": [
        "HTS_PMTCT.info()"
      ]
    },
    {
      "cell_type": "markdown",
      "metadata": {
        "id": "V1HV6vYtpo8c"
      },
      "source": [
        "# Feature Engineering"
      ]
    },
    {
      "cell_type": "code",
      "execution_count": 18,
      "metadata": {
        "colab": {
          "base_uri": "https://localhost:8080/",
          "height": 583
        },
        "id": "KPTa9GeIpclP",
        "outputId": "e70f9830-905f-4743-e796-9032a2910ce2"
      },
      "outputs": [
        {
          "data": {
            "text/html": [
              "<div>\n",
              "<style scoped>\n",
              "    .dataframe tbody tr th:only-of-type {\n",
              "        vertical-align: middle;\n",
              "    }\n",
              "\n",
              "    .dataframe tbody tr th {\n",
              "        vertical-align: top;\n",
              "    }\n",
              "\n",
              "    .dataframe thead th {\n",
              "        text-align: right;\n",
              "    }\n",
              "</style>\n",
              "<table border=\"1\" class=\"dataframe\">\n",
              "  <thead>\n",
              "    <tr style=\"text-align: right;\">\n",
              "      <th></th>\n",
              "      <th>facilityuid</th>\n",
              "      <th>facility</th>\n",
              "      <th>code</th>\n",
              "      <th>ward</th>\n",
              "      <th>sub_county</th>\n",
              "      <th>county</th>\n",
              "      <th>indicator</th>\n",
              "      <th>indicators</th>\n",
              "      <th>period</th>\n",
              "      <th>dhis2_value</th>\n",
              "      <th>datim_value</th>\n",
              "      <th>MOH_FacilityID</th>\n",
              "      <th>MOH_IndicatorCode</th>\n",
              "      <th>khis_data</th>\n",
              "      <th>Year</th>\n",
              "      <th>Quarter</th>\n",
              "    </tr>\n",
              "  </thead>\n",
              "  <tbody>\n",
              "    <tr>\n",
              "      <th>0</th>\n",
              "      <td>FIDsgV3ezn0</td>\n",
              "      <td>Olasi Dispensary</td>\n",
              "      <td>13975.0</td>\n",
              "      <td>Kaler Ward</td>\n",
              "      <td>Nyatike Sub County</td>\n",
              "      <td>Migori County</td>\n",
              "      <td>ETX9cUWF43c</td>\n",
              "      <td>MOH 731  Initial test at ANC       HV02-04</td>\n",
              "      <td>2020Q1</td>\n",
              "      <td>37.0</td>\n",
              "      <td>36.0</td>\n",
              "      <td>FIDsgV3ezn0</td>\n",
              "      <td>ETX9cUWF43c</td>\n",
              "      <td>32</td>\n",
              "      <td>2020</td>\n",
              "      <td>1</td>\n",
              "    </tr>\n",
              "    <tr>\n",
              "      <th>1</th>\n",
              "      <td>KpXqE32Rm1d</td>\n",
              "      <td>Kombe Dispensary</td>\n",
              "      <td>13713.0</td>\n",
              "      <td>Masaba Ward</td>\n",
              "      <td>Kuria West Sub County</td>\n",
              "      <td>Migori County</td>\n",
              "      <td>ETX9cUWF43c</td>\n",
              "      <td>MOH 731  Initial test at ANC       HV02-04</td>\n",
              "      <td>2020Q1</td>\n",
              "      <td>28.0</td>\n",
              "      <td>27.0</td>\n",
              "      <td>KpXqE32Rm1d</td>\n",
              "      <td>ETX9cUWF43c</td>\n",
              "      <td>27</td>\n",
              "      <td>2020</td>\n",
              "      <td>1</td>\n",
              "    </tr>\n",
              "    <tr>\n",
              "      <th>2</th>\n",
              "      <td>V6P9Brv9LmO</td>\n",
              "      <td>Otati Dispensary</td>\n",
              "      <td>13999.0</td>\n",
              "      <td>Kanyasa Ward</td>\n",
              "      <td>Nyatike Sub County</td>\n",
              "      <td>Migori County</td>\n",
              "      <td>qSgLzXh46n9</td>\n",
              "      <td>MOH 731  Known Positive at 1st  ANC       HV02-03</td>\n",
              "      <td>2020Q2</td>\n",
              "      <td>8.0</td>\n",
              "      <td>8.0</td>\n",
              "      <td>V6P9Brv9LmO</td>\n",
              "      <td>qSgLzXh46n9</td>\n",
              "      <td>8</td>\n",
              "      <td>2020</td>\n",
              "      <td>2</td>\n",
              "    </tr>\n",
              "    <tr>\n",
              "      <th>3</th>\n",
              "      <td>QiXeOXMmlX0</td>\n",
              "      <td>Arombe Dispensary</td>\n",
              "      <td>13486.0</td>\n",
              "      <td>Wiga Ward</td>\n",
              "      <td>Suna West Sub County</td>\n",
              "      <td>Migori County</td>\n",
              "      <td>qSgLzXh46n9</td>\n",
              "      <td>MOH 731  Known Positive at 1st  ANC       HV02-03</td>\n",
              "      <td>2020Q1</td>\n",
              "      <td>18.0</td>\n",
              "      <td>18.0</td>\n",
              "      <td>QiXeOXMmlX0</td>\n",
              "      <td>qSgLzXh46n9</td>\n",
              "      <td>18</td>\n",
              "      <td>2020</td>\n",
              "      <td>1</td>\n",
              "    </tr>\n",
              "    <tr>\n",
              "      <th>4</th>\n",
              "      <td>hLMDMOsAv6Y</td>\n",
              "      <td>Bande Dispensary</td>\n",
              "      <td>13494.0</td>\n",
              "      <td>Kaler Ward</td>\n",
              "      <td>Nyatike Sub County</td>\n",
              "      <td>Migori County</td>\n",
              "      <td>qSgLzXh46n9</td>\n",
              "      <td>MOH 731  Known Positive at 1st  ANC       HV02-03</td>\n",
              "      <td>2020Q1</td>\n",
              "      <td>4.0</td>\n",
              "      <td>4.0</td>\n",
              "      <td>hLMDMOsAv6Y</td>\n",
              "      <td>qSgLzXh46n9</td>\n",
              "      <td>4</td>\n",
              "      <td>2020</td>\n",
              "      <td>1</td>\n",
              "    </tr>\n",
              "  </tbody>\n",
              "</table>\n",
              "</div>"
            ],
            "text/plain": [
              "   facilityuid           facility     code          ward  \\\n",
              "0  FIDsgV3ezn0   Olasi Dispensary  13975.0    Kaler Ward   \n",
              "1  KpXqE32Rm1d   Kombe Dispensary  13713.0   Masaba Ward   \n",
              "2  V6P9Brv9LmO   Otati Dispensary  13999.0  Kanyasa Ward   \n",
              "3  QiXeOXMmlX0  Arombe Dispensary  13486.0     Wiga Ward   \n",
              "4  hLMDMOsAv6Y   Bande Dispensary  13494.0    Kaler Ward   \n",
              "\n",
              "              sub_county         county    indicator  \\\n",
              "0     Nyatike Sub County  Migori County  ETX9cUWF43c   \n",
              "1  Kuria West Sub County  Migori County  ETX9cUWF43c   \n",
              "2     Nyatike Sub County  Migori County  qSgLzXh46n9   \n",
              "3   Suna West Sub County  Migori County  qSgLzXh46n9   \n",
              "4     Nyatike Sub County  Migori County  qSgLzXh46n9   \n",
              "\n",
              "                                          indicators  period  dhis2_value  \\\n",
              "0         MOH 731  Initial test at ANC       HV02-04  2020Q1         37.0   \n",
              "1         MOH 731  Initial test at ANC       HV02-04  2020Q1         28.0   \n",
              "2  MOH 731  Known Positive at 1st  ANC       HV02-03  2020Q2          8.0   \n",
              "3  MOH 731  Known Positive at 1st  ANC       HV02-03  2020Q1         18.0   \n",
              "4  MOH 731  Known Positive at 1st  ANC       HV02-03  2020Q1          4.0   \n",
              "\n",
              "   datim_value MOH_FacilityID MOH_IndicatorCode  khis_data  Year Quarter  \n",
              "0         36.0    FIDsgV3ezn0       ETX9cUWF43c         32  2020       1  \n",
              "1         27.0    KpXqE32Rm1d       ETX9cUWF43c         27  2020       1  \n",
              "2          8.0    V6P9Brv9LmO       qSgLzXh46n9          8  2020       2  \n",
              "3         18.0    QiXeOXMmlX0       qSgLzXh46n9         18  2020       1  \n",
              "4          4.0    hLMDMOsAv6Y       qSgLzXh46n9          4  2020       1  "
            ]
          },
          "execution_count": 18,
          "metadata": {},
          "output_type": "execute_result"
        }
      ],
      "source": [
        "# We need to obtain date from the period column since it is in the format 2020Q1\n",
        "# We will use the split function to split the period column into two columns\n",
        "# The first column will be the year and the second column will be the quarter\n",
        "# We will then use the concat function to concatenate the two columns into one column\n",
        "# We will then use the to_datetime function to convert the column into a datetime object\n",
        "\n",
        "HTS_PMTCT[['Year','Quarter']] = HTS_PMTCT['period'].str.split('Q',expand=True)\n",
        "#HTS_PMTCT.drop('period',axis=1,inplace=True)\n",
        "HTS_PMTCT.head()"
      ]
    },
    {
      "cell_type": "code",
      "execution_count": 19,
      "metadata": {
        "colab": {
          "base_uri": "https://localhost:8080/",
          "height": 583
        },
        "id": "XQFsU5AutwEn",
        "outputId": "f259801b-75f7-4ff2-835d-d012c2bad452"
      },
      "outputs": [
        {
          "data": {
            "text/html": [
              "<div>\n",
              "<style scoped>\n",
              "    .dataframe tbody tr th:only-of-type {\n",
              "        vertical-align: middle;\n",
              "    }\n",
              "\n",
              "    .dataframe tbody tr th {\n",
              "        vertical-align: top;\n",
              "    }\n",
              "\n",
              "    .dataframe thead th {\n",
              "        text-align: right;\n",
              "    }\n",
              "</style>\n",
              "<table border=\"1\" class=\"dataframe\">\n",
              "  <thead>\n",
              "    <tr style=\"text-align: right;\">\n",
              "      <th></th>\n",
              "      <th>facilityuid</th>\n",
              "      <th>facility</th>\n",
              "      <th>code</th>\n",
              "      <th>ward</th>\n",
              "      <th>sub_county</th>\n",
              "      <th>county</th>\n",
              "      <th>indicator</th>\n",
              "      <th>indicators</th>\n",
              "      <th>period</th>\n",
              "      <th>dhis2_value</th>\n",
              "      <th>datim_value</th>\n",
              "      <th>MOH_FacilityID</th>\n",
              "      <th>MOH_IndicatorCode</th>\n",
              "      <th>khis_data</th>\n",
              "      <th>Year</th>\n",
              "      <th>Quarter</th>\n",
              "      <th>Month</th>\n",
              "    </tr>\n",
              "  </thead>\n",
              "  <tbody>\n",
              "    <tr>\n",
              "      <th>0</th>\n",
              "      <td>FIDsgV3ezn0</td>\n",
              "      <td>Olasi Dispensary</td>\n",
              "      <td>13975.0</td>\n",
              "      <td>Kaler Ward</td>\n",
              "      <td>Nyatike Sub County</td>\n",
              "      <td>Migori County</td>\n",
              "      <td>ETX9cUWF43c</td>\n",
              "      <td>MOH 731  Initial test at ANC       HV02-04</td>\n",
              "      <td>2020Q1</td>\n",
              "      <td>37.0</td>\n",
              "      <td>36.0</td>\n",
              "      <td>FIDsgV3ezn0</td>\n",
              "      <td>ETX9cUWF43c</td>\n",
              "      <td>32</td>\n",
              "      <td>2020</td>\n",
              "      <td>1</td>\n",
              "      <td>01</td>\n",
              "    </tr>\n",
              "    <tr>\n",
              "      <th>1</th>\n",
              "      <td>KpXqE32Rm1d</td>\n",
              "      <td>Kombe Dispensary</td>\n",
              "      <td>13713.0</td>\n",
              "      <td>Masaba Ward</td>\n",
              "      <td>Kuria West Sub County</td>\n",
              "      <td>Migori County</td>\n",
              "      <td>ETX9cUWF43c</td>\n",
              "      <td>MOH 731  Initial test at ANC       HV02-04</td>\n",
              "      <td>2020Q1</td>\n",
              "      <td>28.0</td>\n",
              "      <td>27.0</td>\n",
              "      <td>KpXqE32Rm1d</td>\n",
              "      <td>ETX9cUWF43c</td>\n",
              "      <td>27</td>\n",
              "      <td>2020</td>\n",
              "      <td>1</td>\n",
              "      <td>01</td>\n",
              "    </tr>\n",
              "    <tr>\n",
              "      <th>2</th>\n",
              "      <td>V6P9Brv9LmO</td>\n",
              "      <td>Otati Dispensary</td>\n",
              "      <td>13999.0</td>\n",
              "      <td>Kanyasa Ward</td>\n",
              "      <td>Nyatike Sub County</td>\n",
              "      <td>Migori County</td>\n",
              "      <td>qSgLzXh46n9</td>\n",
              "      <td>MOH 731  Known Positive at 1st  ANC       HV02-03</td>\n",
              "      <td>2020Q2</td>\n",
              "      <td>8.0</td>\n",
              "      <td>8.0</td>\n",
              "      <td>V6P9Brv9LmO</td>\n",
              "      <td>qSgLzXh46n9</td>\n",
              "      <td>8</td>\n",
              "      <td>2020</td>\n",
              "      <td>2</td>\n",
              "      <td>04</td>\n",
              "    </tr>\n",
              "    <tr>\n",
              "      <th>3</th>\n",
              "      <td>QiXeOXMmlX0</td>\n",
              "      <td>Arombe Dispensary</td>\n",
              "      <td>13486.0</td>\n",
              "      <td>Wiga Ward</td>\n",
              "      <td>Suna West Sub County</td>\n",
              "      <td>Migori County</td>\n",
              "      <td>qSgLzXh46n9</td>\n",
              "      <td>MOH 731  Known Positive at 1st  ANC       HV02-03</td>\n",
              "      <td>2020Q1</td>\n",
              "      <td>18.0</td>\n",
              "      <td>18.0</td>\n",
              "      <td>QiXeOXMmlX0</td>\n",
              "      <td>qSgLzXh46n9</td>\n",
              "      <td>18</td>\n",
              "      <td>2020</td>\n",
              "      <td>1</td>\n",
              "      <td>01</td>\n",
              "    </tr>\n",
              "    <tr>\n",
              "      <th>4</th>\n",
              "      <td>hLMDMOsAv6Y</td>\n",
              "      <td>Bande Dispensary</td>\n",
              "      <td>13494.0</td>\n",
              "      <td>Kaler Ward</td>\n",
              "      <td>Nyatike Sub County</td>\n",
              "      <td>Migori County</td>\n",
              "      <td>qSgLzXh46n9</td>\n",
              "      <td>MOH 731  Known Positive at 1st  ANC       HV02-03</td>\n",
              "      <td>2020Q1</td>\n",
              "      <td>4.0</td>\n",
              "      <td>4.0</td>\n",
              "      <td>hLMDMOsAv6Y</td>\n",
              "      <td>qSgLzXh46n9</td>\n",
              "      <td>4</td>\n",
              "      <td>2020</td>\n",
              "      <td>1</td>\n",
              "      <td>01</td>\n",
              "    </tr>\n",
              "  </tbody>\n",
              "</table>\n",
              "</div>"
            ],
            "text/plain": [
              "   facilityuid           facility     code          ward  \\\n",
              "0  FIDsgV3ezn0   Olasi Dispensary  13975.0    Kaler Ward   \n",
              "1  KpXqE32Rm1d   Kombe Dispensary  13713.0   Masaba Ward   \n",
              "2  V6P9Brv9LmO   Otati Dispensary  13999.0  Kanyasa Ward   \n",
              "3  QiXeOXMmlX0  Arombe Dispensary  13486.0     Wiga Ward   \n",
              "4  hLMDMOsAv6Y   Bande Dispensary  13494.0    Kaler Ward   \n",
              "\n",
              "              sub_county         county    indicator  \\\n",
              "0     Nyatike Sub County  Migori County  ETX9cUWF43c   \n",
              "1  Kuria West Sub County  Migori County  ETX9cUWF43c   \n",
              "2     Nyatike Sub County  Migori County  qSgLzXh46n9   \n",
              "3   Suna West Sub County  Migori County  qSgLzXh46n9   \n",
              "4     Nyatike Sub County  Migori County  qSgLzXh46n9   \n",
              "\n",
              "                                          indicators  period  dhis2_value  \\\n",
              "0         MOH 731  Initial test at ANC       HV02-04  2020Q1         37.0   \n",
              "1         MOH 731  Initial test at ANC       HV02-04  2020Q1         28.0   \n",
              "2  MOH 731  Known Positive at 1st  ANC       HV02-03  2020Q2          8.0   \n",
              "3  MOH 731  Known Positive at 1st  ANC       HV02-03  2020Q1         18.0   \n",
              "4  MOH 731  Known Positive at 1st  ANC       HV02-03  2020Q1          4.0   \n",
              "\n",
              "   datim_value MOH_FacilityID MOH_IndicatorCode  khis_data  Year Quarter Month  \n",
              "0         36.0    FIDsgV3ezn0       ETX9cUWF43c         32  2020       1    01  \n",
              "1         27.0    KpXqE32Rm1d       ETX9cUWF43c         27  2020       1    01  \n",
              "2          8.0    V6P9Brv9LmO       qSgLzXh46n9          8  2020       2    04  \n",
              "3         18.0    QiXeOXMmlX0       qSgLzXh46n9         18  2020       1    01  \n",
              "4          4.0    hLMDMOsAv6Y       qSgLzXh46n9          4  2020       1    01  "
            ]
          },
          "execution_count": 19,
          "metadata": {},
          "output_type": "execute_result"
        }
      ],
      "source": [
        "# We need to obtain the month from the quarter column\n",
        "# We will use the replace function to replace the quarter with the corresponding month\n",
        "# We will then use the concat function to concatenate the two columns into one column\n",
        "\n",
        "HTS_PMTCT['Month'] = HTS_PMTCT['Quarter'].replace({'1':'01','2':'04','3':'07','4':'10'})\n",
        "HTS_PMTCT.head()"
      ]
    },
    {
      "cell_type": "markdown",
      "metadata": {
        "id": "3tGpNADxvo2g"
      },
      "source": [
        "# Exploratory Data Analysis"
      ]
    },
    {
      "cell_type": "code",
      "execution_count": 39,
      "metadata": {
        "id": "3gUXr7nlwu-7"
      },
      "outputs": [],
      "source": [
        "HTS_PMTCT.code = HTS_PMTCT.code.astype(\"object\")"
      ]
    },
    {
      "cell_type": "code",
      "execution_count": 40,
      "metadata": {
        "colab": {
          "base_uri": "https://localhost:8080/",
          "height": 300
        },
        "id": "lOdgeDd_vjuy",
        "outputId": "bdceb9be-0207-49c1-a7d8-6749db4b84c1"
      },
      "outputs": [
        {
          "data": {
            "text/html": [
              "\n",
              "  <div id=\"df-33efccf1-ebde-41ca-bc75-f7df027660c2\">\n",
              "    <div class=\"colab-df-container\">\n",
              "      <div>\n",
              "<style scoped>\n",
              "    .dataframe tbody tr th:only-of-type {\n",
              "        vertical-align: middle;\n",
              "    }\n",
              "\n",
              "    .dataframe tbody tr th {\n",
              "        vertical-align: top;\n",
              "    }\n",
              "\n",
              "    .dataframe thead th {\n",
              "        text-align: right;\n",
              "    }\n",
              "</style>\n",
              "<table border=\"1\" class=\"dataframe\">\n",
              "  <thead>\n",
              "    <tr style=\"text-align: right;\">\n",
              "      <th></th>\n",
              "      <th>dhis2_value</th>\n",
              "      <th>datim_value</th>\n",
              "      <th>khis_data</th>\n",
              "    </tr>\n",
              "  </thead>\n",
              "  <tbody>\n",
              "    <tr>\n",
              "      <th>count</th>\n",
              "      <td>69.000000</td>\n",
              "      <td>69.000000</td>\n",
              "      <td>69.000000</td>\n",
              "    </tr>\n",
              "    <tr>\n",
              "      <th>mean</th>\n",
              "      <td>13.666667</td>\n",
              "      <td>13.681159</td>\n",
              "      <td>12.014493</td>\n",
              "    </tr>\n",
              "    <tr>\n",
              "      <th>std</th>\n",
              "      <td>29.404215</td>\n",
              "      <td>29.153999</td>\n",
              "      <td>24.038873</td>\n",
              "    </tr>\n",
              "    <tr>\n",
              "      <th>min</th>\n",
              "      <td>1.000000</td>\n",
              "      <td>1.000000</td>\n",
              "      <td>1.000000</td>\n",
              "    </tr>\n",
              "    <tr>\n",
              "      <th>25%</th>\n",
              "      <td>1.000000</td>\n",
              "      <td>1.000000</td>\n",
              "      <td>1.000000</td>\n",
              "    </tr>\n",
              "    <tr>\n",
              "      <th>50%</th>\n",
              "      <td>3.000000</td>\n",
              "      <td>3.000000</td>\n",
              "      <td>3.000000</td>\n",
              "    </tr>\n",
              "    <tr>\n",
              "      <th>75%</th>\n",
              "      <td>8.000000</td>\n",
              "      <td>8.000000</td>\n",
              "      <td>8.000000</td>\n",
              "    </tr>\n",
              "    <tr>\n",
              "      <th>max</th>\n",
              "      <td>174.000000</td>\n",
              "      <td>174.000000</td>\n",
              "      <td>126.000000</td>\n",
              "    </tr>\n",
              "  </tbody>\n",
              "</table>\n",
              "</div>\n",
              "      <button class=\"colab-df-convert\" onclick=\"convertToInteractive('df-33efccf1-ebde-41ca-bc75-f7df027660c2')\"\n",
              "              title=\"Convert this dataframe to an interactive table.\"\n",
              "              style=\"display:none;\">\n",
              "        \n",
              "  <svg xmlns=\"http://www.w3.org/2000/svg\" height=\"24px\"viewBox=\"0 0 24 24\"\n",
              "       width=\"24px\">\n",
              "    <path d=\"M0 0h24v24H0V0z\" fill=\"none\"/>\n",
              "    <path d=\"M18.56 5.44l.94 2.06.94-2.06 2.06-.94-2.06-.94-.94-2.06-.94 2.06-2.06.94zm-11 1L8.5 8.5l.94-2.06 2.06-.94-2.06-.94L8.5 2.5l-.94 2.06-2.06.94zm10 10l.94 2.06.94-2.06 2.06-.94-2.06-.94-.94-2.06-.94 2.06-2.06.94z\"/><path d=\"M17.41 7.96l-1.37-1.37c-.4-.4-.92-.59-1.43-.59-.52 0-1.04.2-1.43.59L10.3 9.45l-7.72 7.72c-.78.78-.78 2.05 0 2.83L4 21.41c.39.39.9.59 1.41.59.51 0 1.02-.2 1.41-.59l7.78-7.78 2.81-2.81c.8-.78.8-2.07 0-2.86zM5.41 20L4 18.59l7.72-7.72 1.47 1.35L5.41 20z\"/>\n",
              "  </svg>\n",
              "      </button>\n",
              "      \n",
              "  <style>\n",
              "    .colab-df-container {\n",
              "      display:flex;\n",
              "      flex-wrap:wrap;\n",
              "      gap: 12px;\n",
              "    }\n",
              "\n",
              "    .colab-df-convert {\n",
              "      background-color: #E8F0FE;\n",
              "      border: none;\n",
              "      border-radius: 50%;\n",
              "      cursor: pointer;\n",
              "      display: none;\n",
              "      fill: #1967D2;\n",
              "      height: 32px;\n",
              "      padding: 0 0 0 0;\n",
              "      width: 32px;\n",
              "    }\n",
              "\n",
              "    .colab-df-convert:hover {\n",
              "      background-color: #E2EBFA;\n",
              "      box-shadow: 0px 1px 2px rgba(60, 64, 67, 0.3), 0px 1px 3px 1px rgba(60, 64, 67, 0.15);\n",
              "      fill: #174EA6;\n",
              "    }\n",
              "\n",
              "    [theme=dark] .colab-df-convert {\n",
              "      background-color: #3B4455;\n",
              "      fill: #D2E3FC;\n",
              "    }\n",
              "\n",
              "    [theme=dark] .colab-df-convert:hover {\n",
              "      background-color: #434B5C;\n",
              "      box-shadow: 0px 1px 3px 1px rgba(0, 0, 0, 0.15);\n",
              "      filter: drop-shadow(0px 1px 2px rgba(0, 0, 0, 0.3));\n",
              "      fill: #FFFFFF;\n",
              "    }\n",
              "  </style>\n",
              "\n",
              "      <script>\n",
              "        const buttonEl =\n",
              "          document.querySelector('#df-33efccf1-ebde-41ca-bc75-f7df027660c2 button.colab-df-convert');\n",
              "        buttonEl.style.display =\n",
              "          google.colab.kernel.accessAllowed ? 'block' : 'none';\n",
              "\n",
              "        async function convertToInteractive(key) {\n",
              "          const element = document.querySelector('#df-33efccf1-ebde-41ca-bc75-f7df027660c2');\n",
              "          const dataTable =\n",
              "            await google.colab.kernel.invokeFunction('convertToInteractive',\n",
              "                                                     [key], {});\n",
              "          if (!dataTable) return;\n",
              "\n",
              "          const docLinkHtml = 'Like what you see? Visit the ' +\n",
              "            '<a target=\"_blank\" href=https://colab.research.google.com/notebooks/data_table.ipynb>data table notebook</a>'\n",
              "            + ' to learn more about interactive tables.';\n",
              "          element.innerHTML = '';\n",
              "          dataTable['output_type'] = 'display_data';\n",
              "          await google.colab.output.renderOutput(dataTable, element);\n",
              "          const docLink = document.createElement('div');\n",
              "          docLink.innerHTML = docLinkHtml;\n",
              "          element.appendChild(docLink);\n",
              "        }\n",
              "      </script>\n",
              "    </div>\n",
              "  </div>\n",
              "  "
            ],
            "text/plain": [
              "       dhis2_value  datim_value   khis_data\n",
              "count    69.000000    69.000000   69.000000\n",
              "mean     13.666667    13.681159   12.014493\n",
              "std      29.404215    29.153999   24.038873\n",
              "min       1.000000     1.000000    1.000000\n",
              "25%       1.000000     1.000000    1.000000\n",
              "50%       3.000000     3.000000    3.000000\n",
              "75%       8.000000     8.000000    8.000000\n",
              "max     174.000000   174.000000  126.000000"
            ]
          },
          "execution_count": 40,
          "metadata": {},
          "output_type": "execute_result"
        }
      ],
      "source": [
        "HTS_PMTCT.select_dtypes(include=['int64','float64']).describe()"
      ]
    },
    {
      "cell_type": "code",
      "execution_count": 41,
      "metadata": {
        "colab": {
          "base_uri": "https://localhost:8080/",
          "height": 550
        },
        "id": "X8A8VvKlxPhl",
        "outputId": "936251eb-8b61-48be-e425-6f8ce99899a8"
      },
      "outputs": [
        {
          "data": {
            "image/png": "[encoded data removed]",
            "text/plain": [
              "<Figure size 540x540 with 12 Axes>"
            ]
          },
          "metadata": {
            "needs_background": "light"
          },
          "output_type": "display_data"
        }
      ],
      "source": [
        "sns.pairplot(HTS_PMTCT.select_dtypes(exclude=['object']));"
      ]
    },
    {
      "cell_type": "code",
      "execution_count": 42,
      "metadata": {
        "colab": {
          "base_uri": "https://localhost:8080/",
          "height": 143
        },
        "id": "ip6n2nwGxbaF",
        "outputId": "eb42d9fb-30bc-4bcc-ca31-50efe55ab77a"
      },
      "outputs": [
        {
          "data": {
            "text/html": [
              "\n",
              "  <div id=\"df-19aae170-3569-4f45-8a8e-37274f6ce86f\">\n",
              "    <div class=\"colab-df-container\">\n",
              "      <div>\n",
              "<style scoped>\n",
              "    .dataframe tbody tr th:only-of-type {\n",
              "        vertical-align: middle;\n",
              "    }\n",
              "\n",
              "    .dataframe tbody tr th {\n",
              "        vertical-align: top;\n",
              "    }\n",
              "\n",
              "    .dataframe thead th {\n",
              "        text-align: right;\n",
              "    }\n",
              "</style>\n",
              "<table border=\"1\" class=\"dataframe\">\n",
              "  <thead>\n",
              "    <tr style=\"text-align: right;\">\n",
              "      <th></th>\n",
              "      <th>dhis2_value</th>\n",
              "      <th>datim_value</th>\n",
              "      <th>khis_data</th>\n",
              "    </tr>\n",
              "  </thead>\n",
              "  <tbody>\n",
              "    <tr>\n",
              "      <th>dhis2_value</th>\n",
              "      <td>1.000000</td>\n",
              "      <td>0.999410</td>\n",
              "      <td>0.987848</td>\n",
              "    </tr>\n",
              "    <tr>\n",
              "      <th>datim_value</th>\n",
              "      <td>0.999410</td>\n",
              "      <td>1.000000</td>\n",
              "      <td>0.987178</td>\n",
              "    </tr>\n",
              "    <tr>\n",
              "      <th>khis_data</th>\n",
              "      <td>0.987848</td>\n",
              "      <td>0.987178</td>\n",
              "      <td>1.000000</td>\n",
              "    </tr>\n",
              "  </tbody>\n",
              "</table>\n",
              "</div>\n",
              "      <button class=\"colab-df-convert\" onclick=\"convertToInteractive('df-19aae170-3569-4f45-8a8e-37274f6ce86f')\"\n",
              "              title=\"Convert this dataframe to an interactive table.\"\n",
              "              style=\"display:none;\">\n",
              "        \n",
              "  <svg xmlns=\"http://www.w3.org/2000/svg\" height=\"24px\"viewBox=\"0 0 24 24\"\n",
              "       width=\"24px\">\n",
              "    <path d=\"M0 0h24v24H0V0z\" fill=\"none\"/>\n",
              "    <path d=\"M18.56 5.44l.94 2.06.94-2.06 2.06-.94-2.06-.94-.94-2.06-.94 2.06-2.06.94zm-11 1L8.5 8.5l.94-2.06 2.06-.94-2.06-.94L8.5 2.5l-.94 2.06-2.06.94zm10 10l.94 2.06.94-2.06 2.06-.94-2.06-.94-.94-2.06-.94 2.06-2.06.94z\"/><path d=\"M17.41 7.96l-1.37-1.37c-.4-.4-.92-.59-1.43-.59-.52 0-1.04.2-1.43.59L10.3 9.45l-7.72 7.72c-.78.78-.78 2.05 0 2.83L4 21.41c.39.39.9.59 1.41.59.51 0 1.02-.2 1.41-.59l7.78-7.78 2.81-2.81c.8-.78.8-2.07 0-2.86zM5.41 20L4 18.59l7.72-7.72 1.47 1.35L5.41 20z\"/>\n",
              "  </svg>\n",
              "      </button>\n",
              "      \n",
              "  <style>\n",
              "    .colab-df-container {\n",
              "      display:flex;\n",
              "      flex-wrap:wrap;\n",
              "      gap: 12px;\n",
              "    }\n",
              "\n",
              "    .colab-df-convert {\n",
              "      background-color: #E8F0FE;\n",
              "      border: none;\n",
              "      border-radius: 50%;\n",
              "      cursor: pointer;\n",
              "      display: none;\n",
              "      fill: #1967D2;\n",
              "      height: 32px;\n",
              "      padding: 0 0 0 0;\n",
              "      width: 32px;\n",
              "    }\n",
              "\n",
              "    .colab-df-convert:hover {\n",
              "      background-color: #E2EBFA;\n",
              "      box-shadow: 0px 1px 2px rgba(60, 64, 67, 0.3), 0px 1px 3px 1px rgba(60, 64, 67, 0.15);\n",
              "      fill: #174EA6;\n",
              "    }\n",
              "\n",
              "    [theme=dark] .colab-df-convert {\n",
              "      background-color: #3B4455;\n",
              "      fill: #D2E3FC;\n",
              "    }\n",
              "\n",
              "    [theme=dark] .colab-df-convert:hover {\n",
              "      background-color: #434B5C;\n",
              "      box-shadow: 0px 1px 3px 1px rgba(0, 0, 0, 0.15);\n",
              "      filter: drop-shadow(0px 1px 2px rgba(0, 0, 0, 0.3));\n",
              "      fill: #FFFFFF;\n",
              "    }\n",
              "  </style>\n",
              "\n",
              "      <script>\n",
              "        const buttonEl =\n",
              "          document.querySelector('#df-19aae170-3569-4f45-8a8e-37274f6ce86f button.colab-df-convert');\n",
              "        buttonEl.style.display =\n",
              "          google.colab.kernel.accessAllowed ? 'block' : 'none';\n",
              "\n",
              "        async function convertToInteractive(key) {\n",
              "          const element = document.querySelector('#df-19aae170-3569-4f45-8a8e-37274f6ce86f');\n",
              "          const dataTable =\n",
              "            await google.colab.kernel.invokeFunction('convertToInteractive',\n",
              "                                                     [key], {});\n",
              "          if (!dataTable) return;\n",
              "\n",
              "          const docLinkHtml = 'Like what you see? Visit the ' +\n",
              "            '<a target=\"_blank\" href=https://colab.research.google.com/notebooks/data_table.ipynb>data table notebook</a>'\n",
              "            + ' to learn more about interactive tables.';\n",
              "          element.innerHTML = '';\n",
              "          dataTable['output_type'] = 'display_data';\n",
              "          await google.colab.output.renderOutput(dataTable, element);\n",
              "          const docLink = document.createElement('div');\n",
              "          docLink.innerHTML = docLinkHtml;\n",
              "          element.appendChild(docLink);\n",
              "        }\n",
              "      </script>\n",
              "    </div>\n",
              "  </div>\n",
              "  "
            ],
            "text/plain": [
              "             dhis2_value  datim_value  khis_data\n",
              "dhis2_value     1.000000     0.999410   0.987848\n",
              "datim_value     0.999410     1.000000   0.987178\n",
              "khis_data       0.987848     0.987178   1.000000"
            ]
          },
          "execution_count": 42,
          "metadata": {},
          "output_type": "execute_result"
        }
      ],
      "source": [
        "# Correlation Matrix\n",
        "HTS_PMTCT.select_dtypes(include=['int64','float64']).corr()"
      ]
    },
    {
      "cell_type": "code",
      "execution_count": 43,
      "metadata": {
        "colab": {
          "base_uri": "https://localhost:8080/",
          "height": 270
        },
        "id": "qoZk1H0Zxrc-",
        "outputId": "927a667f-3216-402f-86c3-55be7f8ddc42"
      },
      "outputs": [
        {
          "data": {
            "image/png": "[encoded data removed]",
            "text/plain": [
              "<Figure size 432x288 with 2 Axes>"
            ]
          },
          "metadata": {
            "needs_background": "light"
          },
          "output_type": "display_data"
        }
      ],
      "source": [
        "sns.heatmap(HTS_PMTCT.select_dtypes(include=['int64','float64']).corr(),annot=True);"
      ]
    },
    {
      "cell_type": "markdown",
      "metadata": {
        "id": "X79ISedLx1gt"
      },
      "source": [
        "### Insight -\n",
        "* Most features have a high and direct correlation"
      ]
    },
    {
      "cell_type": "markdown",
      "metadata": {
        "id": "M-zg9uj5yeI5"
      },
      "source": [
        "# Visualizations"
      ]
    },
    {
      "cell_type": "code",
      "execution_count": 44,
      "metadata": {
        "colab": {
          "base_uri": "https://localhost:8080/",
          "height": 592
        },
        "id": "Y5FY2JM6yZg3",
        "outputId": "e3b026e6-c76f-448b-c30e-4ec0cdaee3fb"
      },
      "outputs": [
        {
          "data": {
            "image/png": "[encoded data removed]",
            "text/plain": [
              "<Figure size 1080x720 with 4 Axes>"
            ]
          },
          "metadata": {
            "needs_background": "light"
          },
          "output_type": "display_data"
        }
      ],
      "source": [
        "# Plot the data\n",
        "HTS_PMTCT.plot(figsize=(15,10),subplots=True);"
      ]
    },
    {
      "cell_type": "code",
      "execution_count": 45,
      "metadata": {
        "colab": {
          "base_uri": "https://localhost:8080/",
          "height": 295
        },
        "id": "zWsBnM8fypNB",
        "outputId": "516477ce-9b8f-4bea-f924-692dce7ec73d"
      },
      "outputs": [
        {
          "data": {
            "image/png": "[encoded data removed]",
            "text/plain": [
              "<Figure size 432x288 with 1 Axes>"
            ]
          },
          "metadata": {
            "needs_background": "light"
          },
          "output_type": "display_data"
        }
      ],
      "source": [
        "# Yearly HIV Testing\n",
        "sns.countplot(x='Year',data=HTS_PMTCT)\n",
        "plt.title('Number of people who tested for HIV in a year')\n",
        "plt.xlabel('Year')\n",
        "plt.ylabel('Number of people who tested for HIV')\n",
        "plt.show();"
      ]
    },
    {
      "cell_type": "code",
      "execution_count": 46,
      "metadata": {
        "colab": {
          "base_uri": "https://localhost:8080/",
          "height": 412
        },
        "id": "UcTEcAbQy4bY",
        "outputId": "9f8729dd-a1a6-4c2c-9e61-fb981844a2a5"
      },
      "outputs": [
        {
          "data": {
            "image/png": "[encoded data removed]",
            "text/plain": [
              "<Figure size 432x288 with 1 Axes>"
            ]
          },
          "metadata": {
            "needs_background": "light"
          },
          "output_type": "display_data"
        }
      ],
      "source": [
        "# Sub county wise HIV Testing\n",
        "sns.countplot(x='sub_county',data=HTS_PMTCT)\n",
        "plt.title('Number of people who tested for HIV in a sub county')\n",
        "plt.xlabel('Sub County')\n",
        "plt.ylabel('Number of people who tested for HIV')\n",
        "plt.xticks(rotation=90)\n",
        "plt.show();"
      ]
    },
    {
      "cell_type": "code",
      "execution_count": 47,
      "metadata": {
        "colab": {
          "base_uri": "https://localhost:8080/",
          "height": 707
        },
        "id": "Lw_U1NhQ0Hiq",
        "outputId": "8b13f8d9-2608-4d08-a8dc-6e19eb57d01e"
      },
      "outputs": [
        {
          "data": {
            "image/png": "[encoded data removed]",
            "text/plain": [
              "<Figure size 1152x648 with 1 Axes>"
            ]
          },
          "metadata": {
            "needs_background": "light"
          },
          "output_type": "display_data"
        }
      ],
      "source": [
        "# Ward wise HIV Testing\n",
        "plt.figure(figsize=(16,9))\n",
        "sns.countplot(x='ward',data=HTS_PMTCT)\n",
        "plt.title('Number of people who tested for HIV in a ward')\n",
        "plt.xlabel('Ward')\n",
        "plt.ylabel('Number of people who tested for HIV')\n",
        "plt.xticks(rotation=90)\n",
        "plt.show();"
      ]
    },
    {
      "cell_type": "code",
      "execution_count": 48,
      "metadata": {
        "colab": {
          "base_uri": "https://localhost:8080/",
          "height": 722
        },
        "id": "e18r8MZs0v1b",
        "outputId": "dfc60daf-9c2d-4fb5-c90f-0e01cc350610"
      },
      "outputs": [
        {
          "data": {
            "image/png": "[encoded data removed]",
            "text/plain": [
              "<Figure size 1152x648 with 1 Axes>"
            ]
          },
          "metadata": {
            "needs_background": "light"
          },
          "output_type": "display_data"
        }
      ],
      "source": [
        "# Facility wise HIV Testing\n",
        "plt.figure(figsize=(16,9))\n",
        "sns.countplot(x='facility',data=HTS_PMTCT)\n",
        "plt.title('Number of people who tested for HIV in a facility')\n",
        "plt.xlabel('Facility')\n",
        "plt.ylabel('Number of people who tested for HIV')\n",
        "plt.xticks(rotation=90)\n",
        "plt.show();"
      ]
    },
    {
      "cell_type": "code",
      "execution_count": 49,
      "metadata": {
        "colab": {
          "base_uri": "https://localhost:8080/",
          "height": 648
        },
        "id": "TyuRGxG91IKJ",
        "outputId": "e3ced012-9870-4520-fbc1-cf78cedad229"
      },
      "outputs": [
        {
          "data": {
            "image/png": "[encoded data removed]",
            "text/plain": [
              "<Figure size 1152x648 with 1 Axes>"
            ]
          },
          "metadata": {
            "needs_background": "light"
          },
          "output_type": "display_data"
        }
      ],
      "source": [
        "# County wise HIV Testing\n",
        "plt.figure(figsize=(16,9))\n",
        "sns.countplot(x='county',data=HTS_PMTCT)\n",
        "plt.title('Number of people who tested for HIV in a county')\n",
        "plt.xlabel('County')\n",
        "plt.ylabel('Number of people who tested for HIV')\n",
        "plt.xticks(rotation=90)\n",
        "plt.show();"
      ]
    },
    {
      "cell_type": "markdown",
      "metadata": {
        "id": "oI-hBni93fE9"
      },
      "source": [
        "# Modelling"
      ]
    },
    {
      "cell_type": "code",
      "execution_count": 20,
      "metadata": {
        "id": "NoI-mMHraK56"
      },
      "outputs": [],
      "source": [
        "df1 = HTS_comparison21[[\"facility\", \"ward\", \"sub_county\", \"county\", \"indicators\", \"khis_data\", \"datim_value\"]]"
      ]
    },
    {
      "cell_type": "code",
      "execution_count": 51,
      "metadata": {
        "id": "qV1gouBSRoKl"
      },
      "outputs": [],
      "source": [
        "#PMTCT_comparison21.loc[:, 'facility'] = 'Yes'\n",
        "#df1[\"PMTCT\"] = PMTCT_comparison21.facility"
      ]
    },
    {
      "cell_type": "code",
      "execution_count": 52,
      "metadata": {
        "id": "8Fy_-lhGbIOr"
      },
      "outputs": [],
      "source": [
        "#HTS_comparison21.loc[: 'facility'] = 'No'\n",
        "#df1[\"HTS\"] = HTS_comparison21.facility"
      ]
    },
    {
      "cell_type": "code",
      "execution_count": 21,
      "metadata": {
        "colab": {
          "base_uri": "https://localhost:8080/",
          "height": 337
        },
        "id": "6LhKbQjT8qlD",
        "outputId": "dce1a594-9e77-4313-8420-4031de21805f"
      },
      "outputs": [
        {
          "data": {
            "text/html": [
              "<div>\n",
              "<style scoped>\n",
              "    .dataframe tbody tr th:only-of-type {\n",
              "        vertical-align: middle;\n",
              "    }\n",
              "\n",
              "    .dataframe tbody tr th {\n",
              "        vertical-align: top;\n",
              "    }\n",
              "\n",
              "    .dataframe thead th {\n",
              "        text-align: right;\n",
              "    }\n",
              "</style>\n",
              "<table border=\"1\" class=\"dataframe\">\n",
              "  <thead>\n",
              "    <tr style=\"text-align: right;\">\n",
              "      <th></th>\n",
              "      <th>facility</th>\n",
              "      <th>ward</th>\n",
              "      <th>sub_county</th>\n",
              "      <th>county</th>\n",
              "      <th>indicators</th>\n",
              "      <th>khis_data</th>\n",
              "      <th>datim_value</th>\n",
              "      <th>period</th>\n",
              "      <th>Month</th>\n",
              "      <th>Quarter</th>\n",
              "    </tr>\n",
              "  </thead>\n",
              "  <tbody>\n",
              "    <tr>\n",
              "      <th>0</th>\n",
              "      <td>Malaba Dispensary</td>\n",
              "      <td>Malaba Central Ward</td>\n",
              "      <td>Teso North Sub County</td>\n",
              "      <td>Busia County</td>\n",
              "      <td>MOH 731   Start ART_25+(M)         HV03-024</td>\n",
              "      <td>7</td>\n",
              "      <td>7.0</td>\n",
              "      <td>2020Q1</td>\n",
              "      <td>01</td>\n",
              "      <td>1</td>\n",
              "    </tr>\n",
              "    <tr>\n",
              "      <th>1</th>\n",
              "      <td>Malaba Dispensary</td>\n",
              "      <td>Malaba Central Ward</td>\n",
              "      <td>Teso North Sub County</td>\n",
              "      <td>Busia County</td>\n",
              "      <td>MOH 731  Tested_15-19(F)  HV01-05</td>\n",
              "      <td>12</td>\n",
              "      <td>43.0</td>\n",
              "      <td>2020Q1</td>\n",
              "      <td>01</td>\n",
              "      <td>1</td>\n",
              "    </tr>\n",
              "    <tr>\n",
              "      <th>2</th>\n",
              "      <td>Westlands Health Centre</td>\n",
              "      <td>Parklands/Highridge Ward</td>\n",
              "      <td>Westlands Sub County</td>\n",
              "      <td>Nairobi County</td>\n",
              "      <td>MOH 731   Start ART_25+(M)         HV03-024</td>\n",
              "      <td>7</td>\n",
              "      <td>6.0</td>\n",
              "      <td>2020Q2</td>\n",
              "      <td>04</td>\n",
              "      <td>2</td>\n",
              "    </tr>\n",
              "    <tr>\n",
              "      <th>3</th>\n",
              "      <td>Westlands Health Centre</td>\n",
              "      <td>Parklands/Highridge Ward</td>\n",
              "      <td>Westlands Sub County</td>\n",
              "      <td>Nairobi County</td>\n",
              "      <td>MOH 731  Tested_15-19(F)  HV01-05</td>\n",
              "      <td>16</td>\n",
              "      <td>48.0</td>\n",
              "      <td>2020Q1</td>\n",
              "      <td>01</td>\n",
              "      <td>1</td>\n",
              "    </tr>\n",
              "    <tr>\n",
              "      <th>4</th>\n",
              "      <td>Murang'a District Hospital</td>\n",
              "      <td>Township Ward</td>\n",
              "      <td>Kiharu Sub County</td>\n",
              "      <td>Muranga County</td>\n",
              "      <td>MOH 731  Tested_10-14(F)   HV01-03</td>\n",
              "      <td>19</td>\n",
              "      <td>45.0</td>\n",
              "      <td>2020Q1</td>\n",
              "      <td>01</td>\n",
              "      <td>1</td>\n",
              "    </tr>\n",
              "  </tbody>\n",
              "</table>\n",
              "</div>"
            ],
            "text/plain": [
              "                     facility                      ward  \\\n",
              "0           Malaba Dispensary       Malaba Central Ward   \n",
              "1           Malaba Dispensary       Malaba Central Ward   \n",
              "2     Westlands Health Centre  Parklands/Highridge Ward   \n",
              "3     Westlands Health Centre  Parklands/Highridge Ward   \n",
              "4  Murang'a District Hospital             Township Ward   \n",
              "\n",
              "              sub_county          county  \\\n",
              "0  Teso North Sub County    Busia County   \n",
              "1  Teso North Sub County    Busia County   \n",
              "2   Westlands Sub County  Nairobi County   \n",
              "3   Westlands Sub County  Nairobi County   \n",
              "4      Kiharu Sub County  Muranga County   \n",
              "\n",
              "                                    indicators  khis_data  datim_value  \\\n",
              "0  MOH 731   Start ART_25+(M)         HV03-024          7          7.0   \n",
              "1            MOH 731  Tested_15-19(F)  HV01-05         12         43.0   \n",
              "2  MOH 731   Start ART_25+(M)         HV03-024          7          6.0   \n",
              "3            MOH 731  Tested_15-19(F)  HV01-05         16         48.0   \n",
              "4           MOH 731  Tested_10-14(F)   HV01-03         19         45.0   \n",
              "\n",
              "   period Month Quarter  \n",
              "0  2020Q1    01       1  \n",
              "1  2020Q1    01       1  \n",
              "2  2020Q2    04       2  \n",
              "3  2020Q1    01       1  \n",
              "4  2020Q1    01       1  "
            ]
          },
          "execution_count": 21,
          "metadata": {},
          "output_type": "execute_result"
        }
      ],
      "source": [
        "df1[[\"period\", \"Month\", \"Quarter\"]] = HTS_PMTCT[[\"period\", \"Month\", \"Quarter\"]]\n",
        "df1.head()"
      ]
    },
    {
      "cell_type": "code",
      "execution_count": 54,
      "metadata": {
        "colab": {
          "base_uri": "https://localhost:8080/",
          "height": 685
        },
        "id": "Ku6C3QJOyfuw",
        "outputId": "f4f24502-2bb4-4dd6-e6b2-dfc6796cd694"
      },
      "outputs": [
        {
          "data": {
            "image/png": "[encoded data removed]",
            "text/plain": [
              "<Figure size 1152x648 with 1 Axes>"
            ]
          },
          "metadata": {
            "needs_background": "light"
          },
          "output_type": "display_data"
        }
      ],
      "source": [
        "# Plot the datim value and khis data versus county\n",
        "plt.figure(figsize=(16,9))\n",
        "sns.scatterplot(x='datim_value', y='khis_data', data=df1, hue='county')\n",
        "plt.title('Datim Value vs Khis Data')\n",
        "plt.xlabel('Datim Value')\n",
        "plt.ylabel('Khis Data')\n",
        "plt.xticks(rotation=90)\n",
        "plt.show();"
      ]
    },
    {
      "cell_type": "code",
      "execution_count": 22,
      "metadata": {
        "id": "WBzO90svgNHe"
      },
      "outputs": [],
      "source": [
        "facity = PMTCT_comparison21.facility.to_list()"
      ]
    },
    {
      "cell_type": "code",
      "execution_count": 23,
      "metadata": {
        "id": "mmub3RW7gcL2"
      },
      "outputs": [],
      "source": [
        "facity = pd.Series(facity)\n",
        "df1['facility'] = pd.concat([df1['facility'], facity], ignore_index=True)\n",
        "\n"
      ]
    },
    {
      "cell_type": "code",
      "execution_count": 24,
      "metadata": {
        "colab": {
          "base_uri": "https://localhost:8080/"
        },
        "id": "E-J8ApOdh_86",
        "outputId": "0734e4e2-57d5-40da-956b-7395c8e09059"
      },
      "outputs": [],
      "source": [
        "lq = []\n",
        "for l in HTS_comparison21.facility:\n",
        "  lq.append(l)"
      ]
    },
    {
      "cell_type": "code",
      "execution_count": 25,
      "metadata": {
        "colab": {
          "base_uri": "https://localhost:8080/"
        },
        "id": "GJLLAtSOir_T",
        "outputId": "0488a3c1-2aff-4d18-de32-e15263972dc9"
      },
      "outputs": [],
      "source": [
        "lw = []\n",
        "for w in PMTCT_comparison21.facility:\n",
        "  lw.append(w)"
      ]
    },
    {
      "cell_type": "code",
      "execution_count": 26,
      "metadata": {
        "id": "WVX3caTNosEd"
      },
      "outputs": [],
      "source": [
        "PMTCT = []\n",
        "for col in df1.facility:\n",
        "  if col in lw:\n",
        "    PMTCT.append(\"Yes\")\n",
        "  elif col in lq:\n",
        "    PMTCT.append(\"No\")"
      ]
    },
    {
      "cell_type": "code",
      "execution_count": 27,
      "metadata": {
        "colab": {
          "base_uri": "https://localhost:8080/",
          "height": 337
        },
        "id": "jxK-eW15qugq",
        "outputId": "0a2aebae-02ee-4028-c290-34dfe7da5e7e"
      },
      "outputs": [
        {
          "data": {
            "text/html": [
              "<div>\n",
              "<style scoped>\n",
              "    .dataframe tbody tr th:only-of-type {\n",
              "        vertical-align: middle;\n",
              "    }\n",
              "\n",
              "    .dataframe tbody tr th {\n",
              "        vertical-align: top;\n",
              "    }\n",
              "\n",
              "    .dataframe thead th {\n",
              "        text-align: right;\n",
              "    }\n",
              "</style>\n",
              "<table border=\"1\" class=\"dataframe\">\n",
              "  <thead>\n",
              "    <tr style=\"text-align: right;\">\n",
              "      <th></th>\n",
              "      <th>facility</th>\n",
              "      <th>ward</th>\n",
              "      <th>sub_county</th>\n",
              "      <th>county</th>\n",
              "      <th>indicators</th>\n",
              "      <th>khis_data</th>\n",
              "      <th>datim_value</th>\n",
              "      <th>period</th>\n",
              "      <th>Month</th>\n",
              "      <th>Quarter</th>\n",
              "      <th>PMTCT</th>\n",
              "    </tr>\n",
              "  </thead>\n",
              "  <tbody>\n",
              "    <tr>\n",
              "      <th>0</th>\n",
              "      <td>Malaba Dispensary</td>\n",
              "      <td>Malaba Central Ward</td>\n",
              "      <td>Teso North Sub County</td>\n",
              "      <td>Busia County</td>\n",
              "      <td>MOH 731   Start ART_25+(M)         HV03-024</td>\n",
              "      <td>7</td>\n",
              "      <td>7.0</td>\n",
              "      <td>2020Q1</td>\n",
              "      <td>01</td>\n",
              "      <td>1</td>\n",
              "      <td>Yes</td>\n",
              "    </tr>\n",
              "    <tr>\n",
              "      <th>1</th>\n",
              "      <td>Malaba Dispensary</td>\n",
              "      <td>Malaba Central Ward</td>\n",
              "      <td>Teso North Sub County</td>\n",
              "      <td>Busia County</td>\n",
              "      <td>MOH 731  Tested_15-19(F)  HV01-05</td>\n",
              "      <td>12</td>\n",
              "      <td>43.0</td>\n",
              "      <td>2020Q1</td>\n",
              "      <td>01</td>\n",
              "      <td>1</td>\n",
              "      <td>Yes</td>\n",
              "    </tr>\n",
              "    <tr>\n",
              "      <th>2</th>\n",
              "      <td>Westlands Health Centre</td>\n",
              "      <td>Parklands/Highridge Ward</td>\n",
              "      <td>Westlands Sub County</td>\n",
              "      <td>Nairobi County</td>\n",
              "      <td>MOH 731   Start ART_25+(M)         HV03-024</td>\n",
              "      <td>7</td>\n",
              "      <td>6.0</td>\n",
              "      <td>2020Q2</td>\n",
              "      <td>04</td>\n",
              "      <td>2</td>\n",
              "      <td>Yes</td>\n",
              "    </tr>\n",
              "    <tr>\n",
              "      <th>3</th>\n",
              "      <td>Westlands Health Centre</td>\n",
              "      <td>Parklands/Highridge Ward</td>\n",
              "      <td>Westlands Sub County</td>\n",
              "      <td>Nairobi County</td>\n",
              "      <td>MOH 731  Tested_15-19(F)  HV01-05</td>\n",
              "      <td>16</td>\n",
              "      <td>48.0</td>\n",
              "      <td>2020Q1</td>\n",
              "      <td>01</td>\n",
              "      <td>1</td>\n",
              "      <td>Yes</td>\n",
              "    </tr>\n",
              "    <tr>\n",
              "      <th>4</th>\n",
              "      <td>Murang'a District Hospital</td>\n",
              "      <td>Township Ward</td>\n",
              "      <td>Kiharu Sub County</td>\n",
              "      <td>Muranga County</td>\n",
              "      <td>MOH 731  Tested_10-14(F)   HV01-03</td>\n",
              "      <td>19</td>\n",
              "      <td>45.0</td>\n",
              "      <td>2020Q1</td>\n",
              "      <td>01</td>\n",
              "      <td>1</td>\n",
              "      <td>Yes</td>\n",
              "    </tr>\n",
              "  </tbody>\n",
              "</table>\n",
              "</div>"
            ],
            "text/plain": [
              "                     facility                      ward  \\\n",
              "0           Malaba Dispensary       Malaba Central Ward   \n",
              "1           Malaba Dispensary       Malaba Central Ward   \n",
              "2     Westlands Health Centre  Parklands/Highridge Ward   \n",
              "3     Westlands Health Centre  Parklands/Highridge Ward   \n",
              "4  Murang'a District Hospital             Township Ward   \n",
              "\n",
              "              sub_county          county  \\\n",
              "0  Teso North Sub County    Busia County   \n",
              "1  Teso North Sub County    Busia County   \n",
              "2   Westlands Sub County  Nairobi County   \n",
              "3   Westlands Sub County  Nairobi County   \n",
              "4      Kiharu Sub County  Muranga County   \n",
              "\n",
              "                                    indicators  khis_data  datim_value  \\\n",
              "0  MOH 731   Start ART_25+(M)         HV03-024          7          7.0   \n",
              "1            MOH 731  Tested_15-19(F)  HV01-05         12         43.0   \n",
              "2  MOH 731   Start ART_25+(M)         HV03-024          7          6.0   \n",
              "3            MOH 731  Tested_15-19(F)  HV01-05         16         48.0   \n",
              "4           MOH 731  Tested_10-14(F)   HV01-03         19         45.0   \n",
              "\n",
              "   period Month Quarter PMTCT  \n",
              "0  2020Q1    01       1   Yes  \n",
              "1  2020Q1    01       1   Yes  \n",
              "2  2020Q2    04       2   Yes  \n",
              "3  2020Q1    01       1   Yes  \n",
              "4  2020Q1    01       1   Yes  "
            ]
          },
          "execution_count": 27,
          "metadata": {},
          "output_type": "execute_result"
        }
      ],
      "source": [
        "pmtct_series = pd.Series(PMTCT)\n",
        "df1['PMTCT'] = pmtct_series\n",
        "df1.head()"
      ]
    },
    {
      "cell_type": "code",
      "execution_count": 61,
      "metadata": {
        "colab": {
          "base_uri": "https://localhost:8080/"
        },
        "id": "NPrV1q9Fq--G",
        "outputId": "b59d541b-ede1-4fcc-bd23-cc0dd39b3898"
      },
      "outputs": [
        {
          "data": {
            "text/plain": [
              "Yes    33939\n",
              "No      1586\n",
              "Name: PMTCT, dtype: int64"
            ]
          },
          "execution_count": 61,
          "metadata": {},
          "output_type": "execute_result"
        }
      ],
      "source": [
        "df1.PMTCT.value_counts()"
      ]
    },
    {
      "cell_type": "code",
      "execution_count": 62,
      "metadata": {
        "colab": {
          "base_uri": "https://localhost:8080/"
        },
        "id": "ygeQQ-uKsDao",
        "outputId": "9d353a5c-9721-4936-c7e5-c80bf40f7765"
      },
      "outputs": [
        {
          "name": "stdout",
          "output_type": "stream",
          "text": [
            "<class 'pandas.core.frame.DataFrame'>\n",
            "RangeIndex: 35525 entries, 0 to 35524\n",
            "Data columns (total 11 columns):\n",
            " #   Column       Non-Null Count  Dtype  \n",
            "---  ------       --------------  -----  \n",
            " 0   facility     35525 non-null  object \n",
            " 1   ward         35525 non-null  object \n",
            " 2   sub_county   35525 non-null  object \n",
            " 3   county       35525 non-null  object \n",
            " 4   indicators   35525 non-null  object \n",
            " 5   khis_data    35525 non-null  int64  \n",
            " 6   datim_value  34569 non-null  float64\n",
            " 7   period       69 non-null     object \n",
            " 8   Month        69 non-null     object \n",
            " 9   Quarter      69 non-null     object \n",
            " 10  PMTCT        35525 non-null  object \n",
            "dtypes: float64(1), int64(1), object(9)\n",
            "memory usage: 3.0+ MB\n"
          ]
        }
      ],
      "source": [
        "df1.info()"
      ]
    },
    {
      "cell_type": "code",
      "execution_count": 63,
      "metadata": {
        "colab": {
          "base_uri": "https://localhost:8080/"
        },
        "id": "jUQQPFWxviX-",
        "outputId": "2a70d367-c80d-4e53-f23a-194ca506403c"
      },
      "outputs": [
        {
          "data": {
            "text/plain": [
              "Index(['facility', 'ward', 'sub_county', 'county', 'indicators', 'khis_data',\n",
              "       'datim_value', 'period', 'Month', 'Quarter', 'PMTCT'],\n",
              "      dtype='object')"
            ]
          },
          "execution_count": 63,
          "metadata": {},
          "output_type": "execute_result"
        }
      ],
      "source": [
        "df1.columns"
      ]
    },
    {
      "cell_type": "code",
      "execution_count": 29,
      "metadata": {
        "colab": {
          "base_uri": "https://localhost:8080/"
        },
        "id": "Q41vCVQSrWDL",
        "outputId": "4fd4fef1-59ce-416f-e59d-54eb9314f9d8"
      },
      "outputs": [
        {
          "data": {
            "text/html": [
              "<style>#sk-container-id-1 {color: black;background-color: white;}#sk-container-id-1 pre{padding: 0;}#sk-container-id-1 div.sk-toggleable {background-color: white;}#sk-container-id-1 label.sk-toggleable__label {cursor: pointer;display: block;width: 100%;margin-bottom: 0;padding: 0.3em;box-sizing: border-box;text-align: center;}#sk-container-id-1 label.sk-toggleable__label-arrow:before {content: \"▸\";float: left;margin-right: 0.25em;color: #696969;}#sk-container-id-1 label.sk-toggleable__label-arrow:hover:before {color: black;}#sk-container-id-1 div.sk-estimator:hover label.sk-toggleable__label-arrow:before {color: black;}#sk-container-id-1 div.sk-toggleable__content {max-height: 0;max-width: 0;overflow: hidden;text-align: left;background-color: #f0f8ff;}#sk-container-id-1 div.sk-toggleable__content pre {margin: 0.2em;color: black;border-radius: 0.25em;background-color: #f0f8ff;}#sk-container-id-1 input.sk-toggleable__control:checked~div.sk-toggleable__content {max-height: 200px;max-width: 100%;overflow: auto;}#sk-container-id-1 input.sk-toggleable__control:checked~label.sk-toggleable__label-arrow:before {content: \"▾\";}#sk-container-id-1 div.sk-estimator input.sk-toggleable__control:checked~label.sk-toggleable__label {background-color: #d4ebff;}#sk-container-id-1 div.sk-label input.sk-toggleable__control:checked~label.sk-toggleable__label {background-color: #d4ebff;}#sk-container-id-1 input.sk-hidden--visually {border: 0;clip: rect(1px 1px 1px 1px);clip: rect(1px, 1px, 1px, 1px);height: 1px;margin: -1px;overflow: hidden;padding: 0;position: absolute;width: 1px;}#sk-container-id-1 div.sk-estimator {font-family: monospace;background-color: #f0f8ff;border: 1px dotted black;border-radius: 0.25em;box-sizing: border-box;margin-bottom: 0.5em;}#sk-container-id-1 div.sk-estimator:hover {background-color: #d4ebff;}#sk-container-id-1 div.sk-parallel-item::after {content: \"\";width: 100%;border-bottom: 1px solid gray;flex-grow: 1;}#sk-container-id-1 div.sk-label:hover label.sk-toggleable__label {background-color: #d4ebff;}#sk-container-id-1 div.sk-serial::before {content: \"\";position: absolute;border-left: 1px solid gray;box-sizing: border-box;top: 0;bottom: 0;left: 50%;z-index: 0;}#sk-container-id-1 div.sk-serial {display: flex;flex-direction: column;align-items: center;background-color: white;padding-right: 0.2em;padding-left: 0.2em;position: relative;}#sk-container-id-1 div.sk-item {position: relative;z-index: 1;}#sk-container-id-1 div.sk-parallel {display: flex;align-items: stretch;justify-content: center;background-color: white;position: relative;}#sk-container-id-1 div.sk-item::before, #sk-container-id-1 div.sk-parallel-item::before {content: \"\";position: absolute;border-left: 1px solid gray;box-sizing: border-box;top: 0;bottom: 0;left: 50%;z-index: -1;}#sk-container-id-1 div.sk-parallel-item {display: flex;flex-direction: column;z-index: 1;position: relative;background-color: white;}#sk-container-id-1 div.sk-parallel-item:first-child::after {align-self: flex-end;width: 50%;}#sk-container-id-1 div.sk-parallel-item:last-child::after {align-self: flex-start;width: 50%;}#sk-container-id-1 div.sk-parallel-item:only-child::after {width: 0;}#sk-container-id-1 div.sk-dashed-wrapped {border: 1px dashed gray;margin: 0 0.4em 0.5em 0.4em;box-sizing: border-box;padding-bottom: 0.4em;background-color: white;}#sk-container-id-1 div.sk-label label {font-family: monospace;font-weight: bold;display: inline-block;line-height: 1.2em;}#sk-container-id-1 div.sk-label-container {text-align: center;}#sk-container-id-1 div.sk-container {/* jupyter's `normalize.less` sets `[hidden] { display: none; }` but bootstrap.min.css set `[hidden] { display: none !important; }` so we also need the `!important` here to be able to override the default hidden behavior on the sphinx rendered scikit-learn.org. See: https://github.com/scikit-learn/scikit-learn/issues/21755 */display: inline-block !important;position: relative;}#sk-container-id-1 div.sk-text-repr-fallback {display: none;}</style><div id=\"sk-container-id-1\" class=\"sk-top-container\"><div class=\"sk-text-repr-fallback\"><pre>Pipeline(steps=[(&#x27;onehotencoder&#x27;, OneHotEncoder(handle_unknown=&#x27;ignore&#x27;)),\n",
              "                (&#x27;logisticregression&#x27;, LogisticRegression())])</pre><b>In a Jupyter environment, please rerun this cell to show the HTML representation or trust the notebook. <br />On GitHub, the HTML representation is unable to render, please try loading this page with nbviewer.org.</b></div><div class=\"sk-container\" hidden><div class=\"sk-item sk-dashed-wrapped\"><div class=\"sk-label-container\"><div class=\"sk-label sk-toggleable\"><input class=\"sk-toggleable__control sk-hidden--visually\" id=\"sk-estimator-id-1\" type=\"checkbox\" ><label for=\"sk-estimator-id-1\" class=\"sk-toggleable__label sk-toggleable__label-arrow\">Pipeline</label><div class=\"sk-toggleable__content\"><pre>Pipeline(steps=[(&#x27;onehotencoder&#x27;, OneHotEncoder(handle_unknown=&#x27;ignore&#x27;)),\n",
              "                (&#x27;logisticregression&#x27;, LogisticRegression())])</pre></div></div></div><div class=\"sk-serial\"><div class=\"sk-item\"><div class=\"sk-estimator sk-toggleable\"><input class=\"sk-toggleable__control sk-hidden--visually\" id=\"sk-estimator-id-2\" type=\"checkbox\" ><label for=\"sk-estimator-id-2\" class=\"sk-toggleable__label sk-toggleable__label-arrow\">OneHotEncoder</label><div class=\"sk-toggleable__content\"><pre>OneHotEncoder(handle_unknown=&#x27;ignore&#x27;)</pre></div></div></div><div class=\"sk-item\"><div class=\"sk-estimator sk-toggleable\"><input class=\"sk-toggleable__control sk-hidden--visually\" id=\"sk-estimator-id-3\" type=\"checkbox\" ><label for=\"sk-estimator-id-3\" class=\"sk-toggleable__label sk-toggleable__label-arrow\">LogisticRegression</label><div class=\"sk-toggleable__content\"><pre>LogisticRegression()</pre></div></div></div></div></div></div></div>"
            ],
            "text/plain": [
              "Pipeline(steps=[('onehotencoder', OneHotEncoder(handle_unknown='ignore')),\n",
              "                ('logisticregression', LogisticRegression())])"
            ]
          },
          "execution_count": 29,
          "metadata": {},
          "output_type": "execute_result"
        }
      ],
      "source": [
        "#!pip install category_encoders\n",
        "#import category_encoders\n",
        "#from category_encoders import OneHotEncoder\n",
        "\n",
        "target = \"PMTCT\"\n",
        "features = ['facility', 'ward', 'sub_county', 'county', 'indicators', \n",
        "            'khis_data', 'datim_value', 'period', 'Month']\n",
        "\n",
        "X = df1[features]\n",
        "y = df1[target]\n",
        "\n",
        "X_train, X_test, y_train, y_test = train_test_split(X, y, test_size=.2, random_state=42)\n",
        "\n",
        "lr_model = make_pipeline(\n",
        "    OneHotEncoder(handle_unknown = \"ignore\"),\n",
        "    LogisticRegression()\n",
        ")\n",
        "lr_model.fit(X_train, y_train)\n"
      ]
    },
    {
      "cell_type": "code",
      "execution_count": 65,
      "metadata": {
        "colab": {
          "base_uri": "https://localhost:8080/"
        },
        "id": "A6VX27nDxbJq",
        "outputId": "16b90d04-0dca-45dc-f844-fb75d6795712"
      },
      "outputs": [
        {
          "data": {
            "text/plain": [
              "array(['Yes', 'Yes', 'Yes', ..., 'Yes', 'Yes', 'Yes'], dtype=object)"
            ]
          },
          "execution_count": 65,
          "metadata": {},
          "output_type": "execute_result"
        }
      ],
      "source": [
        "y_pred = lr_model.predict(X_test)\n",
        "y_pred"
      ]
    },
    {
      "cell_type": "code",
      "execution_count": 66,
      "metadata": {
        "colab": {
          "base_uri": "https://localhost:8080/"
        },
        "id": "dcI5FiO7yKIw",
        "outputId": "d68610c4-a8d1-4654-c10c-7e9c5dafc6c6"
      },
      "outputs": [
        {
          "name": "stdout",
          "output_type": "stream",
          "text": [
            "Accuracy score: 0.9915552427867699\n",
            "\n",
            "\n",
            "              precision    recall  f1-score   support\n",
            "\n",
            "          No       1.00      0.80      0.89       302\n",
            "         Yes       0.99      1.00      1.00      6803\n",
            "\n",
            "    accuracy                           0.99      7105\n",
            "   macro avg       0.99      0.90      0.94      7105\n",
            "weighted avg       0.99      0.99      0.99      7105\n",
            "\n"
          ]
        }
      ],
      "source": [
        "from sklearn.metrics import log_loss, accuracy_score, classification_report, roc_auc_score, \\\n",
        "confusion_matrix, ConfusionMatrixDisplay\n",
        "print(f'Accuracy score: {accuracy_score(y_test, y_pred)}')\n",
        "print('\\n')\n",
        "print(f'{classification_report(y_test, y_pred)}')"
      ]
    },
    {
      "cell_type": "code",
      "execution_count": 39,
      "metadata": {
        "colab": {
          "base_uri": "https://localhost:8080/"
        },
        "id": "Jt98e-rohk8Q",
        "outputId": "b75b2834-6e91-4430-9254-14af9bdc50c0"
      },
      "outputs": [
        {
          "name": "stdout",
          "output_type": "stream",
          "text": [
            "['Yes' 'Yes' 'Yes' ... 'Yes' 'Yes' 'Yes']\n",
            "Accuracy score: 0.9971850809289233\n",
            "\n",
            "\n",
            "              precision    recall  f1-score   support\n",
            "\n",
            "          No       1.00      0.93      0.97       302\n",
            "         Yes       1.00      1.00      1.00      6803\n",
            "\n",
            "    accuracy                           1.00      7105\n",
            "   macro avg       1.00      0.97      0.98      7105\n",
            "weighted avg       1.00      1.00      1.00      7105\n",
            "\n"
          ]
        }
      ],
      "source": [
        "# Build a Random Forest Classifier\n",
        "\n",
        "# Encode the data\n",
        "encoder = OneHotEncoder(handle_unknown = \"ignore\")\n",
        "X_train_encoded = encoder.fit_transform(X_train)\n",
        "X_test_encoded = encoder.transform(X_test)\n",
        "\n",
        "# Fit the model\n",
        "rf_model = RandomForestClassifier(n_estimators=100, random_state=42)\n",
        "rf_model.fit(X_train_encoded, y_train)\n",
        "\n",
        "# Make predictions\n",
        "rf_y_pred = rf_model.predict(X_test_encoded)\n",
        "print(rf_y_pred)\n",
        "\n",
        "# Evaluate the model\n",
        "from sklearn.metrics import log_loss, accuracy_score, classification_report, roc_auc_score, \\\n",
        "confusion_matrix, ConfusionMatrixDisplay\n",
        "print(f'Accuracy score: {accuracy_score(y_test, rf_y_pred)}')\n",
        "print('\\n')\n",
        "print(f'{classification_report(y_test, rf_y_pred)}')"
      ]
    },
    {
      "attachments": {},
      "cell_type": "markdown",
      "metadata": {},
      "source": [
        "* Precision is a metric that tells us about the quality of positive predictions. Out of every site to have taken PMTCT, how many of them actually did?"
      ]
    },
    {
      "attachments": {},
      "cell_type": "markdown",
      "metadata": {},
      "source": [
        "* Recall tells us about how well the model identifies true positives. Out of all the sites that actually took PMTCT, how many of them did the model identify?\n",
        "* The recall score is the most important metric for this problem. We want to be able to predict as many people who are HIV positive as possible. We don't want to miss out on any of them. This is why we are using the recall score as our main metric for evaluation.\n",
        "* For our case, the recall is 0.93 which is very good. This means that our model is able to predict 93% of the people who are HIV positive correctly."
      ]
    },
    {
      "cell_type": "code",
      "execution_count": 41,
      "metadata": {
        "colab": {
          "base_uri": "https://localhost:8080/",
          "height": 297
        },
        "id": "aMXLoINMyQXY",
        "outputId": "beb5d203-1539-424a-c116-b2b5a3f4cd33"
      },
      "outputs": [
        {
          "ename": "ValueError",
          "evalue": "Number of rows must be a positive integer, not <Figure size 1000x1000 with 0 Axes>",
          "output_type": "error",
          "traceback": [
            "\u001b[0;31m---------------------------------------------------------------------------\u001b[0m",
            "\u001b[0;31mValueError\u001b[0m                                Traceback (most recent call last)",
            "Cell \u001b[0;32mIn [41], line 2\u001b[0m\n\u001b[1;32m      1\u001b[0m \u001b[39m# Plot the confusion matrix\u001b[39;00m\n\u001b[0;32m----> 2\u001b[0m plt\u001b[39m.\u001b[39;49msubplots(plt\u001b[39m.\u001b[39;49mfigure(figsize\u001b[39m=\u001b[39;49m(\u001b[39m10\u001b[39;49m,\u001b[39m10\u001b[39;49m)))\n\u001b[1;32m      3\u001b[0m cm \u001b[39m=\u001b[39m confusion_matrix(y_test, y_pred)\n\u001b[1;32m      4\u001b[0m cm \u001b[39m=\u001b[39m confusion_matrix(y_test, rf_y_pred)\n",
            "File \u001b[0;32m/usr/lib/python3/dist-packages/matplotlib/pyplot.py:1456\u001b[0m, in \u001b[0;36msubplots\u001b[0;34m(nrows, ncols, sharex, sharey, squeeze, subplot_kw, gridspec_kw, **fig_kw)\u001b[0m\n\u001b[1;32m   1323\u001b[0m \u001b[39m\"\"\"\u001b[39;00m\n\u001b[1;32m   1324\u001b[0m \u001b[39mCreate a figure and a set of subplots.\u001b[39;00m\n\u001b[1;32m   1325\u001b[0m \n\u001b[0;32m   (...)\u001b[0m\n\u001b[1;32m   1453\u001b[0m \n\u001b[1;32m   1454\u001b[0m \u001b[39m\"\"\"\u001b[39;00m\n\u001b[1;32m   1455\u001b[0m fig \u001b[39m=\u001b[39m figure(\u001b[39m*\u001b[39m\u001b[39m*\u001b[39mfig_kw)\n\u001b[0;32m-> 1456\u001b[0m axs \u001b[39m=\u001b[39m fig\u001b[39m.\u001b[39;49msubplots(nrows\u001b[39m=\u001b[39;49mnrows, ncols\u001b[39m=\u001b[39;49mncols, sharex\u001b[39m=\u001b[39;49msharex, sharey\u001b[39m=\u001b[39;49msharey,\n\u001b[1;32m   1457\u001b[0m                    squeeze\u001b[39m=\u001b[39;49msqueeze, subplot_kw\u001b[39m=\u001b[39;49msubplot_kw,\n\u001b[1;32m   1458\u001b[0m                    gridspec_kw\u001b[39m=\u001b[39;49mgridspec_kw)\n\u001b[1;32m   1459\u001b[0m \u001b[39mreturn\u001b[39;00m fig, axs\n",
            "File \u001b[0;32m/usr/lib/python3/dist-packages/matplotlib/figure.py:896\u001b[0m, in \u001b[0;36mFigureBase.subplots\u001b[0;34m(self, nrows, ncols, sharex, sharey, squeeze, subplot_kw, gridspec_kw)\u001b[0m\n\u001b[1;32m    894\u001b[0m \u001b[39mif\u001b[39;00m gridspec_kw \u001b[39mis\u001b[39;00m \u001b[39mNone\u001b[39;00m:\n\u001b[1;32m    895\u001b[0m     gridspec_kw \u001b[39m=\u001b[39m {}\n\u001b[0;32m--> 896\u001b[0m gs \u001b[39m=\u001b[39m \u001b[39mself\u001b[39;49m\u001b[39m.\u001b[39;49madd_gridspec(nrows, ncols, figure\u001b[39m=\u001b[39;49m\u001b[39mself\u001b[39;49m, \u001b[39m*\u001b[39;49m\u001b[39m*\u001b[39;49mgridspec_kw)\n\u001b[1;32m    897\u001b[0m axs \u001b[39m=\u001b[39m gs\u001b[39m.\u001b[39msubplots(sharex\u001b[39m=\u001b[39msharex, sharey\u001b[39m=\u001b[39msharey, squeeze\u001b[39m=\u001b[39msqueeze,\n\u001b[1;32m    898\u001b[0m                   subplot_kw\u001b[39m=\u001b[39msubplot_kw)\n\u001b[1;32m    899\u001b[0m \u001b[39mreturn\u001b[39;00m axs\n",
            "File \u001b[0;32m/usr/lib/python3/dist-packages/matplotlib/figure.py:1447\u001b[0m, in \u001b[0;36mFigureBase.add_gridspec\u001b[0;34m(self, nrows, ncols, **kwargs)\u001b[0m\n\u001b[1;32m   1408\u001b[0m \u001b[39m\"\"\"\u001b[39;00m\n\u001b[1;32m   1409\u001b[0m \u001b[39mReturn a `.GridSpec` that has this figure as a parent.  This allows\u001b[39;00m\n\u001b[1;32m   1410\u001b[0m \u001b[39mcomplex layout of Axes in the figure.\u001b[39;00m\n\u001b[0;32m   (...)\u001b[0m\n\u001b[1;32m   1443\u001b[0m \n\u001b[1;32m   1444\u001b[0m \u001b[39m\"\"\"\u001b[39;00m\n\u001b[1;32m   1446\u001b[0m _ \u001b[39m=\u001b[39m kwargs\u001b[39m.\u001b[39mpop(\u001b[39m'\u001b[39m\u001b[39mfigure\u001b[39m\u001b[39m'\u001b[39m, \u001b[39mNone\u001b[39;00m)  \u001b[39m# pop in case user has added this...\u001b[39;00m\n\u001b[0;32m-> 1447\u001b[0m gs \u001b[39m=\u001b[39m GridSpec(nrows\u001b[39m=\u001b[39;49mnrows, ncols\u001b[39m=\u001b[39;49mncols, figure\u001b[39m=\u001b[39;49m\u001b[39mself\u001b[39;49m, \u001b[39m*\u001b[39;49m\u001b[39m*\u001b[39;49mkwargs)\n\u001b[1;32m   1448\u001b[0m \u001b[39mself\u001b[39m\u001b[39m.\u001b[39m_gridspecs\u001b[39m.\u001b[39mappend(gs)\n\u001b[1;32m   1449\u001b[0m \u001b[39mreturn\u001b[39;00m gs\n",
            "File \u001b[0;32m/usr/lib/python3/dist-packages/matplotlib/gridspec.py:385\u001b[0m, in \u001b[0;36mGridSpec.__init__\u001b[0;34m(self, nrows, ncols, figure, left, bottom, right, top, wspace, hspace, width_ratios, height_ratios)\u001b[0m\n\u001b[1;32m    382\u001b[0m \u001b[39mself\u001b[39m\u001b[39m.\u001b[39mhspace \u001b[39m=\u001b[39m hspace\n\u001b[1;32m    383\u001b[0m \u001b[39mself\u001b[39m\u001b[39m.\u001b[39mfigure \u001b[39m=\u001b[39m figure\n\u001b[0;32m--> 385\u001b[0m \u001b[39msuper\u001b[39;49m()\u001b[39m.\u001b[39;49m\u001b[39m__init__\u001b[39;49m(nrows, ncols,\n\u001b[1;32m    386\u001b[0m                  width_ratios\u001b[39m=\u001b[39;49mwidth_ratios,\n\u001b[1;32m    387\u001b[0m                  height_ratios\u001b[39m=\u001b[39;49mheight_ratios)\n",
            "File \u001b[0;32m/usr/lib/python3/dist-packages/matplotlib/gridspec.py:49\u001b[0m, in \u001b[0;36mGridSpecBase.__init__\u001b[0;34m(self, nrows, ncols, height_ratios, width_ratios)\u001b[0m\n\u001b[1;32m     34\u001b[0m \u001b[39m\"\"\"\u001b[39;00m\n\u001b[1;32m     35\u001b[0m \u001b[39mParameters\u001b[39;00m\n\u001b[1;32m     36\u001b[0m \u001b[39m----------\u001b[39;00m\n\u001b[0;32m   (...)\u001b[0m\n\u001b[1;32m     46\u001b[0m \u001b[39m    If not given, all rows will have the same height.\u001b[39;00m\n\u001b[1;32m     47\u001b[0m \u001b[39m\"\"\"\u001b[39;00m\n\u001b[1;32m     48\u001b[0m \u001b[39mif\u001b[39;00m \u001b[39mnot\u001b[39;00m \u001b[39misinstance\u001b[39m(nrows, Integral) \u001b[39mor\u001b[39;00m nrows \u001b[39m<\u001b[39m\u001b[39m=\u001b[39m \u001b[39m0\u001b[39m:\n\u001b[0;32m---> 49\u001b[0m     \u001b[39mraise\u001b[39;00m \u001b[39mValueError\u001b[39;00m(\n\u001b[1;32m     50\u001b[0m         \u001b[39mf\u001b[39m\u001b[39m\"\u001b[39m\u001b[39mNumber of rows must be a positive integer, not \u001b[39m\u001b[39m{\u001b[39;00mnrows\u001b[39m!r}\u001b[39;00m\u001b[39m\"\u001b[39m)\n\u001b[1;32m     51\u001b[0m \u001b[39mif\u001b[39;00m \u001b[39mnot\u001b[39;00m \u001b[39misinstance\u001b[39m(ncols, Integral) \u001b[39mor\u001b[39;00m ncols \u001b[39m<\u001b[39m\u001b[39m=\u001b[39m \u001b[39m0\u001b[39m:\n\u001b[1;32m     52\u001b[0m     \u001b[39mraise\u001b[39;00m \u001b[39mValueError\u001b[39;00m(\n\u001b[1;32m     53\u001b[0m         \u001b[39mf\u001b[39m\u001b[39m\"\u001b[39m\u001b[39mNumber of columns must be a positive integer, not \u001b[39m\u001b[39m{\u001b[39;00mncols\u001b[39m!r}\u001b[39;00m\u001b[39m\"\u001b[39m)\n",
            "\u001b[0;31mValueError\u001b[0m: Number of rows must be a positive integer, not <Figure size 1000x1000 with 0 Axes>"
          ]
        },
        {
          "data": {
            "text/plain": [
              "<Figure size 1000x1000 with 0 Axes>"
            ]
          },
          "metadata": {},
          "output_type": "display_data"
        },
        {
          "data": {
            "text/plain": [
              "<Figure size 640x480 with 0 Axes>"
            ]
          },
          "metadata": {},
          "output_type": "display_data"
        }
      ],
      "source": [
        "# Plot the confusion matrix\n",
        "plt.subplots(plt.figure(figsize=(10,10)))\n",
        "cm = confusion_matrix(y_test, y_pred)\n",
        "cm = confusion_matrix(y_test, rf_y_pred)\n",
        "ConfusionMatrixDisplay(cm, display_labels=rf_model.classes_).plot();"
      ]
    },
    {
      "attachments": {},
      "cell_type": "markdown",
      "metadata": {},
      "source": [
        "* The true negative is 282 and the false negative is 20. This means that our model predicted 282 sites are PMTCTand 20 sites are negative wrongly. This is not a big deal because we are more concerned about the people who are HIV positive and our model was able to predict them correctly.\n",
        "* The true positive is 6803 and the false negative is 0. This means that our model predicted 6803 sites are PMTC positive correctly and 0 sites are PMTCT as negative(HTS). "
      ]
    },
    {
      "cell_type": "code",
      "execution_count": 40,
      "metadata": {
        "colab": {
          "base_uri": "https://localhost:8080/"
        },
        "id": "n7p2dOH202kS",
        "outputId": "bb6cf1eb-165f-4ae0-f2ea-b0cbb0657a50"
      },
      "outputs": [
        {
          "ename": "ValueError",
          "evalue": "Invalid classes inferred from unique values of `y`.  Expected: [0 1], got ['No' 'Yes']",
          "output_type": "error",
          "traceback": [
            "\u001b[0;31m---------------------------------------------------------------------------\u001b[0m",
            "\u001b[0;31mValueError\u001b[0m                                Traceback (most recent call last)",
            "Cell \u001b[0;32mIn [40], line 5\u001b[0m\n\u001b[1;32m      2\u001b[0m \u001b[39mfrom\u001b[39;00m \u001b[39mxgboost\u001b[39;00m \u001b[39mimport\u001b[39;00m XGBClassifier\n\u001b[1;32m      4\u001b[0m xgb_model \u001b[39m=\u001b[39m XGBClassifier()\n\u001b[0;32m----> 5\u001b[0m xgb_model\u001b[39m.\u001b[39;49mfit(X_train_encoded, y_train)\n\u001b[1;32m      7\u001b[0m xgb_y_pred \u001b[39m=\u001b[39m xgb_model\u001b[39m.\u001b[39mpredict(X_test_encoded)\n\u001b[1;32m      8\u001b[0m xgb_y_pred\n",
            "File \u001b[0;32m~/.local/lib/python3.10/site-packages/xgboost/core.py:620\u001b[0m, in \u001b[0;36mrequire_keyword_args.<locals>.throw_if.<locals>.inner_f\u001b[0;34m(*args, **kwargs)\u001b[0m\n\u001b[1;32m    618\u001b[0m \u001b[39mfor\u001b[39;00m k, arg \u001b[39min\u001b[39;00m \u001b[39mzip\u001b[39m(sig\u001b[39m.\u001b[39mparameters, args):\n\u001b[1;32m    619\u001b[0m     kwargs[k] \u001b[39m=\u001b[39m arg\n\u001b[0;32m--> 620\u001b[0m \u001b[39mreturn\u001b[39;00m func(\u001b[39m*\u001b[39;49m\u001b[39m*\u001b[39;49mkwargs)\n",
            "File \u001b[0;32m~/.local/lib/python3.10/site-packages/xgboost/sklearn.py:1440\u001b[0m, in \u001b[0;36mXGBClassifier.fit\u001b[0;34m(self, X, y, sample_weight, base_margin, eval_set, eval_metric, early_stopping_rounds, verbose, xgb_model, sample_weight_eval_set, base_margin_eval_set, feature_weights, callbacks)\u001b[0m\n\u001b[1;32m   1435\u001b[0m     expected_classes \u001b[39m=\u001b[39m np\u001b[39m.\u001b[39marange(\u001b[39mself\u001b[39m\u001b[39m.\u001b[39mn_classes_)\n\u001b[1;32m   1436\u001b[0m \u001b[39mif\u001b[39;00m (\n\u001b[1;32m   1437\u001b[0m     \u001b[39mself\u001b[39m\u001b[39m.\u001b[39mclasses_\u001b[39m.\u001b[39mshape \u001b[39m!=\u001b[39m expected_classes\u001b[39m.\u001b[39mshape\n\u001b[1;32m   1438\u001b[0m     \u001b[39mor\u001b[39;00m \u001b[39mnot\u001b[39;00m (\u001b[39mself\u001b[39m\u001b[39m.\u001b[39mclasses_ \u001b[39m==\u001b[39m expected_classes)\u001b[39m.\u001b[39mall()\n\u001b[1;32m   1439\u001b[0m ):\n\u001b[0;32m-> 1440\u001b[0m     \u001b[39mraise\u001b[39;00m \u001b[39mValueError\u001b[39;00m(\n\u001b[1;32m   1441\u001b[0m         \u001b[39mf\u001b[39m\u001b[39m\"\u001b[39m\u001b[39mInvalid classes inferred from unique values of `y`.  \u001b[39m\u001b[39m\"\u001b[39m\n\u001b[1;32m   1442\u001b[0m         \u001b[39mf\u001b[39m\u001b[39m\"\u001b[39m\u001b[39mExpected: \u001b[39m\u001b[39m{\u001b[39;00mexpected_classes\u001b[39m}\u001b[39;00m\u001b[39m, got \u001b[39m\u001b[39m{\u001b[39;00m\u001b[39mself\u001b[39m\u001b[39m.\u001b[39mclasses_\u001b[39m}\u001b[39;00m\u001b[39m\"\u001b[39m\n\u001b[1;32m   1443\u001b[0m     )\n\u001b[1;32m   1445\u001b[0m params \u001b[39m=\u001b[39m \u001b[39mself\u001b[39m\u001b[39m.\u001b[39mget_xgb_params()\n\u001b[1;32m   1447\u001b[0m \u001b[39mif\u001b[39;00m callable(\u001b[39mself\u001b[39m\u001b[39m.\u001b[39mobjective):\n",
            "\u001b[0;31mValueError\u001b[0m: Invalid classes inferred from unique values of `y`.  Expected: [0 1], got ['No' 'Yes']"
          ]
        }
      ],
      "source": [
        "import xgboost as xgb\n",
        "from xgboost import XGBClassifier\n",
        "\n",
        "xgb_model = XGBClassifier()\n",
        "xgb_model.fit(X_train_encoded, y_train)\n",
        "\n",
        "xgb_y_pred = xgb_model.predict(X_test_encoded)\n",
        "xgb_y_pred"
      ]
    },
    {
      "cell_type": "code",
      "execution_count": 77,
      "metadata": {
        "colab": {
          "base_uri": "https://localhost:8080/"
        },
        "id": "VfkPR-qr2sgX",
        "outputId": "333c5409-1af1-4887-994c-3ca1dfa46d6b"
      },
      "outputs": [
        {
          "name": "stdout",
          "output_type": "stream",
          "text": [
            "Error rate of XGB classifier:  0.04236453201970447\n"
          ]
        }
      ],
      "source": [
        "# Get error rate\n",
        "print(\"Error rate of XGB classifier: \", 1 - accuracy_score(y_test, xgb_y_pred))"
      ]
    },
    {
      "cell_type": "code",
      "execution_count": 78,
      "metadata": {
        "colab": {
          "base_uri": "https://localhost:8080/"
        },
        "id": "tXAOhDBi3DPr",
        "outputId": "271945b7-f926-44b4-a61d-8a6d8e18734f"
      },
      "outputs": [
        {
          "name": "stdout",
          "output_type": "stream",
          "text": [
            "Accuracy: 95.76%\n"
          ]
        }
      ],
      "source": [
        "accuracy = accuracy_score(y_test, xgb_y_pred)\n",
        "print(\"Accuracy: %.2f%%\" % (accuracy * 100.0))"
      ]
    },
    {
      "cell_type": "code",
      "execution_count": 80,
      "metadata": {
        "colab": {
          "base_uri": "https://localhost:8080/",
          "height": 283
        },
        "id": "gmmgWCxp3TrI",
        "outputId": "df285d2e-dfdb-4349-a522-2c021f215d1b"
      },
      "outputs": [
        {
          "data": {
            "image/png": "[encoded data removed]",
            "text/plain": [
              "<Figure size 432x288 with 2 Axes>"
            ]
          },
          "metadata": {
            "needs_background": "light"
          },
          "output_type": "display_data"
        }
      ],
      "source": [
        "from sklearn.metrics import plot_confusion_matrix\n",
        "# Get confusion matrix for Gradient Boosting Classifier\n",
        "plot_confusion_matrix(xgb_model,X_test_encoded, y_test,normalize='true');"
      ]
    },
    {
      "attachments": {},
      "cell_type": "markdown",
      "metadata": {},
      "source": [
        "* For the XGB, the TP is 1 and the FN is 0. This means that our model predicted 1 site is PMTC positive correctly and 0 sites are PMTCT as negative(HTS). The recall score is 1.0 which is very good. This means that our model is able to predict 100% of the people who are HIV positive correctly."
      ]
    },
    {
      "cell_type": "code",
      "execution_count": 37,
      "metadata": {},
      "outputs": [
        {
          "ename": "NameError",
          "evalue": "name 'xgb_y_pred' is not defined",
          "output_type": "error",
          "traceback": [
            "\u001b[0;31m---------------------------------------------------------------------------\u001b[0m",
            "\u001b[0;31mNameError\u001b[0m                                 Traceback (most recent call last)",
            "Cell \u001b[0;32mIn [37], line 1\u001b[0m\n\u001b[0;32m----> 1\u001b[0m classification_report(y_test, xgb_y_pred)\n\u001b[1;32m      2\u001b[0m classification_report\n",
            "\u001b[0;31mNameError\u001b[0m: name 'xgb_y_pred' is not defined"
          ]
        }
      ],
      "source": [
        "classification_report(y_test, xgb_y_pred)\n",
        "classification_report"
      ]
    },
    {
      "cell_type": "code",
      "execution_count": 83,
      "metadata": {
        "colab": {
          "base_uri": "https://localhost:8080/",
          "height": 313
        },
        "id": "7xIcJIxe9Gcr",
        "outputId": "da64d52a-fa6a-43aa-bd3d-32b28c31ee2c"
      },
      "outputs": [
        {
          "data": {
            "image/png": "[encoded data removed]",
            "text/plain": [
              "<Figure size 432x288 with 1 Axes>"
            ]
          },
          "metadata": {
            "needs_background": "light"
          },
          "output_type": "display_data"
        },
        {
          "data": {
            "text/plain": [
              "<Figure size 1296x3600 with 0 Axes>"
            ]
          },
          "metadata": {},
          "output_type": "display_data"
        }
      ],
      "source": [
        "xgb.plot_importance(xgb_model)\n",
        "plt.figure(figsize = (18, 50))\n",
        "plt.show();"
      ]
    },
    {
      "cell_type": "code",
      "execution_count": 89,
      "metadata": {
        "colab": {
          "base_uri": "https://localhost:8080/"
        },
        "id": "W1nqDYqS9xd_",
        "outputId": "346040f2-d808-46d9-8648-d76a3b55764d"
      },
      "outputs": [
        {
          "data": {
            "text/plain": [
              "['hiv.pkl']"
            ]
          },
          "execution_count": 89,
          "metadata": {},
          "output_type": "execute_result"
        }
      ],
      "source": [
        "# Save model\n",
        "import joblib\n",
        "\n",
        "joblib.dump(xgb_model, \"hiv.pkl\")"
      ]
    },
    {
      "cell_type": "code",
      "execution_count": 90,
      "metadata": {
        "colab": {
          "base_uri": "https://localhost:8080/"
        },
        "id": "huDqy0nE-hUo",
        "outputId": "05260e5f-340c-4118-bbc3-0ee79e40bbf9"
      },
      "outputs": [
        {
          "name": "stdout",
          "output_type": "stream",
          "text": [
            "Looking in indexes: https://pypi.org/simple, https://us-python.pkg.dev/colab-wheels/public/simple/\n",
            "Collecting m2cgen\n",
            "  Downloading m2cgen-0.10.0-py3-none-any.whl (92 kB)\n",
            "\u001b[2K     \u001b[90m━━━━━━━━━━━━━━━━━━━━━━━━━━━━━━━━━━━━━━━━\u001b[0m \u001b[32m92.2/92.2 KB\u001b[0m \u001b[31m3.8 MB/s\u001b[0m eta \u001b[36m0:00:00\u001b[0m\n",
            "\u001b[?25hRequirement already satisfied: numpy in /usr/local/lib/python3.8/dist-packages (from m2cgen) (1.21.6)\n",
            "Installing collected packages: m2cgen\n",
            "Successfully installed m2cgen-0.10.0\n"
          ]
        }
      ],
      "source": [
        "model = joblib.load(\"hiv.pkl\")\n",
        "#convert model into python code \n",
        "import m2cgen as m2c \n",
        "model_to_python = m2c.export_to_python(model)\n",
        "\n",
        "# show python code \n",
        "#open text file\n",
        "text_file = open(\"model.txt\", \"w\")\n",
        "\n",
        "#write string to file\n",
        "text_file.write(model_to_python)\n",
        "\n",
        "#close file\n",
        "text_file.close()"
      ]
    },
    {
      "cell_type": "code",
      "execution_count": 31,
      "metadata": {},
      "outputs": [],
      "source": [
        "import pickle\n",
        "pickle.dump(rf_model, open('model.pkl','wb'))"
      ]
    },
    {
      "cell_type": "code",
      "execution_count": 36,
      "metadata": {},
      "outputs": [
        {
          "data": {
            "image/png": "[encoded data removed]",
            "text/plain": [
              "<Figure size 640x480 with 1 Axes>"
            ]
          },
          "metadata": {},
          "output_type": "display_data"
        }
      ],
      "source": [
        "# Pie chart showing the distribution of PMTCT and HTS\n",
        "labels = ['PMTCT', 'HTS']\n",
        "sizes = [df1.PMTCT.value_counts()[0], df1.PMTCT.value_counts()[1]]\n",
        "explode = (0, 0.1)\n",
        "fig1, ax1 = plt.subplots()\n",
        "ax1.pie(sizes, explode=explode, labels=labels, autopct='%1.1f%%',\n",
        "        shadow=True, startangle=90)\n",
        "ax1.axis('equal')\n",
        "plt.title('PMTCT and HTS')\n",
        "plt.show();"
      ]
    },
    {
      "cell_type": "code",
      "execution_count": 42,
      "metadata": {},
      "outputs": [
        {
          "data": {
            "image/png": "[encoded data removed]",
            "text/plain": [
              "<Figure size 640x480 with 1 Axes>"
            ]
          },
          "metadata": {},
          "output_type": "display_data"
        }
      ],
      "source": [
        "# Comparison of PMTCT and HTS in bar chart\n",
        "df1.PMTCT.value_counts().plot(kind='bar')\n",
        "plt.title('PMTCT and HTS')\n",
        "plt.xlabel('PMTCT and HTS')\n",
        "plt.ylabel('Count')\n",
        "plt.show();"
      ]
    },
    {
      "cell_type": "code",
      "execution_count": 43,
      "metadata": {},
      "outputs": [
        {
          "data": {
            "image/png": "[encoded data removed]",
            "text/plain": [
              "<Figure size 640x480 with 1 Axes>"
            ]
          },
          "metadata": {},
          "output_type": "display_data"
        }
      ],
      "source": [
        "# Now build on top of the PMTCT and HTS comparison to have a comparison of PMTCT and HTS in each county\n",
        "df1.groupby(['county', 'PMTCT']).size().unstack().plot(kind='bar', stacked=True)\n",
        "plt.title('PMTCT and HTS in each county')\n",
        "plt.xlabel('County')\n",
        "plt.ylabel('Count')\n",
        "plt.show();"
      ]
    },
    {
      "cell_type": "code",
      "execution_count": 45,
      "metadata": {},
      "outputs": [
        {
          "data": {
            "text/plain": [
              "<Figure size 1000x1000 with 0 Axes>"
            ]
          },
          "metadata": {},
          "output_type": "display_data"
        },
        {
          "data": {
            "image/png": "[encoded data removed]",
            "text/plain": [
              "<Figure size 640x480 with 1 Axes>"
            ]
          },
          "metadata": {},
          "output_type": "display_data"
        }
      ],
      "source": [
        "# In stead of having a stacked bar chart, we can have a side by side bar chart\n",
        "plt.figure(figsize=(10,10))\n",
        "df1.groupby(['county', 'PMTCT']).size().unstack().plot(kind='bar')\n",
        "plt.title('PMTCT and HTS in each county')\n",
        "plt.xlabel('County')\n",
        "plt.ylabel('Count')\n",
        "plt.show();\n",
        "\n",
        "# Now build on top of the PMTCT and HTS comparison to have a comparison of PMTCT and HTS in each sub-county"
      ]
    },
    {
      "cell_type": "code",
      "execution_count": 1,
      "metadata": {},
      "outputs": [
        {
          "ename": "NameError",
          "evalue": "name 'X' is not defined",
          "output_type": "error",
          "traceback": [
            "\u001b[0;31m---------------------------------------------------------------------------\u001b[0m",
            "\u001b[0;31mNameError\u001b[0m                                 Traceback (most recent call last)",
            "Cell \u001b[0;32mIn [1], line 1\u001b[0m\n\u001b[0;32m----> 1\u001b[0m X\u001b[39m.\u001b[39mcolumns\n",
            "\u001b[0;31mNameError\u001b[0m: name 'X' is not defined"
          ]
        }
      ],
      "source": [
        "X.columns"
      ]
    }
  ],
  "metadata": {
    "accelerator": "TPU",
    "colab": {
      "machine_shape": "hm",
      "provenance": []
    },
    "gpuClass": "standard",
    "kernelspec": {
      "display_name": "Python 3 (ipykernel)",
      "language": "python",
      "name": "python3"
    }
  },
  "nbformat": 4,
  "nbformat_minor": 0
}
